{
 "cells": [
  {
   "cell_type": "code",
   "execution_count": 1,
   "metadata": {},
   "outputs": [],
   "source": [
    "import pandas as pd\n",
    "import numpy as np\n",
    "\n",
    "import statistics\n",
    "import time, datetime"
   ]
  },
  {
   "cell_type": "markdown",
   "metadata": {},
   "source": [
    "#### This estimator consideres the current and 2 previous events (if they exist) to predict the next event. It's currently too inefficient to be applied to the entire dataset."
   ]
  },
  {
   "cell_type": "code",
   "execution_count": 2,
   "metadata": {},
   "outputs": [],
   "source": [
    "df_train = pd.read_csv('preprocessed_train.csv')\n",
    "test = pd.read_csv('preprocessed_test.csv')"
   ]
  },
  {
   "cell_type": "code",
   "execution_count": 7,
   "metadata": {},
   "outputs": [],
   "source": [
    "def complex_event_estimator(df, current_event, position, prev_event=None, second_prev_event=None):\n",
    "    \"\"\"An estimator for predicting the next event, makes use of the previous 2 events, if they exist\n",
    "\n",
    "    Args:\n",
    "        df (pd.DataFrame): preprocessed dataframe\n",
    "        current_event (str): the name of the current event\n",
    "        position (int): _description_\n",
    "        prev_event (str, optional): the event 1 position before the current event. Defaults to None.\n",
    "        second_prev_event (str, optional): the event 2 positions before the current event. Defaults to None.\n",
    "\n",
    "    Returns:\n",
    "        number: Return the most common next event type \n",
    "    \"\"\"\n",
    "\n",
    "    next_list=[]\n",
    "    \n",
    "    for row in df.iterrows(): \n",
    "        \n",
    "        # if 2 previous events exist and are provided, go through the data and record the next event (if it exists) \n",
    "        # every time the same 3 events (as 2nd prev, prev, current) occur in the same order\n",
    "        \n",
    "        if position >= 3:     \n",
    "            \n",
    "            # verify the data point examined also has 2 preceeding events\n",
    "            if row[1]['event concept:name'] == current_event and row[1]['position'] >= 3:\n",
    "                \n",
    "                # check if the 2 previous events in the data match the previous 2 events of our current event\n",
    "                if df.iloc[row[0]-1]['event concept:name'] == prev_event and df.iloc[row[0]-2]['event concept:name'] == second_prev_event:\n",
    "                    \n",
    "                    # check if the next event in the data is a part of the same sequence\n",
    "                    if row[1]['case concept:name'] == df.iloc[row[0]+1]['case concept:name']:\n",
    "                        \n",
    "                        # if yes, store the next event\n",
    "                        next_list.append(df.iloc[row[0]+1]['event concept:name'])\n",
    "           \n",
    "        # if only the last previous event exists, do the same but without having the 2nd previous event\n",
    "        \n",
    "        if position == 2:\n",
    "            if row[1]['event concept:name'] == current_event and row[1]['position'] >= 2:\n",
    "                if df.iloc[row[0]-1]['event concept:name'] == prev_event:\n",
    "                    if row[1]['case concept:name'] == df.iloc[row[0]+1]['case concept:name']:\n",
    "                        next_list.append(df.iloc[row[0]+1]['event concept:name'])\n",
    "           \n",
    "        # if no previous events exist, get the most common event that follows after the current one in the data\n",
    "        \n",
    "        if position == 1:\n",
    "            if row[1]['event concept:name'] == current_event:\n",
    "                if row[1]['case concept:name'] == df.iloc[row[0]+1]['case concept:name']:\n",
    "                    next_list.append(df.iloc[row[0]+1]['event concept:name'])\n",
    "\n",
    "        \n",
    "    return statistics.mode(next_list)"
   ]
  },
  {
   "cell_type": "code",
   "execution_count": 4,
   "metadata": {},
   "outputs": [],
   "source": [
    "# test['complex_event']= None\n",
    "# dct={}\n",
    "\n",
    "# for idx, row in test.iterrows():\n",
    "    \n",
    "#         next_event = complex_event_estimator(test, row['event concept:name'], \n",
    "#                                              row['position'], row['prev_event'], row['2prev_event'])\n",
    "        \n",
    "#         test['complex_event'].iloc[idx] = next_event[0]"
   ]
  },
  {
   "cell_type": "code",
   "execution_count": 9,
   "metadata": {},
   "outputs": [],
   "source": [
    "event_estimator = complex_event_estimator(df_train, 'W_Completeren aanvraag', 1, 'A_PREACCEPTED', 'A_PARTLYSUBMITTED')"
   ]
  },
  {
   "cell_type": "code",
   "execution_count": 10,
   "metadata": {},
   "outputs": [
    {
     "data": {
      "text/plain": [
       "'W_Completeren aanvraag'"
      ]
     },
     "execution_count": 10,
     "metadata": {},
     "output_type": "execute_result"
    }
   ],
   "source": [
    "event_estimator"
   ]
  },
  {
   "cell_type": "code",
   "execution_count": null,
   "metadata": {},
   "outputs": [],
   "source": []
  }
 ],
 "metadata": {
  "kernelspec": {
   "display_name": "Python 3 (ipykernel)",
   "language": "python",
   "name": "python3"
  },
  "language_info": {
   "codemirror_mode": {
    "name": "ipython",
    "version": 3
   },
   "file_extension": ".py",
   "mimetype": "text/x-python",
   "name": "python",
   "nbconvert_exporter": "python",
   "pygments_lexer": "ipython3",
   "version": "3.7.6"
  },
  "vscode": {
   "interpreter": {
    "hash": "e8ecf3d1b7816c8a562bac795b7c2fee9a5e529b79bc3cd729516b279b05f6b8"
   }
  }
 },
 "nbformat": 4,
 "nbformat_minor": 2
}
