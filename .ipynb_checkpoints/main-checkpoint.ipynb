{
 "cells": [
  {
   "cell_type": "code",
   "execution_count": 1,
   "metadata": {},
   "outputs": [
    {
     "name": "stdout",
     "output_type": "stream",
     "text": [
      "Collecting nbmerge\n",
      "  Downloading nbmerge-0.0.4.tar.gz (7.6 kB)\n",
      "  Preparing metadata (setup.py): started\n",
      "  Preparing metadata (setup.py): finished with status 'done'\n",
      "Building wheels for collected packages: nbmerge\n",
      "  Building wheel for nbmerge (setup.py): started\n",
      "  Building wheel for nbmerge (setup.py): finished with status 'done'\n",
      "  Created wheel for nbmerge: filename=nbmerge-0.0.4-py2.py3-none-any.whl size=6393 sha256=0dd7b879bede373f2b0420aa8c0e8e528481e3de70f8866c0f7e6a84e7d34761\n",
      "  Stored in directory: c:\\users\\konst\\appdata\\local\\pip\\cache\\wheels\\0b\\a8\\31\\4ae563f674b488c82ee72cfe0f86487c21532db97ae910b264\n",
      "Successfully built nbmerge\n",
      "Installing collected packages: nbmerge\n",
      "Successfully installed nbmerge-0.0.4\n"
     ]
    }
   ],
   "source": [
    "!pip install nbmerge"
   ]
  },
  {
   "cell_type": "code",
   "execution_count": 4,
   "metadata": {},
   "outputs": [],
   "source": [
    "!nbmerge preprocessing.ipynb sprint2_models.ipynb naive_time_estimation.ipynb naive_event_estimation.ipynb > merged.ipynb"
   ]
  },
  {
   "cell_type": "code",
   "execution_count": 5,
   "metadata": {},
   "outputs": [
    {
     "name": "stdout",
     "output_type": "stream",
     "text": [
      "Collecting ipynb\n",
      "  Using cached ipynb-0.5.1-py3-none-any.whl (6.9 kB)\n",
      "Installing collected packages: ipynb\n",
      "Successfully installed ipynb-0.5.1\n"
     ]
    }
   ],
   "source": [
    "!pip install ipynb"
   ]
  },
  {
   "cell_type": "code",
   "execution_count": 15,
   "metadata": {},
   "outputs": [],
   "source": [
    "import pandas as pd\n",
    "import numpy as np\n",
    "import matplotlib.pyplot as plt\n",
    "import time, datetime\n",
    "from sklearn.model_selection import train_test_split\n",
    "from sklearn.preprocessing import LabelEncoder, OrdinalEncoder\n",
    "from sklearn.metrics import mean_absolute_error, mean_squared_error, r2_score\n",
    "# import preprocessing data\n",
    "from ipynb.fs.full.preprocessing import *\n",
    "from ipynb.fs.full.naive_time_estimation import *\n",
    "from ipynb.fs.full.naive_event_estimation import *\n",
    "from ipynb.fs.full.sprint2_models import *"
   ]
  }
 ],
 "metadata": {
  "kernelspec": {
   "display_name": "Python 3 (ipykernel)",
   "language": "python",
   "name": "python3"
  },
  "language_info": {
   "codemirror_mode": {
    "name": "ipython",
    "version": 3
   },
   "file_extension": ".py",
   "mimetype": "text/x-python",
   "name": "python",
   "nbconvert_exporter": "python",
   "pygments_lexer": "ipython3",
   "version": "3.9.13"
  }
 },
 "nbformat": 4,
 "nbformat_minor": 2
}
