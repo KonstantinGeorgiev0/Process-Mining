{
 "cells": [
  {
   "cell_type": "code",
   "execution_count": null,
   "id": "dedce20e",
   "metadata": {},
   "outputs": [],
   "source": [
    "# pip install hypopt "
   ]
  },
  {
   "cell_type": "code",
   "execution_count": 1,
   "id": "21d75de0",
   "metadata": {},
   "outputs": [],
   "source": [
    "import pandas as pd\n",
    "import numpy as np\n",
    "\n",
    "import seaborn as sns\n",
    "import matplotlib.pyplot as plt\n",
    "\n",
    "from sklearn.preprocessing import LabelEncoder, OrdinalEncoder\n",
    "from sklearn.metrics import mean_absolute_error, mean_squared_error, r2_score\n",
    "from sklearn.metrics import precision_score, recall_score, f1_score, accuracy_score, confusion_matrix\n",
    "from sklearn.ensemble import RandomForestClassifier, RandomForestRegressor\n",
    "from sklearn.tree import DecisionTreeClassifier, DecisionTreeRegressor\n",
    "from sklearn.linear_model import ElasticNet\n",
    "from sklearn.preprocessing import OneHotEncoder\n",
    "from sklearn.model_selection import GridSearchCV\n",
    "from hypopt import GridSearch\n",
    "from sklearn.linear_model import ElasticNet\n",
    "import copy"
   ]
  },
  {
   "cell_type": "code",
   "execution_count": 2,
   "id": "37c42cc1",
   "metadata": {},
   "outputs": [],
   "source": [
    "train = pd.read_csv('preprocessed_train.csv')\n",
    "test = pd.read_csv('preprocessed_test.csv')"
   ]
  },
  {
   "cell_type": "markdown",
   "id": "09cd6269",
   "metadata": {},
   "source": [
    "# Removing the last event from each case to reduce noise in the models"
   ]
  },
  {
   "cell_type": "code",
   "execution_count": 3,
   "id": "c5c776fa",
   "metadata": {},
   "outputs": [],
   "source": [
    "train.drop(train.groupby('case concept:name').tail(1).index, axis=0, inplace=True)\n",
    "test.drop(test.groupby('case concept:name').tail(1).index, axis=0, inplace=True)"
   ]
  },
  {
   "cell_type": "markdown",
   "id": "767dfcb0",
   "metadata": {},
   "source": [
    "# Evaluation\n"
   ]
  },
  {
   "cell_type": "code",
   "execution_count": 4,
   "id": "e3f49aad",
   "metadata": {},
   "outputs": [],
   "source": [
    "def time_evaluation(y_test, y_pred, model: str):\n",
    "    print('\\n')\n",
    "    print(f\"Error metrics (measured in hours) for the {model} when predicting the next event's Unix timestamp\")\n",
    "    \n",
    "    print('Mean Absolute Error:', round(mean_absolute_error(y_test, y_pred)/3600,2))\n",
    "    print('Root Mean Squared Error:', round(np.sqrt(mean_squared_error(y_test, y_pred)/3600),2))\n",
    "#     print('R2 score:', round(r2_score(y_test, y_pred),2))\n",
    "    \n",
    "    \n",
    "def event_evaluation(y_test, y_pred, model: str, avg=\"weighted\"):\n",
    "\n",
    "    precision = precision_score(y_test, y_pred, average=avg, zero_division=0)\n",
    "    recall = recall_score(y_test, y_pred, average=avg, zero_division=0)\n",
    "    F1_score = f1_score(y_test, y_pred, average=avg, zero_division=0)\n",
    "    accuracy = accuracy_score(y_test, y_pred)\n",
    "    print('\\n')\n",
    "    print(f'Error metrics for the {model} when predicting the next event')\n",
    "    \n",
    "    print(f'Accuracy: {round(accuracy,2)}')\n",
    "    print(f'Precision: {round(precision,2)}')\n",
    "    print(f'Recall: {round(recall,2)}')\n",
    "    print(f'f1-score: {round(F1_score,2)}')\n",
    "#     print(confusion_matrix(y_test, y_pred))"
   ]
  },
  {
   "cell_type": "markdown",
   "id": "e3905cd0",
   "metadata": {},
   "source": [
    "# Data splitting and encoding"
   ]
  },
  {
   "cell_type": "code",
   "execution_count": 5,
   "id": "e1b9b8a9",
   "metadata": {},
   "outputs": [],
   "source": [
    "train_objs_num = train.shape[0]\n",
    "\n",
    "dataset = pd.concat(objs=[train, test], axis=0)\n",
    "\n",
    "dataset = dataset.replace({'event lifecycle:transition': {'SCHEDULE': 0, 'START': 1, 'COMPLETE': 2}})\n",
    "dataset = pd.get_dummies(dataset, prefix = ['current', 'prev', '2prev'], \n",
    "                           columns = ['event concept:name', 'prev_event', '2prev_event'])\n",
    "\n",
    "train_OHE = copy.copy(dataset[:train_objs_num])\n",
    "test_OHE = copy.copy(dataset[train_objs_num:])\n",
    "\n",
    "\n",
    "\n",
    "val_OHE = train_OHE.loc[147054:]\n",
    "train_OHE = train_OHE.loc[:147054]\n",
    "\n",
    "first_val_event_timestamp = val_OHE['event time:timestamp'].min()\n",
    "train_OHE = train_OHE.groupby('case concept:name').filter(lambda g: g['event time:timestamp'].min() < first_val_event_timestamp and g['event time:timestamp'].max() < first_val_event_timestamp)\n",
    "\n",
    "first_test_event_timestamp = test_OHE['event time:timestamp'].min()\n",
    "val_OHE = val_OHE.groupby('case concept:name').filter(lambda g: g['event time:timestamp'].min() < first_test_event_timestamp and g['event time:timestamp'].max() < first_test_event_timestamp)\n"
   ]
  },
  {
   "cell_type": "code",
   "execution_count": 6,
   "id": "060b8d83",
   "metadata": {},
   "outputs": [
    {
     "data": {
      "text/plain": [
       "((114600, 95), (33794, 95), (38911, 95))"
      ]
     },
     "execution_count": 6,
     "metadata": {},
     "output_type": "execute_result"
    }
   ],
   "source": [
    "train_OHE.shape, val_OHE.shape, test_OHE.shape"
   ]
  },
  {
   "cell_type": "code",
   "execution_count": 7,
   "id": "ff5aa1c3",
   "metadata": {},
   "outputs": [
    {
     "name": "stdout",
     "output_type": "stream",
     "text": [
      "event type that happen in the train but not the test set: []\n"
     ]
    }
   ],
   "source": [
    "lst = []\n",
    "for element in list(train_OHE.columns):\n",
    "    if element not in list(test_OHE.columns):\n",
    "        lst.append(element)\n",
    "print('event type that happen in the train but not the test set: ' + str(lst))"
   ]
  },
  {
   "cell_type": "code",
   "execution_count": 8,
   "id": "e9c442d8",
   "metadata": {},
   "outputs": [],
   "source": [
    "features_time = ['timestamp_finish', 'seconds_prev', 'active cases', 'day_week', 'time_of_day', \n",
    "                 'case AMOUNT_REQ', 'event lifecycle:transition', \n",
    "                 'current_A_ACCEPTED', 'current_A_ACTIVATED', 'current_A_APPROVED', 'current_A_CANCELLED', 'current_A_DECLINED', 'current_A_FINALIZED', 'current_A_PARTLYSUBMITTED', 'current_A_PREACCEPTED', 'current_A_REGISTERED', 'current_A_SUBMITTED', 'current_O_ACCEPTED','current_O_CANCELLED', 'current_O_CREATED', 'current_O_DECLINED','current_O_SELECTED', 'current_O_SENT', 'current_O_SENT_BACK','current_W_Afhandelen leads', 'current_W_Beoordelen fraude','current_W_Completeren aanvraag','current_W_Nabellen incomplete dossiers', 'current_W_Nabellen offertes','current_W_Valideren aanvraag', 'current_W_Wijzigen contractgegevens']\n",
    "\n",
    "# features_time_test = ['timestamp_finish', 'seconds_prev', 'active cases', 'day_week', 'time_of_day', \n",
    "#                  'case AMOUNT_REQ', 'event lifecycle:transition', \n",
    "#            'current_A_ACCEPTED', 'current_A_ACTIVATED', 'current_A_APPROVED','current_A_CANCELLED', 'current_A_DECLINED', 'current_A_FINALIZED','current_A_PARTLYSUBMITTED', 'current_A_PREACCEPTED','current_A_REGISTERED', 'current_A_SUBMITTED', 'current_O_ACCEPTED', 'current_O_CANCELLED', 'current_O_CREATED', 'current_O_DECLINED','current_O_SELECTED', 'current_O_SENT', 'current_O_SENT_BACK','current_W_Afhandelen leads', 'current_W_Beoordelen fraude','current_W_Completeren aanvraag','current_W_Nabellen incomplete dossiers', 'current_W_Nabellen offertes', 'current_W_Valideren aanvraag']\n",
    "features_time_test = features_time.copy()\n",
    "\n",
    "target_time = 'seconds_next'\n",
    "\n",
    "features_event = ['active cases', 'day_week', 'time_of_day',  \n",
    "                  'event lifecycle:transition', 'case AMOUNT_REQ', \n",
    "       'current_A_ACCEPTED', 'current_A_ACTIVATED', 'current_A_APPROVED','current_A_CANCELLED', 'current_A_DECLINED', 'current_A_FINALIZED','current_A_PARTLYSUBMITTED', 'current_A_PREACCEPTED','current_A_REGISTERED', 'current_A_SUBMITTED', 'current_O_ACCEPTED','current_O_CANCELLED', 'current_O_CREATED', 'current_O_DECLINED','current_O_SELECTED', 'current_O_SENT', 'current_O_SENT_BACK','current_W_Afhandelen leads', 'current_W_Beoordelen fraude','current_W_Completeren aanvraag','current_W_Nabellen incomplete dossiers', 'current_W_Nabellen offertes','current_W_Valideren aanvraag', 'current_W_Wijzigen contractgegevens','prev_A_ACCEPTED', 'prev_A_ACTIVATED', 'prev_A_APPROVED','prev_A_CANCELLED', 'prev_A_DECLINED', 'prev_A_FINALIZED','prev_A_PARTLYSUBMITTED', 'prev_A_PREACCEPTED', 'prev_A_REGISTERED','prev_A_SUBMITTED', 'prev_FIRST EVENT', 'prev_O_ACCEPTED', 'prev_O_CANCELLED', 'prev_O_CREATED', 'prev_O_DECLINED','prev_O_SELECTED', 'prev_O_SENT', 'prev_O_SENT_BACK','prev_W_Afhandelen leads', 'prev_W_Beoordelen fraude','prev_W_Completeren aanvraag', 'prev_W_Nabellen incomplete dossiers','prev_W_Nabellen offertes', 'prev_W_Valideren aanvraag','prev_W_Wijzigen contractgegevens', '2prev_A_ACCEPTED','2prev_A_ACTIVATED', '2prev_A_APPROVED', '2prev_A_CANCELLED','2prev_A_FINALIZED', '2prev_A_PARTLYSUBMITTED', '2prev_A_PREACCEPTED','2prev_A_REGISTERED', '2prev_A_SUBMITTED', '2prev_FIRST EVENT','2prev_O_ACCEPTED', '2prev_O_CANCELLED', '2prev_O_CREATED','2prev_O_SELECTED', '2prev_O_SENT', '2prev_O_SENT_BACK','2prev_W_Afhandelen leads', '2prev_W_Beoordelen fraude','2prev_W_Completeren aanvraag', '2prev_W_Nabellen incomplete dossiers','2prev_W_Nabellen offertes', '2prev_W_Valideren aanvraag','2prev_W_Wijzigen contractgegevens']\n",
    "\n",
    "# features_event_test = ['active cases', 'day_week', 'time_of_day',  \n",
    "#                   'event lifecycle:transition', 'case AMOUNT_REQ', \n",
    "#                        'current_A_ACCEPTED', 'current_A_ACTIVATED', 'current_A_APPROVED','current_A_CANCELLED', 'current_A_DECLINED', 'current_A_FINALIZED','current_A_PARTLYSUBMITTED', 'current_A_PREACCEPTED','current_A_REGISTERED', 'current_A_SUBMITTED', 'current_O_ACCEPTED','current_O_CANCELLED', 'current_O_CREATED', 'current_O_DECLINED','current_O_SELECTED', 'current_O_SENT', 'current_O_SENT_BACK','current_W_Afhandelen leads', 'current_W_Beoordelen fraude','current_W_Completeren aanvraag','current_W_Nabellen incomplete dossiers', 'current_W_Nabellen offertes','current_W_Valideren aanvraag','prev_A_ACCEPTED', 'prev_A_ACTIVATED', 'prev_A_APPROVED','prev_A_CANCELLED', 'prev_A_DECLINED', 'prev_A_FINALIZED','prev_A_PARTLYSUBMITTED', 'prev_A_PREACCEPTED', 'prev_A_REGISTERED','prev_A_SUBMITTED', 'prev_FIRST EVENT', 'prev_O_ACCEPTED','prev_O_CANCELLED', 'prev_O_CREATED', 'prev_O_DECLINED','prev_O_SELECTED', 'prev_O_SENT', 'prev_O_SENT_BACK','prev_W_Afhandelen leads', 'prev_W_Beoordelen fraude','prev_W_Completeren aanvraag', 'prev_W_Nabellen incomplete dossiers','prev_W_Nabellen offertes', 'prev_W_Valideren aanvraag','2prev_A_ACCEPTED', '2prev_A_ACTIVATED', '2prev_A_APPROVED','2prev_A_FINALIZED', '2prev_A_PARTLYSUBMITTED', '2prev_A_PREACCEPTED','2prev_A_REGISTERED', '2prev_A_SUBMITTED', '2prev_FIRST EVENT','2prev_O_ACCEPTED', '2prev_O_CANCELLED', '2prev_O_CREATED','2prev_O_SELECTED', '2prev_O_SENT', '2prev_O_SENT_BACK','2prev_W_Afhandelen leads', '2prev_W_Beoordelen fraude','2prev_W_Completeren aanvraag', '2prev_W_Nabellen incomplete dossiers','2prev_W_Nabellen offertes', '2prev_W_Valideren aanvraag']\n",
    "features_event_test = features_event.copy()\n",
    "\n",
    "target_event = 'next_event'\n",
    "\n",
    "\n",
    "# TIME\n",
    "X_train_time = train_OHE[features_time]\n",
    "y_train_time = train_OHE[target_time]\n",
    "\n",
    "X_val_time = val_OHE[features_time]\n",
    "y_val_time = val_OHE[target_time]\n",
    "\n",
    "X_test_time = test_OHE[features_time_test].copy()\n",
    "y_test_time = test_OHE[target_time]\n",
    "\n",
    "\n",
    "# EVENT\n",
    "X_train_event = train_OHE[features_event]\n",
    "y_train_event = train_OHE[target_event]\n",
    "\n",
    "X_val_event = val_OHE[features_event]\n",
    "y_val_event = val_OHE[target_event]\n",
    "\n",
    "X_test_event = test_OHE[features_event_test].copy()\n",
    "y_test_event = test_OHE[target_event]\n",
    "\n",
    "\n",
    "\n",
    "# X_test_time['current_W_Wijzigen contractgegevens']=-1\n",
    "# X_test_event[['current_W_Wijzigen contractgegevens', 'prev_W_Wijzigen contractgegevens', '2prev_A_CANCELLED', '2prev_W_Wijzigen contractgegevens']]=-1"
   ]
  },
  {
   "cell_type": "code",
   "execution_count": 9,
   "id": "dd763e1d",
   "metadata": {},
   "outputs": [
    {
     "data": {
      "text/plain": [
       "((114600, 77), (114600, 31), (38911, 77), (38911, 31))"
      ]
     },
     "execution_count": 9,
     "metadata": {},
     "output_type": "execute_result"
    }
   ],
   "source": [
    "X_train_event.shape, X_train_time.shape, X_test_event.shape, X_test_time.shape"
   ]
  },
  {
   "cell_type": "code",
   "execution_count": 10,
   "id": "45b3b329",
   "metadata": {},
   "outputs": [],
   "source": [
    "# ohe = OneHotEncoder().fit(train['event concept:name'].to_numpy().reshape(-1, 1))\n",
    "\n",
    "# transformed = ohe.transform(train['event concept:name'].to_numpy().reshape(-1, 1))\n",
    "# train_OHE = pd.DataFrame(transformed, columns=jobs_encoder.get_feature_names())"
   ]
  },
  {
   "cell_type": "markdown",
   "id": "13f4be7c",
   "metadata": {},
   "source": [
    "# Event prediction"
   ]
  },
  {
   "cell_type": "code",
   "execution_count": 11,
   "id": "ab9b0a28",
   "metadata": {},
   "outputs": [],
   "source": [
    "def RandomForestEvents(X_train, y_train, X_val, y_val):\n",
    "    \n",
    "    \n",
    "    params={'max_depth': [None],\n",
    "     'n_estimators': [500, 800, 1200, 1800]}\n",
    "\n",
    "    \n",
    "    forest_clf = RandomForestClassifier(bootstrap=True, criterion='gini', max_features='sqrt', random_state=42)    \n",
    "    \n",
    "    grid = GridSearch(model=forest_clf, param_grid=params, parallelize=False)\n",
    "\n",
    "    grid.fit(X_train, y_train, X_val, y_val)\n",
    "    \n",
    "    return grid.best_estimator_\n"
   ]
  },
  {
   "cell_type": "code",
   "execution_count": 12,
   "id": "c1e96c7f",
   "metadata": {},
   "outputs": [],
   "source": [
    "rf_event = RandomForestEvents(X_train_event, y_train_event, X_val_event, y_val_event)"
   ]
  },
  {
   "cell_type": "code",
   "execution_count": 13,
   "id": "6856f917",
   "metadata": {},
   "outputs": [],
   "source": [
    "rf_event_train = rf_event.predict(X_train_event)\n",
    "rf_event_val = rf_event.predict(X_val_event)\n",
    "rf_event_test = rf_event.predict(X_test_event)"
   ]
  },
  {
   "cell_type": "code",
   "execution_count": 14,
   "id": "67a637be",
   "metadata": {},
   "outputs": [
    {
     "name": "stdout",
     "output_type": "stream",
     "text": [
      "{'bootstrap': True, 'ccp_alpha': 0.0, 'class_weight': None, 'criterion': 'gini', 'max_depth': None, 'max_features': 'sqrt', 'max_leaf_nodes': None, 'max_samples': None, 'min_impurity_decrease': 0.0, 'min_impurity_split': None, 'min_samples_leaf': 1, 'min_samples_split': 2, 'min_weight_fraction_leaf': 0.0, 'n_estimators': 50, 'n_jobs': None, 'oob_score': False, 'random_state': 0, 'verbose': 0, 'warm_start': False}\n",
      "\n",
      "\n",
      "Error metrics for the RF EVENT TRAIN when predicting the next event\n",
      "Accuracy: 0.92\n",
      "Precision: 0.92\n",
      "Recall: 0.92\n",
      "f1-score: 0.92\n",
      "\n",
      "\n",
      "Error metrics for the RF EVENT VAL when predicting the next event\n",
      "Accuracy: 0.79\n",
      "Precision: 0.78\n",
      "Recall: 0.79\n",
      "f1-score: 0.78\n",
      "\n",
      "\n",
      "Error metrics for the RF EVENT TEST when predicting the next event\n",
      "Accuracy: 0.81\n",
      "Precision: 0.8\n",
      "Recall: 0.81\n",
      "f1-score: 0.81\n"
     ]
    }
   ],
   "source": [
    "print(rf_event.get_params())\n",
    "\n",
    "event_evaluation(y_train_event, rf_event_train, 'RF EVENT TRAIN')\n",
    "event_evaluation(y_val_event, rf_event_val, 'RF EVENT VAL')\n",
    "event_evaluation(y_test_event, rf_event_test, 'RF EVENT TEST')"
   ]
  },
  {
   "cell_type": "code",
   "execution_count": 43,
   "id": "d19d46a2",
   "metadata": {
    "scrolled": true
   },
   "outputs": [
    {
     "data": {
      "text/plain": [
       "{'active cases': 0.00011947709507541567,\n",
       " 'day_week': 0.024820746962539556,\n",
       " 'time_of_day': 0.06013903563604539,\n",
       " 'event lifecycle:transition': 0.04281649298793064,\n",
       " 'case AMOUNT_REQ': 0.10432306916647882,\n",
       " 'current_A_ACCEPTED': 0.011782490573607453,\n",
       " 'current_A_ACTIVATED': 0.002367069304498333,\n",
       " 'current_A_APPROVED': 0.0031558481783923696,\n",
       " 'current_A_CANCELLED': 0.006086892423604019,\n",
       " 'current_A_DECLINED': 0.008451545976532951,\n",
       " 'current_A_FINALIZED': 0.007416561640944685,\n",
       " 'current_A_PARTLYSUBMITTED': 0.007940892124245962,\n",
       " 'current_A_PREACCEPTED': 0.02275893288682289,\n",
       " 'current_A_REGISTERED': 0.002380425211632206,\n",
       " 'current_A_SUBMITTED': 0.029118400629182254,\n",
       " 'current_O_ACCEPTED': 0.003550584544147582,\n",
       " 'current_O_CANCELLED': 0.006287051757252049,\n",
       " 'current_O_CREATED': 0.02542212414435273,\n",
       " 'current_O_DECLINED': 0.0024770008808909076,\n",
       " 'current_O_SELECTED': 0.014389295749890492,\n",
       " 'current_O_SENT': 0.01373686089232643,\n",
       " 'current_O_SENT_BACK': 0.012462086406648578,\n",
       " 'current_W_Afhandelen leads': 0.015208232715161614,\n",
       " 'current_W_Beoordelen fraude': 0.0009224868437868338,\n",
       " 'current_W_Completeren aanvraag': 0.04775279643694222,\n",
       " 'current_W_Nabellen incomplete dossiers': 0.022158359003745156,\n",
       " 'current_W_Nabellen offertes': 0.04043910220154549,\n",
       " 'current_W_Valideren aanvraag': 0.009305465325813904,\n",
       " 'current_W_Wijzigen contractgegevens': 2.9599469363214337e-05,\n",
       " 'prev_A_ACCEPTED': 0.0058191098597384,\n",
       " 'prev_A_ACTIVATED': 0.0013076415668994204,\n",
       " 'prev_A_APPROVED': 0.0017199683224023911,\n",
       " 'prev_A_CANCELLED': 0.0014559783488239358,\n",
       " 'prev_A_DECLINED': 0.0008003933061371607,\n",
       " 'prev_A_FINALIZED': 0.0030067643368134993,\n",
       " 'prev_A_PARTLYSUBMITTED': 0.008668171421318586,\n",
       " 'prev_A_PREACCEPTED': 0.0051677673109806165,\n",
       " 'prev_A_REGISTERED': 0.001216981577340115,\n",
       " 'prev_A_SUBMITTED': 0.013792700780452938,\n",
       " 'prev_FIRST EVENT': 0.02517655251792039,\n",
       " 'prev_O_ACCEPTED': 0.0020819995055849343,\n",
       " 'prev_O_CANCELLED': 0.0025536846724960264,\n",
       " 'prev_O_CREATED': 0.009506488672316397,\n",
       " 'prev_O_DECLINED': 0.000816959318559242,\n",
       " 'prev_O_SELECTED': 0.008661447502819875,\n",
       " 'prev_O_SENT': 0.0038519581865968356,\n",
       " 'prev_O_SENT_BACK': 0.006120926529750195,\n",
       " 'prev_W_Afhandelen leads': 0.010712024121638217,\n",
       " 'prev_W_Beoordelen fraude': 0.000957153532500925,\n",
       " 'prev_W_Completeren aanvraag': 0.03931172599566539,\n",
       " 'prev_W_Nabellen incomplete dossiers': 0.03465330511332113,\n",
       " 'prev_W_Nabellen offertes': 0.050351374797006444,\n",
       " 'prev_W_Valideren aanvraag': 0.02146297485862479,\n",
       " 'prev_W_Wijzigen contractgegevens': 1.8583165472035777e-05,\n",
       " '2prev_A_ACCEPTED': 0.0151667951415585,\n",
       " '2prev_A_ACTIVATED': 0.0009476621287460471,\n",
       " '2prev_A_APPROVED': 0.0010603603495385739,\n",
       " '2prev_A_CANCELLED': 4.360298536404598e-06,\n",
       " '2prev_A_FINALIZED': 0.0012419511365366301,\n",
       " '2prev_A_PARTLYSUBMITTED': 0.011351197693295121,\n",
       " '2prev_A_PREACCEPTED': 0.0042139444983964455,\n",
       " '2prev_A_REGISTERED': 0.000926063316343711,\n",
       " '2prev_A_SUBMITTED': 0.008584415937737087,\n",
       " '2prev_FIRST EVENT': 0.02110983598184648,\n",
       " '2prev_O_ACCEPTED': 0.0013500291227736382,\n",
       " '2prev_O_CANCELLED': 0.0004504834027682144,\n",
       " '2prev_O_CREATED': 0.006454105810711564,\n",
       " '2prev_O_SELECTED': 0.0034678277109006267,\n",
       " '2prev_O_SENT': 0.011265119605968384,\n",
       " '2prev_O_SENT_BACK': 0.006256247978461837,\n",
       " '2prev_W_Afhandelen leads': 0.016247675155029347,\n",
       " '2prev_W_Beoordelen fraude': 0.0008150365145976191,\n",
       " '2prev_W_Completeren aanvraag': 0.01849703667361545,\n",
       " '2prev_W_Nabellen incomplete dossiers': 0.02168990319006272,\n",
       " '2prev_W_Nabellen offertes': 0.03331613064706168,\n",
       " '2prev_W_Valideren aanvraag': 0.008554066232919877,\n",
       " '2prev_W_Wijzigen contractgegevens': 1.818898201403483e-05}"
      ]
     },
     "execution_count": 43,
     "metadata": {},
     "output_type": "execute_result"
    }
   ],
   "source": [
    "rf_event_features = dict(zip(features_event, rf_event.feature_importances_))\n",
    "\n",
    "rf_event_features\n",
    "\n",
    "# some categories of current, prev, 2prev event are very useful for next event -> current, prev, 2prev are good features"
   ]
  },
  {
   "cell_type": "markdown",
   "id": "21e560f4",
   "metadata": {},
   "source": [
    "# Time prediction"
   ]
  },
  {
   "cell_type": "code",
   "execution_count": 16,
   "id": "2d5e0b14",
   "metadata": {},
   "outputs": [],
   "source": [
    "def RandomForestTime(X_train, y_train, X_val, y_val):\n",
    "    \n",
    "    \n",
    "    params={'max_depth': [None],\n",
    "     'n_estimators': [500, 800, 1200, 1800]}\n",
    "\n",
    "    forest_reg = RandomForestRegressor(bootstrap = True, max_features='sqrt', random_state=42)\n",
    "    \n",
    "    grid = GridSearch(model=forest_reg, param_grid=params, parallelize=False)\n",
    "\n",
    "    grid.fit(X_train, y_train, X_val, y_val)\n",
    "    \n",
    "    return grid.best_estimator_\n"
   ]
  },
  {
   "cell_type": "code",
   "execution_count": 17,
   "id": "4a287bfa",
   "metadata": {},
   "outputs": [],
   "source": [
    "rf_time = RandomForestTime(X_train_time, y_train_time, X_val_time, y_val_time)"
   ]
  },
  {
   "cell_type": "code",
   "execution_count": 18,
   "id": "44bc06a6",
   "metadata": {},
   "outputs": [],
   "source": [
    "rf_time_train = rf_time.predict(X_train_time)\n",
    "rf_time_val = rf_time.predict(X_val_time)\n",
    "rf_time_test = rf_time.predict(X_test_time)"
   ]
  },
  {
   "cell_type": "code",
   "execution_count": 19,
   "id": "8883474e",
   "metadata": {},
   "outputs": [
    {
     "name": "stdout",
     "output_type": "stream",
     "text": [
      "{'bootstrap': True, 'ccp_alpha': 0.0, 'criterion': 'mse', 'max_depth': None, 'max_features': 'sqrt', 'max_leaf_nodes': None, 'max_samples': None, 'min_impurity_decrease': 0.0, 'min_impurity_split': None, 'min_samples_leaf': 1, 'min_samples_split': 2, 'min_weight_fraction_leaf': 0.0, 'n_estimators': 50, 'n_jobs': None, 'oob_score': False, 'random_state': 0, 'verbose': 0, 'warm_start': False}\n",
      "\n",
      "\n",
      "Error metrics (measured in hours) for the RF TIME TRAIN when predicting the next event's Unix timestamp\n",
      "Mean Absolute Error: 3.25\n",
      "Root Mean Squared Error: 709.76\n",
      "\n",
      "\n",
      "Error metrics (measured in hours) for the RF TIME VAL when predicting the next event's Unix timestamp\n",
      "Mean Absolute Error: 7.6\n",
      "Root Mean Squared Error: 1748.99\n",
      "\n",
      "\n",
      "Error metrics (measured in hours) for the RF TIME TEST when predicting the next event's Unix timestamp\n",
      "Mean Absolute Error: 9.05\n",
      "Root Mean Squared Error: 1897.07\n"
     ]
    }
   ],
   "source": [
    "print(rf_time.get_params())\n",
    "\n",
    "time_evaluation(y_train_time, rf_time_train, 'RF TIME TRAIN')\n",
    "time_evaluation(y_val_time, rf_time_val, 'RF TIME VAL')\n",
    "time_evaluation(y_test_time, rf_time_test, 'RF TIME TEST')"
   ]
  },
  {
   "cell_type": "code",
   "execution_count": 45,
   "id": "ee6cc5f3",
   "metadata": {},
   "outputs": [
    {
     "data": {
      "text/plain": [
       "{'timestamp_finish': 0.2243940517374157,\n",
       " 'seconds_prev': 0.30303430245697843,\n",
       " 'active cases': 0.00011317513440475242,\n",
       " 'day_week': 0.04041619836782698,\n",
       " 'time_of_day': 0.06835446834755127,\n",
       " 'case AMOUNT_REQ': 0.12532327283483394,\n",
       " 'event lifecycle:transition': 0.09193534964528795,\n",
       " 'current_A_ACCEPTED': 0.002350422029149343,\n",
       " 'current_A_ACTIVATED': 6.925558321589428e-05,\n",
       " 'current_A_APPROVED': 9.573732137159489e-05,\n",
       " 'current_A_CANCELLED': 0.0007559085204182952,\n",
       " 'current_A_DECLINED': 0.002593765622419306,\n",
       " 'current_A_FINALIZED': 0.0009758217528619943,\n",
       " 'current_A_PARTLYSUBMITTED': 0.0031856179999272174,\n",
       " 'current_A_PREACCEPTED': 0.003162301158400756,\n",
       " 'current_A_REGISTERED': 0.00010216527914579641,\n",
       " 'current_A_SUBMITTED': 0.0022362473858487304,\n",
       " 'current_O_ACCEPTED': 0.0001472687827287863,\n",
       " 'current_O_CANCELLED': 0.0007565113007666169,\n",
       " 'current_O_CREATED': 0.0036181219705798727,\n",
       " 'current_O_DECLINED': 6.972259651017639e-05,\n",
       " 'current_O_SELECTED': 0.0015403150006980016,\n",
       " 'current_O_SENT': 0.0005606936009601907,\n",
       " 'current_O_SENT_BACK': 0.0015192358564716931,\n",
       " 'current_W_Afhandelen leads': 0.0026643423938861894,\n",
       " 'current_W_Beoordelen fraude': 0.00019704425183173546,\n",
       " 'current_W_Completeren aanvraag': 0.02458745295325406,\n",
       " 'current_W_Nabellen incomplete dossiers': 0.003989551520640324,\n",
       " 'current_W_Nabellen offertes': 0.08885132634902154,\n",
       " 'current_W_Valideren aanvraag': 0.002371215259917221,\n",
       " 'current_W_Wijzigen contractgegevens': 2.913698567567564e-05}"
      ]
     },
     "execution_count": 45,
     "metadata": {},
     "output_type": "execute_result"
    }
   ],
   "source": [
    "rf_time_features = dict(zip(features_time, rf_time.feature_importances_))\n",
    "\n",
    "rf_time_features\n",
    "\n",
    "# current event, current and prev time, note that active cases is relatively unimportant here too, mention cyclical time too"
   ]
  },
  {
   "cell_type": "markdown",
   "id": "920f0130",
   "metadata": {},
   "source": [
    "# Decision Tree event"
   ]
  },
  {
   "cell_type": "code",
   "execution_count": 21,
   "id": "42c53b89",
   "metadata": {},
   "outputs": [],
   "source": [
    "def DecisionTreeEvent(X_train, y_train, X_val, y_val):\n",
    "\n",
    "\n",
    "    params={'max_depth': [8, 16, 32, 64, 128, None]}\n",
    "\n",
    "    tree_clf = DecisionTreeClassifier(random_state=42)\n",
    "    \n",
    "    grid = GridSearch(model=tree_clf, param_grid=params, parallelize=False)\n",
    "\n",
    "    grid.fit(X_train, y_train, X_val, y_val)\n",
    "    \n",
    "    return grid.best_estimator_\n",
    "\n"
   ]
  },
  {
   "cell_type": "code",
   "execution_count": 22,
   "id": "7ce0a7c4",
   "metadata": {},
   "outputs": [],
   "source": [
    "dt_event = DecisionTreeEvent(X_train_event, y_train_event, X_val_event, y_val_event)"
   ]
  },
  {
   "cell_type": "code",
   "execution_count": 23,
   "id": "eee6565f",
   "metadata": {},
   "outputs": [],
   "source": [
    "dt_event_train = dt_event.predict(X_train_event)\n",
    "dt_event_val = dt_event.predict(X_val_event)\n",
    "dt_event_test = dt_event.predict(X_test_event)"
   ]
  },
  {
   "cell_type": "code",
   "execution_count": 24,
   "id": "9c544c38",
   "metadata": {},
   "outputs": [
    {
     "name": "stdout",
     "output_type": "stream",
     "text": [
      "{'ccp_alpha': 0.0, 'class_weight': None, 'criterion': 'gini', 'max_depth': None, 'max_features': None, 'max_leaf_nodes': None, 'min_impurity_decrease': 0.0, 'min_impurity_split': None, 'min_samples_leaf': 1, 'min_samples_split': 2, 'min_weight_fraction_leaf': 0.0, 'random_state': 0, 'splitter': 'best'}\n",
      "\n",
      "\n",
      "Error metrics for the DT EVENT TRAIN when predicting the next event\n",
      "Accuracy: 0.92\n",
      "Precision: 0.92\n",
      "Recall: 0.92\n",
      "f1-score: 0.92\n",
      "\n",
      "\n",
      "Error metrics for the DT EVENT VAL when predicting the next event\n",
      "Accuracy: 0.77\n",
      "Precision: 0.78\n",
      "Recall: 0.77\n",
      "f1-score: 0.77\n",
      "\n",
      "\n",
      "Error metrics for the DT EVENT TEST when predicting the next event\n",
      "Accuracy: 0.79\n",
      "Precision: 0.8\n",
      "Recall: 0.79\n",
      "f1-score: 0.8\n"
     ]
    }
   ],
   "source": [
    "print(dt_event.get_params())\n",
    "\n",
    "event_evaluation(y_train_event, dt_event_train, 'DT EVENT TRAIN')\n",
    "event_evaluation(y_val_event, dt_event_val, 'DT EVENT VAL')\n",
    "event_evaluation(y_test_event, dt_event_test, 'DT EVENT TEST')"
   ]
  },
  {
   "cell_type": "code",
   "execution_count": 46,
   "id": "55d1e21f",
   "metadata": {},
   "outputs": [
    {
     "data": {
      "text/plain": [
       "{'active cases': 0.00010871844903737872,\n",
       " 'day_week': 0.03477333290806445,\n",
       " 'time_of_day': 0.05001588810171122,\n",
       " 'event lifecycle:transition': 0.031735095489763006,\n",
       " 'case AMOUNT_REQ': 0.0747109996641813,\n",
       " 'current_A_ACCEPTED': 0.003722387433179566,\n",
       " 'current_A_ACTIVATED': 0.0028321635818129467,\n",
       " 'current_A_APPROVED': 0.005153060018560649,\n",
       " 'current_A_CANCELLED': 0.012628546753077013,\n",
       " 'current_A_DECLINED': 0.009664028203280392,\n",
       " 'current_A_FINALIZED': 2.0618446285064007e-05,\n",
       " 'current_A_PARTLYSUBMITTED': 0.0,\n",
       " 'current_A_PREACCEPTED': 0.031348989497806845,\n",
       " 'current_A_REGISTERED': 0.0028197117630874803,\n",
       " 'current_A_SUBMITTED': 0.07461430843886468,\n",
       " 'current_O_ACCEPTED': 0.0057046432689246114,\n",
       " 'current_O_CANCELLED': 0.010651903918637679,\n",
       " 'current_O_CREATED': 0.035241001379647016,\n",
       " 'current_O_DECLINED': 0.003864991157721397,\n",
       " 'current_O_SELECTED': 0.02364483333639318,\n",
       " 'current_O_SENT': 0.03067079519712621,\n",
       " 'current_O_SENT_BACK': 0.026510106896761382,\n",
       " 'current_W_Afhandelen leads': 1.4810763988504552e-05,\n",
       " 'current_W_Beoordelen fraude': 0.0008945326432224271,\n",
       " 'current_W_Completeren aanvraag': 0.09450683284709993,\n",
       " 'current_W_Nabellen incomplete dossiers': 0.003336991362043898,\n",
       " 'current_W_Nabellen offertes': 0.02303582581186574,\n",
       " 'current_W_Valideren aanvraag': 0.014546239851095481,\n",
       " 'current_W_Wijzigen contractgegevens': 7.512092471648791e-05,\n",
       " 'prev_A_ACCEPTED': 0.0027819285562274607,\n",
       " 'prev_A_ACTIVATED': 0.00024674081172484415,\n",
       " 'prev_A_APPROVED': 0.0016558842684811872,\n",
       " 'prev_A_CANCELLED': 2.6659375179308197e-05,\n",
       " 'prev_A_DECLINED': 0.0,\n",
       " 'prev_A_FINALIZED': 0.00017665202139016307,\n",
       " 'prev_A_PARTLYSUBMITTED': 0.01379645217856416,\n",
       " 'prev_A_PREACCEPTED': 0.00975442146408235,\n",
       " 'prev_A_REGISTERED': 0.0011924494218099354,\n",
       " 'prev_A_SUBMITTED': 0.0,\n",
       " 'prev_FIRST EVENT': 0.0,\n",
       " 'prev_O_ACCEPTED': 0.001511840579762346,\n",
       " 'prev_O_CANCELLED': 0.0,\n",
       " 'prev_O_CREATED': 0.0,\n",
       " 'prev_O_DECLINED': 0.0,\n",
       " 'prev_O_SELECTED': 0.006020931672606795,\n",
       " 'prev_O_SENT': 0.0,\n",
       " 'prev_O_SENT_BACK': 0.0,\n",
       " 'prev_W_Afhandelen leads': 0.01062723673952508,\n",
       " 'prev_W_Beoordelen fraude': 0.0023037359478501832,\n",
       " 'prev_W_Completeren aanvraag': 0.015573802464022514,\n",
       " 'prev_W_Nabellen incomplete dossiers': 0.0700225362260584,\n",
       " 'prev_W_Nabellen offertes': 0.10117432975926517,\n",
       " 'prev_W_Valideren aanvraag': 0.03507054819884591,\n",
       " 'prev_W_Wijzigen contractgegevens': 1.109745849258026e-05,\n",
       " '2prev_A_ACCEPTED': 0.025913054119374772,\n",
       " '2prev_A_ACTIVATED': 0.001176752957902582,\n",
       " '2prev_A_APPROVED': 0.0014215515659829448,\n",
       " '2prev_A_CANCELLED': 0.0,\n",
       " '2prev_A_FINALIZED': 0.0,\n",
       " '2prev_A_PARTLYSUBMITTED': 0.0002794150893757004,\n",
       " '2prev_A_PREACCEPTED': 2.994352778918771e-05,\n",
       " '2prev_A_REGISTERED': 0.002007649709736931,\n",
       " '2prev_A_SUBMITTED': 0.0,\n",
       " '2prev_FIRST EVENT': 0.008750666021372217,\n",
       " '2prev_O_ACCEPTED': 0.0016905749565772096,\n",
       " '2prev_O_CANCELLED': 0.0002499268040539696,\n",
       " '2prev_O_CREATED': 0.0,\n",
       " '2prev_O_SELECTED': 3.7986165834310285e-05,\n",
       " '2prev_O_SENT': 1.2959418489941486e-05,\n",
       " '2prev_O_SENT_BACK': 0.0,\n",
       " '2prev_W_Afhandelen leads': 0.021925424431149792,\n",
       " '2prev_W_Beoordelen fraude': 0.0001241863145130569,\n",
       " '2prev_W_Completeren aanvraag': 0.02421160288226588,\n",
       " '2prev_W_Nabellen incomplete dossiers': 0.0020461108469356794,\n",
       " '2prev_W_Nabellen offertes': 0.026663701975968925,\n",
       " '2prev_W_Valideren aanvraag': 0.004664767960832548,\n",
       " '2prev_W_Wijzigen contractgegevens': 0.0}"
      ]
     },
     "execution_count": 46,
     "metadata": {},
     "output_type": "execute_result"
    }
   ],
   "source": [
    "dt_event_features = dict(zip(features_event, dt_event.feature_importances_))\n",
    "\n",
    "dt_event_features"
   ]
  },
  {
   "cell_type": "code",
   "execution_count": 26,
   "id": "08af4a6c",
   "metadata": {},
   "outputs": [
    {
     "data": {
      "text/plain": [
       "48"
      ]
     },
     "execution_count": 26,
     "metadata": {},
     "output_type": "execute_result"
    }
   ],
   "source": [
    "dt_event.get_depth()"
   ]
  },
  {
   "cell_type": "markdown",
   "id": "7b303390",
   "metadata": {},
   "source": [
    "# Decision tree time"
   ]
  },
  {
   "cell_type": "code",
   "execution_count": 27,
   "id": "9f096c65",
   "metadata": {},
   "outputs": [],
   "source": [
    "def DecisionTreeTime(X_train, y_train, X_val, y_val):\n",
    "\n",
    "    params={'max_depth': [8, 16, 32, 64, 128, None]}\n",
    "\n",
    "    tree_reg = DecisionTreeRegressor(random_state=42)\n",
    "    \n",
    "    grid = GridSearch(model=tree_reg, param_grid=params, parallelize=False)\n",
    "\n",
    "    grid.fit(X_train, y_train, X_val, y_val)\n",
    "    \n",
    "    return grid.best_estimator_\n",
    "\n"
   ]
  },
  {
   "cell_type": "code",
   "execution_count": 28,
   "id": "dd5aa654",
   "metadata": {},
   "outputs": [],
   "source": [
    "dt_time = DecisionTreeTime(X_train_time, y_train_time, X_val_time, y_val_time)"
   ]
  },
  {
   "cell_type": "code",
   "execution_count": 29,
   "id": "97774d88",
   "metadata": {},
   "outputs": [],
   "source": [
    "dt_time_train = dt_time.predict(X_train_time)\n",
    "dt_time_val = dt_time.predict(X_val_time)\n",
    "dt_time_test = dt_time.predict(X_test_time)"
   ]
  },
  {
   "cell_type": "code",
   "execution_count": 30,
   "id": "e1724247",
   "metadata": {},
   "outputs": [
    {
     "name": "stdout",
     "output_type": "stream",
     "text": [
      "{'ccp_alpha': 0.0, 'criterion': 'mse', 'max_depth': None, 'max_features': None, 'max_leaf_nodes': None, 'min_impurity_decrease': 0.0, 'min_impurity_split': None, 'min_samples_leaf': 1, 'min_samples_split': 2, 'min_weight_fraction_leaf': 0.0, 'random_state': 0, 'splitter': 'best'}\n",
      "\n",
      "\n",
      "Error metrics (measured in hours) for the DT TIME TRAIN when predicting the next event's Unix timestamp\n",
      "Mean Absolute Error: 0.0\n",
      "Root Mean Squared Error: 0.0\n",
      "\n",
      "\n",
      "Error metrics (measured in hours) for the DT TIME VAL when predicting the next event's Unix timestamp\n",
      "Mean Absolute Error: 8.24\n",
      "Root Mean Squared Error: 2093.13\n",
      "\n",
      "\n",
      "Error metrics (measured in hours) for the DT TIME TEST when predicting the next event's Unix timestamp\n",
      "Mean Absolute Error: 10.24\n",
      "Root Mean Squared Error: 2404.93\n"
     ]
    }
   ],
   "source": [
    "print(dt_time.get_params())\n",
    "\n",
    "time_evaluation(y_train_time, dt_time_train, 'DT TIME TRAIN')\n",
    "time_evaluation(y_val_time, dt_time_val, 'DT TIME VAL')\n",
    "time_evaluation(y_test_time, dt_time_test, 'DT TIME TEST')"
   ]
  },
  {
   "cell_type": "code",
   "execution_count": 50,
   "id": "dbf694c4",
   "metadata": {},
   "outputs": [
    {
     "data": {
      "text/plain": [
       "{'timestamp_finish': 0.24003062575618003,\n",
       " 'seconds_prev': 0.2706353103027644,\n",
       " 'active cases': 2.716685486968852e-05,\n",
       " 'day_week': 0.04584551769449599,\n",
       " 'time_of_day': 0.06246247037062935,\n",
       " 'case AMOUNT_REQ': 0.10685930044380547,\n",
       " 'event lifecycle:transition': 0.19110169545905775,\n",
       " 'current_A_ACCEPTED': 4.526081227121611e-08,\n",
       " 'current_A_ACTIVATED': 9.910098331613159e-13,\n",
       " 'current_A_APPROVED': 9.29382532881499e-10,\n",
       " 'current_A_CANCELLED': 1.0483483238714222e-08,\n",
       " 'current_A_DECLINED': 6.793258404359787e-12,\n",
       " 'current_A_FINALIZED': 3.531226823559454e-12,\n",
       " 'current_A_PARTLYSUBMITTED': 3.1007354571091215e-09,\n",
       " 'current_A_PREACCEPTED': 1.2960836668159157e-13,\n",
       " 'current_A_REGISTERED': 6.76732531746585e-13,\n",
       " 'current_A_SUBMITTED': 9.690105958707387e-12,\n",
       " 'current_O_ACCEPTED': 2.1430668258002979e-13,\n",
       " 'current_O_CANCELLED': 1.07214095320976e-12,\n",
       " 'current_O_CREATED': 1.8823487801523044e-16,\n",
       " 'current_O_DECLINED': 4.950656997995056e-13,\n",
       " 'current_O_SELECTED': 2.7691368619948167e-12,\n",
       " 'current_O_SENT': 3.805156702355676e-14,\n",
       " 'current_O_SENT_BACK': 5.80600076043729e-14,\n",
       " 'current_W_Afhandelen leads': 2.0717141919565853e-05,\n",
       " 'current_W_Beoordelen fraude': 0.00017368544048537973,\n",
       " 'current_W_Completeren aanvraag': 0.020918131050693477,\n",
       " 'current_W_Nabellen incomplete dossiers': 0.0015975790779902098,\n",
       " 'current_W_Nabellen offertes': 0.060158735752619166,\n",
       " 'current_W_Valideren aanvraag': 0.0001434547161227154,\n",
       " 'current_W_Wijzigen contractgegevens': 2.5550137494624485e-05}"
      ]
     },
     "execution_count": 50,
     "metadata": {},
     "output_type": "execute_result"
    }
   ],
   "source": [
    "dt_time_features = dict(zip(features_time, dt_time.feature_importances_))\n",
    "\n",
    "dt_time_features\n",
    "\n",
    "# active cases is stronger here"
   ]
  },
  {
   "cell_type": "code",
   "execution_count": 32,
   "id": "0dde5163",
   "metadata": {},
   "outputs": [
    {
     "data": {
      "text/plain": [
       "53"
      ]
     },
     "execution_count": 32,
     "metadata": {},
     "output_type": "execute_result"
    }
   ],
   "source": [
    "dt_time.get_depth()"
   ]
  },
  {
   "cell_type": "markdown",
   "id": "8f00f27b",
   "metadata": {},
   "source": [
    "## Time, Memory and CPU usage"
   ]
  },
  {
   "cell_type": "markdown",
   "id": "dcf19112",
   "metadata": {},
   "source": [
    "### Memory and CPU usage"
   ]
  },
  {
   "cell_type": "code",
   "execution_count": null,
   "id": "1dd1100b",
   "metadata": {},
   "outputs": [],
   "source": [
    "import psutil\n",
    "import time\n",
    "\n",
    "# start measuring CPU and memory usage\n",
    "process = psutil.Process()\n",
    "\n",
    "# start point\n",
    "start_time = time.time()\n",
    "\n",
    "forest_event, y_pred_event = RandomForestEvents(X_train, X_test, y_train, y_test)\n",
    "event_evaluation(y_test['next_event'], y_pred_event, 'Random forest classifier')\n",
    "# forest_time, y_pred_time = RandomForestTime(X_train, X_test, y_train, y_test)\n",
    "# time_evaluation(y_test['next_timestamp'], y_pred_time, 'Random forest regressor')\n",
    "# end point\n",
    "end_time = time.time()\n",
    "\n",
    "# calculate time taken\n",
    "elapsed_time = end_time - start_time\n",
    "print(f\"Time taken: {elapsed_time:.2f} seconds\")\n",
    "\n",
    "# measure CPU and memory usage\n",
    "cpu_usage = process.cpu_percent()\n",
    "memory_usage = process.memory_info().rss / 1024 / 1024  # in MB\n",
    "print(f\"CPU usage: {cpu_usage:.2f}%\")\n",
    "print(f\"Memory usage: {memory_usage:.2f} MB\")"
   ]
  },
  {
   "cell_type": "markdown",
   "id": "f137ef97",
   "metadata": {},
   "source": [
    "### Time usage"
   ]
  },
  {
   "cell_type": "code",
   "execution_count": null,
   "id": "1fe49a4d",
   "metadata": {},
   "outputs": [],
   "source": [
    "start_time = time.time()\n",
    "\n",
    "# RandomForestEvents function\n",
    "forest_event, y_pred_event = RandomForestEvents(X_train, X_test, y_train, y_test)\n",
    "\n",
    "# event_evaluation function\n",
    "event_evaluation(y_test['next_event'], y_pred_event, 'Random forest classifier')\n",
    "\n",
    "print(f\"Time taken by RandomForestEvents: {time.time() - start_time} seconds\")\n",
    "\n",
    "start_time = time.time()\n",
    "\n",
    "# RandomForestTime function\n",
    "forest_time, y_pred_time = RandomForestTime(X_train, X_test, y_train, y_test)\n",
    "\n",
    "# # time_evaluation function\n",
    "# time_evaluation(y_test['next_timestamp'], y_pred_time, 'Random forest regressor')\n",
    "\n",
    "print(f\"Time taken by RandomForestTime: {time.time() - start_time} seconds\")"
   ]
  },
  {
   "cell_type": "markdown",
   "id": "df63fa04",
   "metadata": {},
   "source": [
    "# Visualizations"
   ]
  },
  {
   "cell_type": "markdown",
   "id": "7f09b391",
   "metadata": {},
   "source": [
    "### Confusion matrix for Random Forest estimator"
   ]
  },
  {
   "cell_type": "code",
   "execution_count": null,
   "id": "42b18b52",
   "metadata": {},
   "outputs": [],
   "source": [
    "cm = confusion_matrix(y_test['next_event'], y_pred_event, normalize='true')\n",
    "\n",
    "# plot confusion matrix as a heatmap\n",
    "sns.set(font_scale=1.2)\n",
    "fig, ax = plt.subplots(figsize=(10,8), facecolor='w')  # add facecolor attribute\n",
    "sns.heatmap(cm, fmt='g', cmap='RdBu_r', ax=ax, annot_kws={\"size\": 14})\n",
    "ax.set_xlabel('Predicted labels', fontsize=14)\n",
    "ax.set_ylabel('True labels', fontsize=14)\n",
    "ax.set_title('Confusion matrix for Random Forest estimator', fontsize=16)\n",
    "plt.show()"
   ]
  },
  {
   "cell_type": "markdown",
   "id": "d2af3518",
   "metadata": {},
   "source": [
    "### Naive and Random Forest estimators accuracy and precision"
   ]
  },
  {
   "cell_type": "code",
   "execution_count": null,
   "id": "6d3384ff",
   "metadata": {},
   "outputs": [],
   "source": [
    "# plot the naive and random forest f1, acc, pre, recall\n",
    "metrics_df = pd.DataFrame({\n",
    "    ' ': ['F1 Score', 'Accuracy', 'Precision', 'Recall'],\n",
    "    'Naive': ['0.266', '0.346', '0.297', '0.346'],\n",
    "    'Random Forest': ['0.748', '0.785', '0.772', '0.785']    \n",
    "})\n",
    "\n",
    "metrics_df.to_string(index=False)\n",
    "metrics_df"
   ]
  },
  {
   "cell_type": "markdown",
   "id": "fe91d61d",
   "metadata": {},
   "source": [
    "### Bar chart for feature importance of Random Forest event estimator"
   ]
  },
  {
   "cell_type": "code",
   "execution_count": null,
   "id": "7910c7a9",
   "metadata": {},
   "outputs": [],
   "source": [
    "import matplotlib.pyplot as plt\n",
    "\n",
    "# get feature importances and their names\n",
    "importances = forest_event.feature_importances_\n",
    "# feature_names = X_train.columns.values\n",
    "feature_names = ['Current event', 'Previous event', '2nd previous event']\n",
    "\n",
    "# sort the features by importance in descending order\n",
    "indices = np.argsort(importances)[::-1]\n",
    "sorted_importances = importances[indices]\n",
    "\n",
    "plt.figure(figsize=(10,6))\n",
    "plt.bar(feature_names, sorted_importances, color=['brown', 'green', 'blue'])\n",
    "plt.title('Feature Importances of Random Forest event estimator')\n",
    "plt.xlabel('Features')\n",
    "plt.xticks(rotation=0)\n",
    "plt.ylabel('Importance')\n",
    "plt.show()\n"
   ]
  },
  {
   "cell_type": "markdown",
   "id": "36265d20",
   "metadata": {},
   "source": [
    "### Bar chart feature importance Random Forest time estimator"
   ]
  },
  {
   "cell_type": "code",
   "execution_count": null,
   "id": "6ea6e2c8",
   "metadata": {},
   "outputs": [],
   "source": [
    "# get feature importances and their names\n",
    "importances = forest_time.feature_importances_\n",
    "feature_names = ['Current event time','Prev event time', 'Prev event', '2nd prev event', 'Current event']\n",
    "\n",
    "# sort the features by importance in descending order\n",
    "indices = np.argsort(importances)[::-1]\n",
    "sorted_importances = importances[indices]\n",
    "\n",
    "plt.figure(figsize=(10,6))\n",
    "plt.bar(feature_names, sorted_importances, color=['brown', 'green', 'blue', 'yellow'])\n",
    "plt.title('Feature Importances of Random Forest time estimator')\n",
    "plt.xlabel('Features')\n",
    "plt.xticks(rotation=0)\n",
    "plt.ylabel('Importance')\n",
    "plt.show()"
   ]
  },
  {
   "cell_type": "code",
   "execution_count": null,
   "id": "bd658085",
   "metadata": {},
   "outputs": [],
   "source": [
    "residual = pd.concat([y_test, pd.Series(y_pred_time)], axis=\"columns\", ignore_index=True)\n",
    "residual.columns = ['none','real','pred']\n",
    "residual['error']= residual['real']-residual['pred']\n",
    "\n",
    "sns.residplot(x='real', y='error', data=residual)\n"
   ]
  }
 ],
 "metadata": {
  "kernelspec": {
   "display_name": "Python 3 (ipykernel)",
   "language": "python",
   "name": "python3"
  },
  "language_info": {
   "codemirror_mode": {
    "name": "ipython",
    "version": 3
   },
   "file_extension": ".py",
   "mimetype": "text/x-python",
   "name": "python",
   "nbconvert_exporter": "python",
   "pygments_lexer": "ipython3",
   "version": "3.7.6"
  },
  "vscode": {
   "interpreter": {
    "hash": "369f2c481f4da34e4445cda3fffd2e751bd1c4d706f27375911949ba6bb62e1c"
   }
  }
 },
 "nbformat": 4,
 "nbformat_minor": 5
}
