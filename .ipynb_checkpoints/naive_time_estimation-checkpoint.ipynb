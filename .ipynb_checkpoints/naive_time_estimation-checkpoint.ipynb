{
 "cells": [
  {
   "cell_type": "code",
   "execution_count": 1,
   "id": "b7c7040f",
   "metadata": {},
   "outputs": [],
   "source": [
    "# !pip install h2o"
   ]
  },
  {
   "cell_type": "code",
   "execution_count": 8,
   "id": "3c87122c",
   "metadata": {
    "id": "3c87122c"
   },
   "outputs": [],
   "source": [
    "import pandas as pd\n",
    "import numpy as np\n",
    "import datetime\n",
    "\n",
    "from sklearn.metrics import mean_absolute_error, mean_squared_error, r2_score"
   ]
  },
  {
   "cell_type": "markdown",
   "id": "1d11f6d9",
   "metadata": {},
   "source": [
    "# Naive estimator"
   ]
  },
  {
   "cell_type": "code",
   "execution_count": 6,
   "id": "b6b5aa63",
   "metadata": {
    "id": "b6b5aa63",
    "outputId": "34907c14-4e70-4a34-d761-3e27d5c2d4ef"
   },
   "outputs": [],
   "source": [
    "def avg_time_per_position(df):\n",
    "    avg_time = [0] * df['position'].max() # Set initial values for avg_time list with size equal to maximum position\n",
    "    n = 0 # Initialize a counter for the number of events\n",
    "    for i in range(df.shape[0] - 1): # Loop through all events in the dataframe\n",
    "        if df.iloc[i]['case concept:name'] == df.iloc[i + 1]['case concept:name']: #Only continue if the next event is in the same case\n",
    "            position = df.iloc[i]['position']\n",
    "            t_finish_last = df.iloc[i]['timestamp_finish'] #Finish time of event i\n",
    "            t_start_next_event = df.iloc[i + 1]['timestamp_finish'] #Start time of position i+1\n",
    "            t_delta = t_start_next_event - t_finish_last #Time difference\n",
    "            avg_time[position - 1] = (avg_time[position - 1] * n + t_delta) / (n+1) #update average time (Note the differences are in ms)\n",
    "            n += 1\n",
    "    return avg_time\n",
    "\n",
    "def avg_time_per_position_added(df): #Fast version of time prediction\n",
    "    df['next position'] = df.groupby('case concept:name')['position'].shift(-1) #Create column that contains the next even of each case\n",
    "    df['Prediction time next event'] = df.apply(lambda x: \n",
    "        x['event time:timestamp'] + datetime.timedelta(seconds=avg_time[int(x['position']) - 1] / 1000)\n",
    "        if not pd.isnull(x['next position']) else np.nan, axis=1) #Returns NaT if this position is the last one, otherwise it will add the time\n",
    "    df.drop('next position', axis=1, inplace=True)\n",
    "    return df\n",
    "\n",
    "\n",
    "avg_time = avg_time_per_position(df_test)\n",
    "df_test = avg_time_per_position_added(df_test)\n"
   ]
  },
  {
   "cell_type": "code",
   "execution_count": 9,
   "id": "ee50147f",
   "metadata": {
    "id": "ee50147f",
    "outputId": "62e46c19-048a-4287-b160-8181487f148b"
   },
   "outputs": [
    {
     "name": "stdout",
     "output_type": "stream",
     "text": [
      "Mean Absolute Error: 157.549\n",
      "Root Mean Squared Error: 49085.995\n",
      "R2 score: 0.913\n"
     ]
    }
   ],
   "source": [
    "def calculate_metrics(df):\n",
    "    df['timestamp_prediction'] = df['Prediction time next event'].values.astype(np.int64) // 10 ** 9\n",
    "    \n",
    "    y_pred = []\n",
    "    y_true = []\n",
    "    for i in range(df.shape[0] - 1):\n",
    "        if df.iloc[i]['case concept:name'] == df.iloc[i + 1]['case concept:name']:\n",
    "            y_pred.append(df.iloc[i]['timestamp_prediction'])\n",
    "            y_true.append(df.iloc[i + 1]['timestamp_finish'])\n",
    "            \n",
    "    print('Mean Absolute Error:', round(mean_absolute_error(y_true, y_pred)/3600,3))\n",
    "    print('Root Mean Squared Error:', round(np.sqrt(mean_squared_error(y_true, y_pred)/3600),3))\n",
    "    print('R2 score:', round(r2_score(y_true, y_pred),3))\n",
    "    \n",
    "    \n",
    "calculate_metrics(df_test) \n"
   ]
  },
  {
   "cell_type": "code",
   "execution_count": null,
   "id": "42e5d417",
   "metadata": {},
   "outputs": [],
   "source": []
  }
 ],
 "metadata": {
  "colab": {
   "provenance": []
  },
  "kernelspec": {
   "display_name": "Python 3 (ipykernel)",
   "language": "python",
   "name": "python3"
  },
  "language_info": {
   "codemirror_mode": {
    "name": "ipython",
    "version": 3
   },
   "file_extension": ".py",
   "mimetype": "text/x-python",
   "name": "python",
   "nbconvert_exporter": "python",
   "pygments_lexer": "ipython3",
   "version": "3.7.6"
  }
 },
 "nbformat": 4,
 "nbformat_minor": 5
}
