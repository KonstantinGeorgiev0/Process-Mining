{
 "cells": [
  {
   "attachments": {},
   "cell_type": "markdown",
   "metadata": {},
   "source": [
    "# **1. Info**\n",
    "This notebook is used to transform the BIP Challenge 2012 dataset from the XES format to a CSV format. It outputs a .CSV file to a directory on your laptop, which is the same as this .ipynb file. **However it is not used for the project**"
   ]
  },
  {
   "attachments": {},
   "cell_type": "markdown",
   "metadata": {},
   "source": [
    "# **2. Initialization**\n",
    "Only the PM4PY, Pandas, and Pathlib libraries are used"
   ]
  },
  {
   "attachments": {},
   "cell_type": "markdown",
   "metadata": {},
   "source": [
    "## **2.1 Loading libraries**"
   ]
  },
  {
   "cell_type": "code",
   "execution_count": 7,
   "metadata": {},
   "outputs": [],
   "source": [
    "from pm4py.objects.conversion.log import converter as xes_converter\n",
    "from pm4py.objects.log.importer.xes import importer as xes_importer\n",
    "import pandas as pd\n",
    "from pathlib import Path"
   ]
  },
  {
   "attachments": {},
   "cell_type": "markdown",
   "metadata": {},
   "source": [
    "## **2.2 Functions**"
   ]
  },
  {
   "attachments": {},
   "cell_type": "markdown",
   "metadata": {},
   "source": [
    "#### **2.2.1 Function 'read_and_export'**"
   ]
  },
  {
   "cell_type": "code",
   "execution_count": 13,
   "metadata": {},
   "outputs": [],
   "source": [
    "def read_and_export(file_directory):\n",
    "    \"\"\"Exports a CSV file from an inported XES file.\n",
    "\n",
    "    Args:\n",
    "        file_directory (string): Directory of the .XES file\n",
    "        export_directory (string): Directory of the .CSV file\n",
    "    \"\"\"\n",
    "        \n",
    "    log = xes_importer.apply(file_directory) #import XES file\n",
    "    dataframe = xes_converter.apply(log, variant=xes_converter.Variants.TO_DATA_FRAME) #Convert to DF\n",
    "    \n",
    "    # filepath = Path(export_directory)  \n",
    "    # filepath.parent.mkdir(parents=True, exist_ok=True)  \n",
    "    dataframe.to_csv(file_directory) #Export to CSV"
   ]
  },
  {
   "attachments": {},
   "cell_type": "markdown",
   "metadata": {},
   "source": [
    "## **2.3 Loading the model**"
   ]
  },
  {
   "cell_type": "code",
   "execution_count": 14,
   "metadata": {},
   "outputs": [
    {
     "data": {
      "application/vnd.jupyter.widget-view+json": {
       "model_id": "f11639d55df94ac0bfe8874f3b5a00cd",
       "version_major": 2,
       "version_minor": 0
      },
      "text/plain": [
       "parsing log, completed traces ::   0%|          | 0/13087 [00:00<?, ?it/s]"
      ]
     },
     "metadata": {},
     "output_type": "display_data"
    }
   ],
   "source": [
    "read_and_export('/Users/Martijn/Library/Mobile Documents/com~apple~CloudDocs/School/Year 3/Q3/DBL Process Mining [2IOI0]/Data/Raw data/BPI_Challenge_2012.xes')"
   ]
  }
 ],
 "metadata": {
  "kernelspec": {
   "display_name": "base",
   "language": "python",
   "name": "python3"
  },
  "language_info": {
   "codemirror_mode": {
    "name": "ipython",
    "version": 3
   },
   "file_extension": ".py",
   "mimetype": "text/x-python",
   "name": "python",
   "nbconvert_exporter": "python",
   "pygments_lexer": "ipython3",
   "version": "3.9.13"
  },
  "orig_nbformat": 4,
  "vscode": {
   "interpreter": {
    "hash": "e8ecf3d1b7816c8a562bac795b7c2fee9a5e529b79bc3cd729516b279b05f6b8"
   }
  }
 },
 "nbformat": 4,
 "nbformat_minor": 2
}
