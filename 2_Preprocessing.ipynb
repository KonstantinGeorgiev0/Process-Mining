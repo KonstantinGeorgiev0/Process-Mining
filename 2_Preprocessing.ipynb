{
 "cells": [
  {
   "cell_type": "code",
   "execution_count": 1,
   "metadata": {},
   "outputs": [],
   "source": [
    "import pandas as pd\n",
    "import numpy as np\n",
    "import matplotlib.pyplot as plt\n",
    "\n",
    "\n",
    "import time, datetime\n",
    "\n",
    "from sklearn.model_selection import train_test_split\n",
    "from sklearn.preprocessing import LabelEncoder, OrdinalEncoder"
   ]
  },
  {
   "cell_type": "code",
   "execution_count": 2,
   "metadata": {},
   "outputs": [],
   "source": [
    "train = pd.read_csv('BPI_Challenge_2012-training.csv')\n",
    "test = pd.read_csv('BPI_Challenge_2012-test.csv')"
   ]
  },
  {
   "cell_type": "markdown",
   "metadata": {},
   "source": [
    "### **Functions concerning time**"
   ]
  },
  {
   "cell_type": "code",
   "execution_count": 3,
   "metadata": {},
   "outputs": [],
   "source": [
    "def month(x):\n",
    "    \"\"\"Convert object to the month of year\n",
    "\n",
    "    Args:\n",
    "        x (str)\n",
    "\n",
    "    Returns:\n",
    "        DateTime object\n",
    "    \"\"\"\n",
    "    return x.month\n",
    "\n",
    "def day(x):\n",
    "    \"\"\"Convert object to the day of year\n",
    "\n",
    "    Args:\n",
    "        x (str)\n",
    "\n",
    "    Returns:\n",
    "        DateTime object\n",
    "    \"\"\"\n",
    "    return x.day\n",
    "\n",
    "def week(x):\n",
    "    \"\"\"Convert object to the week of year\n",
    "\n",
    "    Args:\n",
    "        x (str)\n",
    "\n",
    "    Returns:\n",
    "        DateTime object\n",
    "    \"\"\"\n",
    "    return x.week\n",
    "\n",
    "def day_week(x):\n",
    "    \"\"\"Convert object to the day of week\n",
    "\n",
    "    Args:\n",
    "        x (str)\n",
    "\n",
    "    Returns:\n",
    "        DateTime object\n",
    "    \"\"\"\n",
    "    return x.weekday()\n",
    "\n",
    "def time_of_day(x):\n",
    "    \"\"\"Convert object to the hour of the day\n",
    "\n",
    "    Args:\n",
    "        x (str)\n",
    "\n",
    "    Returns:\n",
    "        DateTime object\n",
    "    \"\"\"\n",
    "    return x.hour"
   ]
  },
  {
   "cell_type": "markdown",
   "metadata": {},
   "source": [
    "### **Function 'time_conversion**"
   ]
  },
  {
   "cell_type": "code",
   "execution_count": 4,
   "metadata": {},
   "outputs": [],
   "source": [
    "def time_conversion(dataframe):\n",
    "    \"\"\"Transform 'event time:timestamp' and 'case REG_DATE' from str to DateTime in a given Dataframe\n",
    "        Additionally, this function creates timestamps for the start and finish of a task in a seperate column. \n",
    "        The difference between these timestaps is the time to complete a task, which is also added to the dataframe.\n",
    "\n",
    "        Commented out lines are still for discussion\n",
    "        \n",
    "    Args:\n",
    "        dataframe (pd.DataFrame): A pd.DataFrame in the format from the BPI_challenge 2012\n",
    "\n",
    "    Returns:\n",
    "        dataframe_output: A pd.DataFrame with all the strings reformatted to DateTime in the 'event time:timestamp' and 'case REG_DATE' columns\n",
    "    \"\"\"\n",
    "    \n",
    "#     dataframe.drop(columns = ['eventID '], inplace=True) # Drop eventID\n",
    "    dataframe.reset_index(inplace=True)\n",
    "    \n",
    "    #Transform 'event time:timestamp' and 'case REG_DATE' from str to DateTime  \n",
    "    dataframe['case REG_DATE'] =  pd.to_datetime(dataframe['case REG_DATE'], format='%d-%m-%Y %H:%M:%S.%f')\n",
    "    dataframe['event time:timestamp'] =  pd.to_datetime(dataframe['event time:timestamp'], format='%d-%m-%Y %H:%M:%S.%f')\n",
    "    \n",
    "    #Creates timestamps for the start and finish of a task in a seperate column + the time to complete the task.\n",
    "    dataframe['timestamp_start'] = dataframe['case REG_DATE'].values.astype(np.int64) // 10 ** 9\n",
    "    dataframe['timestamp_finish'] = dataframe['event time:timestamp'].values.astype(np.int64) // 10 ** 9 \n",
    "#     dataframe['time_to_complete']= (dataframe[\"event time:timestamp\"] - dataframe[\"case REG_DATE\"])/10**6\n",
    "\n",
    "\n",
    "    # Convert the timestamps of the event time to day of week, specific day and time of that day.\n",
    "    \n",
    "    dataframe[\"day_week\"] = dataframe[\"event time:timestamp\"].apply(day_week)\n",
    "    # dataframe[\"week\"] = dataframe[\"event time:timestamp\"].apply(week)\n",
    "#     dataframe[\"day_month\"] = dataframe[\"event time:timestamp\"].apply(day)\n",
    "    # dataframe[\"month\"] = dataframe[\"event time:timestamp\"].apply(month)\n",
    "    dataframe['time_of_day'] = dataframe['event time:timestamp'].apply(time_of_day)\n",
    "    \n",
    "    return dataframe"
   ]
  },
  {
   "cell_type": "markdown",
   "metadata": {},
   "source": [
    "### ** Function 'encoding'**"
   ]
  },
  {
   "cell_type": "code",
   "execution_count": 5,
   "metadata": {},
   "outputs": [],
   "source": [
    "def calculate_time_difference(dataframe):\n",
    "    return dataframe.apply(lambda row: (row['next_time'] - row['event time:timestamp']).total_seconds(), axis=1)\n",
    "\n",
    "def calculate_time_prev(dataframe):\n",
    "    return dataframe.apply(lambda row: (row['event time:timestamp'] - row['prev_time']).total_seconds(), axis=1)"
   ]
  },
  {
   "cell_type": "code",
   "execution_count": 6,
   "metadata": {},
   "outputs": [],
   "source": [
    "def encoding(dataframe):\n",
    "    \"\"\"Encoding \n",
    "\n",
    "    What kind of encoding is this exactly?\n",
    "    \n",
    "    Args:\n",
    "        dataframe (pd.DataFrame): A pd.DataFrame in the format from the BPI_challenge 2012\n",
    "\n",
    "    Returns:\n",
    "        dataframe: A pd.DataFrame with cases and events sorted wrt time, each event has a position within its case\n",
    "    \"\"\"\n",
    "    # sort cases wrt time, for each case sort events \n",
    "    dataframe.sort_values(['timestamp_start',\"timestamp_finish\"], axis=0, ascending=True, inplace=True, ignore_index=True)\n",
    "    \n",
    "    # assign the position in the sequence to each event\n",
    "    dataframe['position'] = None\n",
    "    dataframe['position'] = dataframe.groupby('case concept:name').cumcount() + 1\n",
    "    \n",
    "    \n",
    "    # create columns with previous and future (times of) events\n",
    "\n",
    "   \n",
    "    dataframe[\"prev_event\"] = dataframe.groupby(\"case concept:name\")[\"event concept:name\"].shift(1)\n",
    "    dataframe[\"2prev_event\"] = dataframe.groupby(\"case concept:name\")[\"event concept:name\"].shift(2)\n",
    "    dataframe[\"next_event\"] = dataframe.groupby(\"case concept:name\")[\"event concept:name\"].shift(-1)\n",
    "\n",
    "    dataframe[\"prev_time\"] = dataframe.groupby(\"case concept:name\")[\"event time:timestamp\"].shift(1)\n",
    "    dataframe[\"next_time\"] = dataframe.groupby(\"case concept:name\")[\"event time:timestamp\"].shift(-1)\n",
    "    \n",
    "    \n",
    "    dataframe[\"next_event\"].fillna(\"LAST EVENT\", inplace=True)\n",
    "    dataframe[\"prev_event\"].fillna(\"FIRST EVENT\", inplace=True)\n",
    "    dataframe[\"2prev_event\"].fillna(\"FIRST EVENT\", inplace=True)\n",
    "    \n",
    "    #     these values should be empty and filling them equals creating wrong data, but otherwise models dont work :( \n",
    "    dataframe[\"next_time\"].fillna(method='ffill', inplace=True)\n",
    "    dataframe[\"prev_time\"].fillna(method='bfill', inplace=True)    \n",
    "    \n",
    "    dataframe['seconds_next'] = calculate_time_difference(dataframe)\n",
    "    dataframe['seconds_prev'] = calculate_time_prev(dataframe)\n",
    "\n",
    "    \n",
    "    return dataframe"
   ]
  },
  {
   "cell_type": "markdown",
   "metadata": {},
   "source": [
    "### **Function: 'preprocessing'**"
   ]
  },
  {
   "cell_type": "code",
   "execution_count": 7,
   "metadata": {},
   "outputs": [],
   "source": [
    "def preprocessing(dataframe):\n",
    "    \"\"\"Does all the processing needed for the naive estimator\n",
    "\n",
    "    Args:\n",
    "        dataframe (pd.DataFrame): A pd.DataFrame in the format from the BPI_challenge 2012\n",
    "    \"\"\"\n",
    "    pp_df = encoding(time_conversion(dataframe))\n",
    "    \n",
    "    \n",
    "    return pp_df"
   ]
  },
  {
   "cell_type": "markdown",
   "metadata": {},
   "source": [
    "## **Preprocessing and splitting**"
   ]
  },
  {
   "cell_type": "code",
   "execution_count": 8,
   "metadata": {},
   "outputs": [],
   "source": [
    "# merge the data sets and preprocess\n",
    "# train = pd.concat([train, test], axis=\"rows\", ignore_index=True)\n",
    "\n",
    "\n",
    "train = preprocessing(train)\n",
    "test = preprocessing(test)\n",
    "\n",
    "# train['case REG_DATE'] =  pd.to_datetime(train['case REG_DATE'])\n",
    "# train['event time:timestamp'] =  pd.to_datetime(train['event time:timestamp'])\n",
    "\n",
    "# test['case REG_DATE'] =  pd.to_datetime(test['case REG_DATE'])    \n",
    "# test['event time:timestamp'] =  pd.to_datetime(test['event time:timestamp'])"
   ]
  },
  {
   "cell_type": "code",
   "execution_count": 9,
   "metadata": {},
   "outputs": [],
   "source": [
    "# train.drop(['index'],axis='columns',inplace=True)"
   ]
  },
  {
   "cell_type": "code",
   "execution_count": 10,
   "metadata": {
    "scrolled": false
   },
   "outputs": [],
   "source": [
    "# a check for duplicate events, gives error if none repeat\n",
    "# pd.concat(g for _, g in train.groupby(\"eventID \") if len(g) > 1).tail(50)"
   ]
  },
  {
   "cell_type": "code",
   "execution_count": 11,
   "metadata": {},
   "outputs": [],
   "source": [
    "# train = train.iloc[:239787]\n",
    "# test = train.iloc[239787:]"
   ]
  },
  {
   "cell_type": "code",
   "execution_count": 12,
   "metadata": {},
   "outputs": [
    {
     "data": {
      "text/html": [
       "<div>\n",
       "<style scoped>\n",
       "    .dataframe tbody tr th:only-of-type {\n",
       "        vertical-align: middle;\n",
       "    }\n",
       "\n",
       "    .dataframe tbody tr th {\n",
       "        vertical-align: top;\n",
       "    }\n",
       "\n",
       "    .dataframe thead th {\n",
       "        text-align: right;\n",
       "    }\n",
       "</style>\n",
       "<table border=\"1\" class=\"dataframe\">\n",
       "  <thead>\n",
       "    <tr style=\"text-align: right;\">\n",
       "      <th></th>\n",
       "      <th>index</th>\n",
       "      <th>eventID</th>\n",
       "      <th>case concept:name</th>\n",
       "      <th>case REG_DATE</th>\n",
       "      <th>case AMOUNT_REQ</th>\n",
       "      <th>event org:resource</th>\n",
       "      <th>event concept:name</th>\n",
       "      <th>event lifecycle:transition</th>\n",
       "      <th>event time:timestamp</th>\n",
       "      <th>timestamp_start</th>\n",
       "      <th>...</th>\n",
       "      <th>day_week</th>\n",
       "      <th>time_of_day</th>\n",
       "      <th>position</th>\n",
       "      <th>prev_event</th>\n",
       "      <th>2prev_event</th>\n",
       "      <th>next_event</th>\n",
       "      <th>prev_time</th>\n",
       "      <th>next_time</th>\n",
       "      <th>seconds_next</th>\n",
       "      <th>seconds_prev</th>\n",
       "    </tr>\n",
       "  </thead>\n",
       "  <tbody>\n",
       "    <tr>\n",
       "      <th>0</th>\n",
       "      <td>0</td>\n",
       "      <td>0</td>\n",
       "      <td>173688</td>\n",
       "      <td>2011-10-01 00:38:44.546</td>\n",
       "      <td>20000</td>\n",
       "      <td>112.0</td>\n",
       "      <td>A_SUBMITTED</td>\n",
       "      <td>COMPLETE</td>\n",
       "      <td>2011-10-01 00:38:44.546</td>\n",
       "      <td>1317429524</td>\n",
       "      <td>...</td>\n",
       "      <td>5</td>\n",
       "      <td>0</td>\n",
       "      <td>1</td>\n",
       "      <td>FIRST EVENT</td>\n",
       "      <td>FIRST EVENT</td>\n",
       "      <td>A_PARTLYSUBMITTED</td>\n",
       "      <td>2011-10-01 00:38:44.546</td>\n",
       "      <td>2011-10-01 00:38:44.880</td>\n",
       "      <td>0.334</td>\n",
       "      <td>0.000</td>\n",
       "    </tr>\n",
       "    <tr>\n",
       "      <th>1</th>\n",
       "      <td>1</td>\n",
       "      <td>1</td>\n",
       "      <td>173688</td>\n",
       "      <td>2011-10-01 00:38:44.546</td>\n",
       "      <td>20000</td>\n",
       "      <td>112.0</td>\n",
       "      <td>A_PARTLYSUBMITTED</td>\n",
       "      <td>COMPLETE</td>\n",
       "      <td>2011-10-01 00:38:44.880</td>\n",
       "      <td>1317429524</td>\n",
       "      <td>...</td>\n",
       "      <td>5</td>\n",
       "      <td>0</td>\n",
       "      <td>2</td>\n",
       "      <td>A_SUBMITTED</td>\n",
       "      <td>FIRST EVENT</td>\n",
       "      <td>A_PREACCEPTED</td>\n",
       "      <td>2011-10-01 00:38:44.546</td>\n",
       "      <td>2011-10-01 00:39:37.906</td>\n",
       "      <td>53.026</td>\n",
       "      <td>0.334</td>\n",
       "    </tr>\n",
       "    <tr>\n",
       "      <th>2</th>\n",
       "      <td>2</td>\n",
       "      <td>2</td>\n",
       "      <td>173688</td>\n",
       "      <td>2011-10-01 00:38:44.546</td>\n",
       "      <td>20000</td>\n",
       "      <td>112.0</td>\n",
       "      <td>A_PREACCEPTED</td>\n",
       "      <td>COMPLETE</td>\n",
       "      <td>2011-10-01 00:39:37.906</td>\n",
       "      <td>1317429524</td>\n",
       "      <td>...</td>\n",
       "      <td>5</td>\n",
       "      <td>0</td>\n",
       "      <td>3</td>\n",
       "      <td>A_PARTLYSUBMITTED</td>\n",
       "      <td>A_SUBMITTED</td>\n",
       "      <td>W_Completeren aanvraag</td>\n",
       "      <td>2011-10-01 00:38:44.880</td>\n",
       "      <td>2011-10-01 00:39:38.875</td>\n",
       "      <td>0.969</td>\n",
       "      <td>53.026</td>\n",
       "    </tr>\n",
       "    <tr>\n",
       "      <th>3</th>\n",
       "      <td>3</td>\n",
       "      <td>3</td>\n",
       "      <td>173688</td>\n",
       "      <td>2011-10-01 00:38:44.546</td>\n",
       "      <td>20000</td>\n",
       "      <td>112.0</td>\n",
       "      <td>W_Completeren aanvraag</td>\n",
       "      <td>SCHEDULE</td>\n",
       "      <td>2011-10-01 00:39:38.875</td>\n",
       "      <td>1317429524</td>\n",
       "      <td>...</td>\n",
       "      <td>5</td>\n",
       "      <td>0</td>\n",
       "      <td>4</td>\n",
       "      <td>A_PREACCEPTED</td>\n",
       "      <td>A_PARTLYSUBMITTED</td>\n",
       "      <td>W_Completeren aanvraag</td>\n",
       "      <td>2011-10-01 00:39:37.906</td>\n",
       "      <td>2011-10-01 11:36:46.437</td>\n",
       "      <td>39427.562</td>\n",
       "      <td>0.969</td>\n",
       "    </tr>\n",
       "    <tr>\n",
       "      <th>4</th>\n",
       "      <td>89</td>\n",
       "      <td>4</td>\n",
       "      <td>173688</td>\n",
       "      <td>2011-10-01 00:38:44.546</td>\n",
       "      <td>20000</td>\n",
       "      <td>NaN</td>\n",
       "      <td>W_Completeren aanvraag</td>\n",
       "      <td>START</td>\n",
       "      <td>2011-10-01 11:36:46.437</td>\n",
       "      <td>1317429524</td>\n",
       "      <td>...</td>\n",
       "      <td>5</td>\n",
       "      <td>11</td>\n",
       "      <td>5</td>\n",
       "      <td>W_Completeren aanvraag</td>\n",
       "      <td>A_PREACCEPTED</td>\n",
       "      <td>A_ACCEPTED</td>\n",
       "      <td>2011-10-01 00:39:38.875</td>\n",
       "      <td>2011-10-01 11:42:43.308</td>\n",
       "      <td>356.871</td>\n",
       "      <td>39427.562</td>\n",
       "    </tr>\n",
       "    <tr>\n",
       "      <th>...</th>\n",
       "      <td>...</td>\n",
       "      <td>...</td>\n",
       "      <td>...</td>\n",
       "      <td>...</td>\n",
       "      <td>...</td>\n",
       "      <td>...</td>\n",
       "      <td>...</td>\n",
       "      <td>...</td>\n",
       "      <td>...</td>\n",
       "      <td>...</td>\n",
       "      <td>...</td>\n",
       "      <td>...</td>\n",
       "      <td>...</td>\n",
       "      <td>...</td>\n",
       "      <td>...</td>\n",
       "      <td>...</td>\n",
       "      <td>...</td>\n",
       "      <td>...</td>\n",
       "      <td>...</td>\n",
       "      <td>...</td>\n",
       "      <td>...</td>\n",
       "    </tr>\n",
       "    <tr>\n",
       "      <th>239781</th>\n",
       "      <td>236964</td>\n",
       "      <td>56203942035457</td>\n",
       "      <td>214376</td>\n",
       "      <td>2012-02-29 23:51:16.799</td>\n",
       "      <td>15000</td>\n",
       "      <td>112.0</td>\n",
       "      <td>A_PARTLYSUBMITTED</td>\n",
       "      <td>COMPLETE</td>\n",
       "      <td>2012-02-29 23:51:17.423</td>\n",
       "      <td>1330559476</td>\n",
       "      <td>...</td>\n",
       "      <td>2</td>\n",
       "      <td>23</td>\n",
       "      <td>2</td>\n",
       "      <td>A_SUBMITTED</td>\n",
       "      <td>FIRST EVENT</td>\n",
       "      <td>W_Afhandelen leads</td>\n",
       "      <td>2012-02-29 23:51:16.799</td>\n",
       "      <td>2012-02-29 23:52:01.287</td>\n",
       "      <td>43.864</td>\n",
       "      <td>0.624</td>\n",
       "    </tr>\n",
       "    <tr>\n",
       "      <th>239782</th>\n",
       "      <td>236965</td>\n",
       "      <td>56203942035458</td>\n",
       "      <td>214376</td>\n",
       "      <td>2012-02-29 23:51:16.799</td>\n",
       "      <td>15000</td>\n",
       "      <td>112.0</td>\n",
       "      <td>W_Afhandelen leads</td>\n",
       "      <td>SCHEDULE</td>\n",
       "      <td>2012-02-29 23:52:01.287</td>\n",
       "      <td>1330559476</td>\n",
       "      <td>...</td>\n",
       "      <td>2</td>\n",
       "      <td>23</td>\n",
       "      <td>3</td>\n",
       "      <td>A_PARTLYSUBMITTED</td>\n",
       "      <td>A_SUBMITTED</td>\n",
       "      <td>W_Afhandelen leads</td>\n",
       "      <td>2012-02-29 23:51:17.423</td>\n",
       "      <td>2012-03-01 09:26:46.736</td>\n",
       "      <td>34485.449</td>\n",
       "      <td>43.864</td>\n",
       "    </tr>\n",
       "    <tr>\n",
       "      <th>239783</th>\n",
       "      <td>237062</td>\n",
       "      <td>56203942035459</td>\n",
       "      <td>214376</td>\n",
       "      <td>2012-02-29 23:51:16.799</td>\n",
       "      <td>15000</td>\n",
       "      <td>11169.0</td>\n",
       "      <td>W_Afhandelen leads</td>\n",
       "      <td>START</td>\n",
       "      <td>2012-03-01 09:26:46.736</td>\n",
       "      <td>1330559476</td>\n",
       "      <td>...</td>\n",
       "      <td>3</td>\n",
       "      <td>9</td>\n",
       "      <td>4</td>\n",
       "      <td>W_Afhandelen leads</td>\n",
       "      <td>A_PARTLYSUBMITTED</td>\n",
       "      <td>A_DECLINED</td>\n",
       "      <td>2012-02-29 23:52:01.287</td>\n",
       "      <td>2012-03-01 09:27:37.118</td>\n",
       "      <td>50.382</td>\n",
       "      <td>34485.449</td>\n",
       "    </tr>\n",
       "    <tr>\n",
       "      <th>239784</th>\n",
       "      <td>237063</td>\n",
       "      <td>56203942035460</td>\n",
       "      <td>214376</td>\n",
       "      <td>2012-02-29 23:51:16.799</td>\n",
       "      <td>15000</td>\n",
       "      <td>11169.0</td>\n",
       "      <td>A_DECLINED</td>\n",
       "      <td>COMPLETE</td>\n",
       "      <td>2012-03-01 09:27:37.118</td>\n",
       "      <td>1330559476</td>\n",
       "      <td>...</td>\n",
       "      <td>3</td>\n",
       "      <td>9</td>\n",
       "      <td>5</td>\n",
       "      <td>W_Afhandelen leads</td>\n",
       "      <td>W_Afhandelen leads</td>\n",
       "      <td>W_Afhandelen leads</td>\n",
       "      <td>2012-03-01 09:26:46.736</td>\n",
       "      <td>2012-03-01 09:27:41.325</td>\n",
       "      <td>4.207</td>\n",
       "      <td>50.382</td>\n",
       "    </tr>\n",
       "    <tr>\n",
       "      <th>239785</th>\n",
       "      <td>237064</td>\n",
       "      <td>56203942035461</td>\n",
       "      <td>214376</td>\n",
       "      <td>2012-02-29 23:51:16.799</td>\n",
       "      <td>15000</td>\n",
       "      <td>11169.0</td>\n",
       "      <td>W_Afhandelen leads</td>\n",
       "      <td>COMPLETE</td>\n",
       "      <td>2012-03-01 09:27:41.325</td>\n",
       "      <td>1330559476</td>\n",
       "      <td>...</td>\n",
       "      <td>3</td>\n",
       "      <td>9</td>\n",
       "      <td>6</td>\n",
       "      <td>A_DECLINED</td>\n",
       "      <td>W_Afhandelen leads</td>\n",
       "      <td>LAST EVENT</td>\n",
       "      <td>2012-03-01 09:27:37.118</td>\n",
       "      <td>2012-03-01 09:27:41.325</td>\n",
       "      <td>0.000</td>\n",
       "      <td>4.207</td>\n",
       "    </tr>\n",
       "  </tbody>\n",
       "</table>\n",
       "<p>239786 rows × 21 columns</p>\n",
       "</div>"
      ],
      "text/plain": [
       "         index        eventID   case concept:name           case REG_DATE  \\\n",
       "0            0               0             173688 2011-10-01 00:38:44.546   \n",
       "1            1               1             173688 2011-10-01 00:38:44.546   \n",
       "2            2               2             173688 2011-10-01 00:38:44.546   \n",
       "3            3               3             173688 2011-10-01 00:38:44.546   \n",
       "4           89               4             173688 2011-10-01 00:38:44.546   \n",
       "...        ...             ...                ...                     ...   \n",
       "239781  236964  56203942035457             214376 2012-02-29 23:51:16.799   \n",
       "239782  236965  56203942035458             214376 2012-02-29 23:51:16.799   \n",
       "239783  237062  56203942035459             214376 2012-02-29 23:51:16.799   \n",
       "239784  237063  56203942035460             214376 2012-02-29 23:51:16.799   \n",
       "239785  237064  56203942035461             214376 2012-02-29 23:51:16.799   \n",
       "\n",
       "        case AMOUNT_REQ  event org:resource      event concept:name  \\\n",
       "0                 20000               112.0             A_SUBMITTED   \n",
       "1                 20000               112.0       A_PARTLYSUBMITTED   \n",
       "2                 20000               112.0           A_PREACCEPTED   \n",
       "3                 20000               112.0  W_Completeren aanvraag   \n",
       "4                 20000                 NaN  W_Completeren aanvraag   \n",
       "...                 ...                 ...                     ...   \n",
       "239781            15000               112.0       A_PARTLYSUBMITTED   \n",
       "239782            15000               112.0      W_Afhandelen leads   \n",
       "239783            15000             11169.0      W_Afhandelen leads   \n",
       "239784            15000             11169.0              A_DECLINED   \n",
       "239785            15000             11169.0      W_Afhandelen leads   \n",
       "\n",
       "       event lifecycle:transition    event time:timestamp  timestamp_start  \\\n",
       "0                        COMPLETE 2011-10-01 00:38:44.546       1317429524   \n",
       "1                        COMPLETE 2011-10-01 00:38:44.880       1317429524   \n",
       "2                        COMPLETE 2011-10-01 00:39:37.906       1317429524   \n",
       "3                        SCHEDULE 2011-10-01 00:39:38.875       1317429524   \n",
       "4                           START 2011-10-01 11:36:46.437       1317429524   \n",
       "...                           ...                     ...              ...   \n",
       "239781                   COMPLETE 2012-02-29 23:51:17.423       1330559476   \n",
       "239782                   SCHEDULE 2012-02-29 23:52:01.287       1330559476   \n",
       "239783                      START 2012-03-01 09:26:46.736       1330559476   \n",
       "239784                   COMPLETE 2012-03-01 09:27:37.118       1330559476   \n",
       "239785                   COMPLETE 2012-03-01 09:27:41.325       1330559476   \n",
       "\n",
       "        ...  day_week  time_of_day  position              prev_event  \\\n",
       "0       ...         5            0         1             FIRST EVENT   \n",
       "1       ...         5            0         2             A_SUBMITTED   \n",
       "2       ...         5            0         3       A_PARTLYSUBMITTED   \n",
       "3       ...         5            0         4           A_PREACCEPTED   \n",
       "4       ...         5           11         5  W_Completeren aanvraag   \n",
       "...     ...       ...          ...       ...                     ...   \n",
       "239781  ...         2           23         2             A_SUBMITTED   \n",
       "239782  ...         2           23         3       A_PARTLYSUBMITTED   \n",
       "239783  ...         3            9         4      W_Afhandelen leads   \n",
       "239784  ...         3            9         5      W_Afhandelen leads   \n",
       "239785  ...         3            9         6              A_DECLINED   \n",
       "\n",
       "               2prev_event              next_event               prev_time  \\\n",
       "0              FIRST EVENT       A_PARTLYSUBMITTED 2011-10-01 00:38:44.546   \n",
       "1              FIRST EVENT           A_PREACCEPTED 2011-10-01 00:38:44.546   \n",
       "2              A_SUBMITTED  W_Completeren aanvraag 2011-10-01 00:38:44.880   \n",
       "3        A_PARTLYSUBMITTED  W_Completeren aanvraag 2011-10-01 00:39:37.906   \n",
       "4            A_PREACCEPTED              A_ACCEPTED 2011-10-01 00:39:38.875   \n",
       "...                    ...                     ...                     ...   \n",
       "239781         FIRST EVENT      W_Afhandelen leads 2012-02-29 23:51:16.799   \n",
       "239782         A_SUBMITTED      W_Afhandelen leads 2012-02-29 23:51:17.423   \n",
       "239783   A_PARTLYSUBMITTED              A_DECLINED 2012-02-29 23:52:01.287   \n",
       "239784  W_Afhandelen leads      W_Afhandelen leads 2012-03-01 09:26:46.736   \n",
       "239785  W_Afhandelen leads              LAST EVENT 2012-03-01 09:27:37.118   \n",
       "\n",
       "                     next_time seconds_next  seconds_prev  \n",
       "0      2011-10-01 00:38:44.880        0.334         0.000  \n",
       "1      2011-10-01 00:39:37.906       53.026         0.334  \n",
       "2      2011-10-01 00:39:38.875        0.969        53.026  \n",
       "3      2011-10-01 11:36:46.437    39427.562         0.969  \n",
       "4      2011-10-01 11:42:43.308      356.871     39427.562  \n",
       "...                        ...          ...           ...  \n",
       "239781 2012-02-29 23:52:01.287       43.864         0.624  \n",
       "239782 2012-03-01 09:26:46.736    34485.449        43.864  \n",
       "239783 2012-03-01 09:27:37.118       50.382     34485.449  \n",
       "239784 2012-03-01 09:27:41.325        4.207        50.382  \n",
       "239785 2012-03-01 09:27:41.325        0.000         4.207  \n",
       "\n",
       "[239786 rows x 21 columns]"
      ]
     },
     "execution_count": 12,
     "metadata": {},
     "output_type": "execute_result"
    }
   ],
   "source": [
    "train"
   ]
  },
  {
   "cell_type": "markdown",
   "metadata": {},
   "source": [
    "### **Export dataframe to .CSV**"
   ]
  },
  {
   "cell_type": "code",
   "execution_count": 13,
   "metadata": {
    "scrolled": true
   },
   "outputs": [],
   "source": [
    "train.to_csv('preprocessed_train.csv')\n",
    "test.to_csv('preprocessed_test.csv')"
   ]
  },
  {
   "cell_type": "code",
   "execution_count": 14,
   "metadata": {},
   "outputs": [],
   "source": [
    "# Find the timestamp of the first event in the test set\n",
    "first_test_event_timestamp = test['event time:timestamp'].min()\n",
    "\n",
    "# Filter out cases that end after the first test event starts or start before the first train event\n",
    "train_data_filtered = train.groupby('case concept:name').filter(lambda g: g['event time:timestamp'].min() < first_test_event_timestamp and g['event time:timestamp'].max() < first_test_event_timestamp)\n",
    "\n"
   ]
  },
  {
   "cell_type": "code",
   "execution_count": 15,
   "metadata": {},
   "outputs": [
    {
     "data": {
      "text/plain": [
       "(239786, 21)"
      ]
     },
     "execution_count": 15,
     "metadata": {},
     "output_type": "execute_result"
    }
   ],
   "source": [
    "train.shape"
   ]
  },
  {
   "cell_type": "code",
   "execution_count": 16,
   "metadata": {},
   "outputs": [
    {
     "data": {
      "text/plain": [
       "(123147, 21)"
      ]
     },
     "execution_count": 16,
     "metadata": {},
     "output_type": "execute_result"
    }
   ],
   "source": [
    "train_data_filtered.shape"
   ]
  },
  {
   "cell_type": "code",
   "execution_count": 17,
   "metadata": {},
   "outputs": [
    {
     "data": {
      "text/plain": [
       "Timestamp('2012-01-02 15:28:39.244000')"
      ]
     },
     "execution_count": 17,
     "metadata": {},
     "output_type": "execute_result"
    }
   ],
   "source": [
    "first_test_event_timestamp"
   ]
  },
  {
   "cell_type": "code",
   "execution_count": 18,
   "metadata": {},
   "outputs": [
    {
     "data": {
      "image/png": "[encoded data removed]",
      "text/plain": [
       "<Figure size 432x288 with 1 Axes>"
      ]
     },
     "metadata": {
      "needs_background": "light"
     },
     "output_type": "display_data"
    }
   ],
   "source": [
    "\n",
    "# Plot histogram of the feature in the original dataset\n",
    "plt.hist(train['case concept:name'], bins=50, alpha=0.5, label='Original')\n",
    "\n",
    "# Plot histogram of the feature in the training set\n",
    "plt.hist(train_data_filtered['case concept:name'], bins=50, alpha=0.5, label='Train')\n",
    "\n",
    "# Plot histogram of the feature in the testing set\n",
    "plt.hist(test['case concept:name'], bins=50, alpha=0.5, label='Test')\n",
    "\n",
    "plt.legend(loc='upper right')\n",
    "plt.show()\n"
   ]
  },
  {
   "cell_type": "code",
   "execution_count": 19,
   "metadata": {},
   "outputs": [
    {
     "data": {
      "image/png": "[encoded data removed]",
      "text/plain": [
       "<Figure size 432x288 with 1 Axes>"
      ]
     },
     "metadata": {
      "needs_background": "light"
     },
     "output_type": "display_data"
    }
   ],
   "source": [
    "# Plot scatter plot of event timestamp vs case concept:name for the training data\n",
    "plt.scatter(train['event time:timestamp'].sample(frac=0.002, replace=True, random_state=1), train['case concept:name'].sample(frac=0.002, replace=True, random_state=1), alpha=0.5, label='Train', color='green')\n",
    "\n",
    "# Plot scatter plot of event timestamp vs case concept:name for the testing data\n",
    "plt.scatter(test['event time:timestamp'].sample(frac=0.02, replace=True, random_state=1), test['case concept:name'].sample(frac=0.02, replace=True, random_state=1), alpha=0.5, label='Test', color='red')\n",
    "\n",
    "plt.xlabel('Event Time: Timestamp')\n",
    "plt.ylabel('Case Concept:Name')\n",
    "plt.legend(loc='upper right')\n",
    "plt.show()"
   ]
  },
  {
   "cell_type": "code",
   "execution_count": 20,
   "metadata": {},
   "outputs": [
    {
     "data": {
      "image/png": "[encoded data removed]",
      "text/plain": [
       "<Figure size 432x288 with 1 Axes>"
      ]
     },
     "metadata": {
      "needs_background": "light"
     },
     "output_type": "display_data"
    }
   ],
   "source": [
    "# Plot scatter plot of event timestamp vs case concept:name for the training data\n",
    "\n",
    "plt.scatter(train_data_filtered['event time:timestamp'].sample(frac=0.02, replace=True, random_state=1), train_data_filtered['case concept:name'].sample(frac=0.02, replace=True, random_state=1), alpha=0.5, label='Train', color='green')\n",
    "\n",
    "# Plot scatter plot of event timestamp vs case concept:name for the testing data\n",
    "plt.scatter(test['event time:timestamp'].sample(frac=0.02, replace=True, random_state=1), test['case concept:name'].sample(frac=0.02, replace=True, random_state=1), alpha=0.5, label='Test', color='red')\n",
    "\n",
    "plt.rcParams[\"figure.figsize\"] = (20,20)\n",
    "plt.xlabel('Event Time: Timestamp')\n",
    "plt.ylabel('Case Concept:Name')\n",
    "plt.legend(loc='upper right')\n",
    "plt.gca().invert_yaxis()\n",
    "plt.show()"
   ]
  },
  {
   "cell_type": "code",
   "execution_count": null,
   "metadata": {},
   "outputs": [],
   "source": []
  },
  {
   "cell_type": "code",
   "execution_count": null,
   "metadata": {},
   "outputs": [],
   "source": []
  }
 ],
 "metadata": {
  "kernelspec": {
   "display_name": "Python 3 (ipykernel)",
   "language": "python",
   "name": "python3"
  },
  "language_info": {
   "codemirror_mode": {
    "name": "ipython",
    "version": 3
   },
   "file_extension": ".py",
   "mimetype": "text/x-python",
   "name": "python",
   "nbconvert_exporter": "python",
   "pygments_lexer": "ipython3",
   "version": "3.7.6"
  },
  "vscode": {
   "interpreter": {
    "hash": "e8ecf3d1b7816c8a562bac795b7c2fee9a5e529b79bc3cd729516b279b05f6b8"
   }
  }
 },
 "nbformat": 4,
 "nbformat_minor": 2
}
