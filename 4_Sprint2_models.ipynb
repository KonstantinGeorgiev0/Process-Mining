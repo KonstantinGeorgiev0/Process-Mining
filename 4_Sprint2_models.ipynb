{
 "cells": [
  {
   "cell_type": "code",
   "execution_count": 4,
   "id": "21d75de0",
   "metadata": {},
   "outputs": [],
   "source": [
    "import pandas as pd\n",
    "import numpy as np\n",
    "\n",
    "from sklearn.preprocessing import LabelEncoder, OrdinalEncoder\n",
    "from sklearn.metrics import mean_absolute_error, mean_squared_error, r2_score\n",
    "from sklearn.metrics import precision_score, recall_score, f1_score, accuracy_score, confusion_matrix\n",
    "from sklearn.ensemble import RandomForestClassifier, RandomForestRegressor\n"
   ]
  },
  {
   "cell_type": "code",
   "execution_count": 5,
   "id": "37c42cc1",
   "metadata": {},
   "outputs": [],
   "source": [
    "train = pd.read_csv('preprocessed_train.csv')\n",
    "test = pd.read_csv('preprocessed_test.csv')"
   ]
  },
  {
   "cell_type": "markdown",
   "id": "767dfcb0",
   "metadata": {},
   "source": [
    "# Evaluation\n"
   ]
  },
  {
   "cell_type": "code",
   "execution_count": 6,
   "id": "e3f49aad",
   "metadata": {},
   "outputs": [],
   "source": [
    "def time_evaluation(y_test, y_pred, model: str):\n",
    " \n",
    "    print(f\"Error metrics (measured in hours) for the {model} when predicting the next event's Unix timestamp\")\n",
    "    print('\\n')\n",
    "    print('Mean Absolute Error:', round(mean_absolute_error(y_test, y_pred)/3600),3)\n",
    "    print('Root Mean Squared Error:', round(np.sqrt(mean_squared_error(y_test, y_pred)/3600),3))\n",
    "    print('R2 score:', round(r2_score(y_test, y_pred),3))\n",
    "    \n",
    "    \n",
    "def event_evaluation(y_test, y_pred, model: str, avg=\"weighted\"):\n",
    "\n",
    "    precision = precision_score(y_test, y_pred, average=avg, zero_division=0)\n",
    "    recall = recall_score(y_test, y_pred, average=avg, zero_division=0)\n",
    "    F1_score = f1_score(y_test, y_pred, average=avg, zero_division=0)\n",
    "    accuracy = accuracy_score(y_test, y_pred)\n",
    "    \n",
    "    print(f'Error metrics for the {model} when predicting the next event')\n",
    "    print('\\n')\n",
    "    print(f'Accuracy: {round(accuracy,3)}.')\n",
    "    print(f'Precision: {round(precision,3)}')\n",
    "    print(f'Recall: {round(recall,3)}')\n",
    "    print(f'f1-score: {round(F1_score,3)}')\n",
    "    print(confusion_matrix(y_test, y_pred))"
   ]
  },
  {
   "cell_type": "markdown",
   "id": "e3905cd0",
   "metadata": {},
   "source": [
    "# Data splitting and encoding"
   ]
  },
  {
   "cell_type": "code",
   "execution_count": 7,
   "id": "d3a1b123",
   "metadata": {},
   "outputs": [],
   "source": [
    "def encoder(df):\n",
    "    \"\"\"\n",
    "    encode the columns that are needed in the models\n",
    "    \"\"\"\n",
    "    event_encoder = LabelEncoder()\n",
    "\n",
    "    events = df[\"event concept:name\"].unique().tolist() + ['FIRST EVENT',\"LAST EVENT\"]\n",
    "    event_encoder.fit(events)\n",
    "    \n",
    "    df[[\"event concept:name\",\"prev_event\", \"2prev_event\", 'next_event']] = df[[\"event concept:name\", \n",
    "            \"prev_event\", \"2prev_event\", 'next_event']].apply(event_encoder.transform)\n",
    "    \n",
    "    return df"
   ]
  },
  {
   "cell_type": "code",
   "execution_count": 8,
   "id": "2c1d4646",
   "metadata": {},
   "outputs": [],
   "source": [
    "train = encoder(train)\n",
    "test = encoder(test)"
   ]
  },
  {
   "cell_type": "code",
   "execution_count": 9,
   "id": "12be60d1",
   "metadata": {},
   "outputs": [],
   "source": [
    "X_train = train[['event concept:name','prev_event', '2prev_event', 'prev_timestamp']]\n",
    "y_train = train[['next_event', 'next_timestamp']]\n",
    "\n",
    "X_test = test[['event concept:name','prev_event', '2prev_event', 'prev_timestamp']]\n",
    "y_test = test[['next_event', 'next_timestamp']]\n",
    "\n",
    "# select only 'next_timestamp' for predicting time and 'next_event' for events"
   ]
  },
  {
   "cell_type": "markdown",
   "id": "13f4be7c",
   "metadata": {},
   "source": [
    "# Event prediction"
   ]
  },
  {
   "cell_type": "code",
   "execution_count": 10,
   "id": "ab9b0a28",
   "metadata": {},
   "outputs": [],
   "source": [
    "def RandomForestEvents(X_train, X_test, y_train, y_test):\n",
    "    '''no grid search, no cv, or feature selection, do for final model\n",
    "    '''\n",
    "    \n",
    "    X_train_event = X_train[['event concept:name','prev_event', '2prev_event']]\n",
    "    y_train_event = y_train['next_event']\n",
    "\n",
    "    X_test_event = X_test[['event concept:name','prev_event', '2prev_event']]\n",
    "    y_test_event = y_test['next_event']\n",
    "    \n",
    "    forest_clf = RandomForestClassifier(n_estimators=10, bootstrap = False, criterion = 'gini', random_state=42)\n",
    "    forest_clf.fit(X_train_event, y_train_event)\n",
    "    \n",
    "    y_pred = forest_clf.predict(X_test_event)\n",
    "\n",
    "    return forest_clf, y_pred"
   ]
  },
  {
   "cell_type": "code",
   "execution_count": 11,
   "id": "238940c0",
   "metadata": {},
   "outputs": [],
   "source": [
    "forest_event, y_pred_event = RandomForestEvents(X_train, X_test, y_train, y_test)"
   ]
  },
  {
   "cell_type": "code",
   "execution_count": 12,
   "id": "3f88931b",
   "metadata": {},
   "outputs": [
    {
     "data": {
      "text/plain": [
       "array([[   0,    0,    0,    0,    0,    0,    0,    0,    0,    0,    0,\n",
       "           0,    0,    0,    0,    0,    0,    0,    0,    0,  420,    0,\n",
       "           0,    0],\n",
       "       [   0,   72,   34,    0,    0,    0,    0,    0,   34,    0,    0,\n",
       "          15,    0,    0,    0,    0,    0,    0,    0,    0,    0,   10,\n",
       "           0,   14],\n",
       "       [   0,    2,   88,    0,    0,    0,    0,    0,    1,    0,    0,\n",
       "           5,    0,    0,    0,    0,    0,    0,    0,    0,    0,    7,\n",
       "           0,   76],\n",
       "       [   0,    0,    0,   45,    0,    0,    0,    0,    0,    0,    0,\n",
       "           0,    0,    0,    0,   13,    0,    0,    0,    0,  112,    9,\n",
       "          62,    1],\n",
       "       [   0,    0,    0,    0,   49,    0,    0,  137,    0,    0,    0,\n",
       "           0,    0,    0,    0,    5,    0,    0,  360,    3,   96,    8,\n",
       "           5,   32],\n",
       "       [   0,    0,    0,    0,    0,  226,    0,    0,    0,    0,    0,\n",
       "           0,    0,    0,    0,  180,    0,    0,    0,    0,    2,    0,\n",
       "           0,    0],\n",
       "       [   0,    0,    0,    0,    0,    0, 1140,    0,    0,    0,    0,\n",
       "           0,    0,    0,    0,    0,    0,    0,    0,    0,    0,    0,\n",
       "           0,    0],\n",
       "       [   0,    0,    0,    0,   13,    0,    0,  500,    0,    0,    0,\n",
       "           0,    0,    0,    0,    0,    0,    0,  112,    0,    0,    0,\n",
       "           0,    2],\n",
       "       [   0,    1,   49,    0,    0,    0,    0,    0,  101,    0,    0,\n",
       "          11,    0,    0,    0,    0,    0,    0,    0,    0,    0,    8,\n",
       "           0,    9],\n",
       "       [   0,    0,    0,    0,    0,    0,    0,    0,    0,    1,  357,\n",
       "           0,    0,    0,    0,    0,    0,    0,    0,    0,   55,   21,\n",
       "          75,   14],\n",
       "       [   0,    0,    0,    0,    0,    0,    0,    1,    0,    0,  628,\n",
       "           0,    0,    0,    0,    0,    0,    0,   29,    2,  159,    4,\n",
       "         311,    6],\n",
       "       [   0,    0,    8,    0,    0,    0,    0,    0,    9,    0,    0,\n",
       "          54,    0,    0,    0,    0,    0,    0,    0,    0,    0,   31,\n",
       "           0,   77],\n",
       "       [   0,    0,    0,    0,    0,    0,    0,    0,    0,    0,    0,\n",
       "           0,  168,    0,    0,    0,    0,    0,    0,    0,    0,   17,\n",
       "         116,   13],\n",
       "       [   0,    0,    0,    0,    0,    0,    0,    0,    0,    0,    0,\n",
       "           0,    0,  599,    0,    0,    0,    0,    0,    0,    0,    0,\n",
       "           0,    0],\n",
       "       [   0,    0,    0,    0,    0,    0,    0,    0,    0,    0,    0,\n",
       "           0,    1,    0,   44,    0,    0,    0,    0,    0,    0,    6,\n",
       "           4,   26],\n",
       "       [   0,    0,    0,   39,    0,    0,    0,    0,    0,    0,    0,\n",
       "           0,    0,    0,    0,  460,    0,    0,    0,    0,    4,   11,\n",
       "          78,    7],\n",
       "       [   0,    0,    0,    0,    0,    0,    0,    0,    0,    0,    0,\n",
       "           0,    0,    0,    0,    0,  599,    0,    0,    0,    0,    0,\n",
       "           0,    0],\n",
       "       [   0,    0,    0,    0,    0,    0,    0,    0,    0,    0,    0,\n",
       "           0,    0,    0,    0,    0,    0,    1,    0,    0,    0,   20,\n",
       "         269,    2],\n",
       "       [   0,    0,    0,    0,    1,    0,    0,  216,    0,    0,    1,\n",
       "           0,    0,    0,    0,    0,    0,    0, 1058,    0,    4,    0,\n",
       "           3,    2],\n",
       "       [   0,    0,    0,    0,    0,    0,    0,    0,    0,    0,    0,\n",
       "           0,    0,    0,    0,    0,    0,    0,    1,   16,    0,    0,\n",
       "           0,    1],\n",
       "       [   2,    0,    0,    0,    0,    0,    0,    0,    0,    0,   31,\n",
       "           0,    0,    0,    0,    7,    0,    0,    4,    0, 4767,    4,\n",
       "          18,    7],\n",
       "       [   0,    3,    0,    0,    0,    0,    0,    0,    0,    0,    2,\n",
       "           0,    0,    0,    0,    0,    0,    0,    1,    0,    4, 1714,\n",
       "          49,  356],\n",
       "       [   0,    0,    0,    0,    0,    0,    0,    0,    0,    0,   29,\n",
       "           0,    0,    0,    0,    0,    0,    4,    2,    0,  163,   10,\n",
       "        3761,   11],\n",
       "       [   0,   21,    9,    0,    0,    0,    0,    0,   12,    0,    2,\n",
       "           1,    0,    0,    0,    0,    0,    0,    0,    1,    4,  185,\n",
       "          22, 1509]], dtype=int64)"
      ]
     },
     "execution_count": 12,
     "metadata": {},
     "output_type": "execute_result"
    }
   ],
   "source": [
    "confusion_matrix(y_test['next_event'], y_pred_event)"
   ]
  },
  {
   "cell_type": "code",
   "execution_count": 13,
   "id": "dc211af2",
   "metadata": {},
   "outputs": [
    {
     "name": "stdout",
     "output_type": "stream",
     "text": [
      "Error metrics for the Random forest classifier when predicting the next event\n",
      "\n",
      "\n",
      "Accuracy: 0.785.\n",
      "Precision: 0.772\n",
      "Recall: 0.785\n",
      "f1-score: 0.748\n",
      "[[   0    0    0    0    0    0    0    0    0    0    0    0    0    0\n",
      "     0    0    0    0    0    0  420    0    0    0]\n",
      " [   0   72   34    0    0    0    0    0   34    0    0   15    0    0\n",
      "     0    0    0    0    0    0    0   10    0   14]\n",
      " [   0    2   88    0    0    0    0    0    1    0    0    5    0    0\n",
      "     0    0    0    0    0    0    0    7    0   76]\n",
      " [   0    0    0   45    0    0    0    0    0    0    0    0    0    0\n",
      "     0   13    0    0    0    0  112    9   62    1]\n",
      " [   0    0    0    0   49    0    0  137    0    0    0    0    0    0\n",
      "     0    5    0    0  360    3   96    8    5   32]\n",
      " [   0    0    0    0    0  226    0    0    0    0    0    0    0    0\n",
      "     0  180    0    0    0    0    2    0    0    0]\n",
      " [   0    0    0    0    0    0 1140    0    0    0    0    0    0    0\n",
      "     0    0    0    0    0    0    0    0    0    0]\n",
      " [   0    0    0    0   13    0    0  500    0    0    0    0    0    0\n",
      "     0    0    0    0  112    0    0    0    0    2]\n",
      " [   0    1   49    0    0    0    0    0  101    0    0   11    0    0\n",
      "     0    0    0    0    0    0    0    8    0    9]\n",
      " [   0    0    0    0    0    0    0    0    0    1  357    0    0    0\n",
      "     0    0    0    0    0    0   55   21   75   14]\n",
      " [   0    0    0    0    0    0    0    1    0    0  628    0    0    0\n",
      "     0    0    0    0   29    2  159    4  311    6]\n",
      " [   0    0    8    0    0    0    0    0    9    0    0   54    0    0\n",
      "     0    0    0    0    0    0    0   31    0   77]\n",
      " [   0    0    0    0    0    0    0    0    0    0    0    0  168    0\n",
      "     0    0    0    0    0    0    0   17  116   13]\n",
      " [   0    0    0    0    0    0    0    0    0    0    0    0    0  599\n",
      "     0    0    0    0    0    0    0    0    0    0]\n",
      " [   0    0    0    0    0    0    0    0    0    0    0    0    1    0\n",
      "    44    0    0    0    0    0    0    6    4   26]\n",
      " [   0    0    0   39    0    0    0    0    0    0    0    0    0    0\n",
      "     0  460    0    0    0    0    4   11   78    7]\n",
      " [   0    0    0    0    0    0    0    0    0    0    0    0    0    0\n",
      "     0    0  599    0    0    0    0    0    0    0]\n",
      " [   0    0    0    0    0    0    0    0    0    0    0    0    0    0\n",
      "     0    0    0    1    0    0    0   20  269    2]\n",
      " [   0    0    0    0    1    0    0  216    0    0    1    0    0    0\n",
      "     0    0    0    0 1058    0    4    0    3    2]\n",
      " [   0    0    0    0    0    0    0    0    0    0    0    0    0    0\n",
      "     0    0    0    0    1   16    0    0    0    1]\n",
      " [   2    0    0    0    0    0    0    0    0    0   31    0    0    0\n",
      "     0    7    0    0    4    0 4767    4   18    7]\n",
      " [   0    3    0    0    0    0    0    0    0    0    2    0    0    0\n",
      "     0    0    0    0    1    0    4 1714   49  356]\n",
      " [   0    0    0    0    0    0    0    0    0    0   29    0    0    0\n",
      "     0    0    0    4    2    0  163   10 3761   11]\n",
      " [   0   21    9    0    0    0    0    0   12    0    2    1    0    0\n",
      "     0    0    0    0    0    1    4  185   22 1509]]\n"
     ]
    }
   ],
   "source": [
    "event_evaluation(y_test['next_event'], y_pred_event, 'Random forest classifier')"
   ]
  },
  {
   "cell_type": "code",
   "execution_count": 16,
   "id": "d20a4127",
   "metadata": {},
   "outputs": [
    {
     "data": {
      "image/png": "[encoded data removed]",
      "text/plain": [
       "<Figure size 1000x800 with 2 Axes>"
      ]
     },
     "metadata": {},
     "output_type": "display_data"
    }
   ],
   "source": [
    "from sklearn.metrics import accuracy_score, precision_score, recall_score, f1_score, confusion_matrix\n",
    "import numpy as np\n",
    "import seaborn as sns\n",
    "import matplotlib.pyplot as plt\n",
    "\n",
    "cm = confusion_matrix(y_test['next_event'], y_pred_event)\n",
    "\n",
    "# plot confusion matrix as a heatmap\n",
    "sns.set(font_scale=1.2)\n",
    "fig, ax = plt.subplots(figsize=(10,8))\n",
    "sns.heatmap(cm, fmt='g', cmap='Blues', ax=ax, annot_kws={\"size\": 14})\n",
    "# ax.set_xlabel('Predicted labels', fontsize=14)\n",
    "# ax.set_ylabel('True labels', fontsize=14)\n",
    "# ax.set_title('Confusion Matrix', fontsize=16)\n",
    "# ax.xaxis.set_ticklabels(labels, rotation=90)\n",
    "# ax.yaxis.set_ticklabels(labels, rotation=0)\n",
    "plt.show()"
   ]
  },
  {
   "cell_type": "code",
   "execution_count": 34,
   "id": "78d8e534",
   "metadata": {},
   "outputs": [],
   "source": [
    "def event_evaluation(y_test, y_pred, model, avg=\"weighted\", labels=None):\n",
    "    precision = precision_score(y_test, y_pred, average=avg, zero_division=0)\n",
    "    recall = recall_score(y_test, y_pred, average=avg, zero_division=0)\n",
    "    F1_score = f1_score(y_test, y_pred, average=avg, zero_division=0)\n",
    "    accuracy = accuracy_score(y_test, y_pred)\n",
    "    cm = confusion_matrix(y_test['next_event'], y_pred_event)\n",
    "    \n",
    "    print(f'Error metrics for the {model} when predicting the next event')\n",
    "    print('\\n')\n",
    "    print(f'Accuracy: {round(accuracy,3)}.')\n",
    "    print(f'Precision: {round(precision,3)}')\n",
    "    print(f'Recall: {round(recall,3)}')\n",
    "    print(f'f1-score: {round(F1_score,3)}')\n",
    "    \n",
    "    # plot confusion matrix as a heatmap\n",
    "    sns.set(font_scale=1.2)\n",
    "    fig, ax = plt.subplots(figsize=(10,8))\n",
    "    sns.heatmap(cm, fmt='g', cmap='Blues', ax=ax, annot_kws={\"size\": 14})\n",
    "    # ax.set_xlabel('Predicted labels', fontsize=14)\n",
    "    # ax.set_ylabel('True labels', fontsize=14)\n",
    "    # ax.set_title('Confusion Matrix', fontsize=16)\n",
    "    # ax.xaxis.set_ticklabels(labels, rotation=90)\n",
    "    # ax.yaxis.set_ticklabels(labels, rotation=0)\n",
    "    plt.show()\n",
    "    \n",
    "    return cm\n"
   ]
  },
  {
   "cell_type": "code",
   "execution_count": 35,
   "id": "df4652e8",
   "metadata": {},
   "outputs": [
    {
     "ename": "KeyError",
     "evalue": "'next_event'",
     "output_type": "error",
     "traceback": [
      "\u001b[1;31m---------------------------------------------------------------------------\u001b[0m",
      "\u001b[1;31mKeyError\u001b[0m                                  Traceback (most recent call last)",
      "\u001b[1;32m~\\AppData\\Local\\Temp\\ipykernel_37380\\3705056361.py\u001b[0m in \u001b[0;36m<module>\u001b[1;34m\u001b[0m\n\u001b[0;32m      3\u001b[0m \u001b[1;33m\u001b[0m\u001b[0m\n\u001b[0;32m      4\u001b[0m \u001b[1;31m# call the function and pass the labels parameter\u001b[0m\u001b[1;33m\u001b[0m\u001b[1;33m\u001b[0m\u001b[0m\n\u001b[1;32m----> 5\u001b[1;33m \u001b[0mcm\u001b[0m \u001b[1;33m=\u001b[0m \u001b[0mevent_evaluation\u001b[0m\u001b[1;33m(\u001b[0m\u001b[0my_test\u001b[0m\u001b[1;33m[\u001b[0m\u001b[1;34m'next_event'\u001b[0m\u001b[1;33m]\u001b[0m\u001b[1;33m,\u001b[0m \u001b[0my_pred_event\u001b[0m\u001b[1;33m,\u001b[0m \u001b[1;34m'Random forest classifier'\u001b[0m\u001b[1;33m,\u001b[0m \u001b[0mlabels\u001b[0m\u001b[1;33m=\u001b[0m\u001b[0mlabels\u001b[0m\u001b[1;33m)\u001b[0m\u001b[1;33m\u001b[0m\u001b[1;33m\u001b[0m\u001b[0m\n\u001b[0m",
      "\u001b[1;32m~\\AppData\\Local\\Temp\\ipykernel_37380\\3422519852.py\u001b[0m in \u001b[0;36mevent_evaluation\u001b[1;34m(y_test, y_pred, model, avg, labels)\u001b[0m\n\u001b[0;32m      9\u001b[0m     \u001b[0mF1_score\u001b[0m \u001b[1;33m=\u001b[0m \u001b[0mf1_score\u001b[0m\u001b[1;33m(\u001b[0m\u001b[0my_test\u001b[0m\u001b[1;33m,\u001b[0m \u001b[0my_pred\u001b[0m\u001b[1;33m,\u001b[0m \u001b[0maverage\u001b[0m\u001b[1;33m=\u001b[0m\u001b[0mavg\u001b[0m\u001b[1;33m,\u001b[0m \u001b[0mzero_division\u001b[0m\u001b[1;33m=\u001b[0m\u001b[1;36m0\u001b[0m\u001b[1;33m)\u001b[0m\u001b[1;33m\u001b[0m\u001b[1;33m\u001b[0m\u001b[0m\n\u001b[0;32m     10\u001b[0m     \u001b[0maccuracy\u001b[0m \u001b[1;33m=\u001b[0m \u001b[0maccuracy_score\u001b[0m\u001b[1;33m(\u001b[0m\u001b[0my_test\u001b[0m\u001b[1;33m,\u001b[0m \u001b[0my_pred\u001b[0m\u001b[1;33m)\u001b[0m\u001b[1;33m\u001b[0m\u001b[1;33m\u001b[0m\u001b[0m\n\u001b[1;32m---> 11\u001b[1;33m     \u001b[0mcm\u001b[0m \u001b[1;33m=\u001b[0m \u001b[0mconfusion_matrix\u001b[0m\u001b[1;33m(\u001b[0m\u001b[0my_test\u001b[0m\u001b[1;33m[\u001b[0m\u001b[1;34m'next_event'\u001b[0m\u001b[1;33m]\u001b[0m\u001b[1;33m,\u001b[0m \u001b[0my_pred_event\u001b[0m\u001b[1;33m)\u001b[0m\u001b[1;33m\u001b[0m\u001b[1;33m\u001b[0m\u001b[0m\n\u001b[0m\u001b[0;32m     12\u001b[0m \u001b[1;33m\u001b[0m\u001b[0m\n\u001b[0;32m     13\u001b[0m     \u001b[0mprint\u001b[0m\u001b[1;33m(\u001b[0m\u001b[1;34mf'Error metrics for the {model} when predicting the next event'\u001b[0m\u001b[1;33m)\u001b[0m\u001b[1;33m\u001b[0m\u001b[1;33m\u001b[0m\u001b[0m\n",
      "\u001b[1;32mc:\\Users\\konst\\anaconda3\\lib\\site-packages\\pandas\\core\\series.py\u001b[0m in \u001b[0;36m__getitem__\u001b[1;34m(self, key)\u001b[0m\n\u001b[0;32m    956\u001b[0m \u001b[1;33m\u001b[0m\u001b[0m\n\u001b[0;32m    957\u001b[0m         \u001b[1;32melif\u001b[0m \u001b[0mkey_is_scalar\u001b[0m\u001b[1;33m:\u001b[0m\u001b[1;33m\u001b[0m\u001b[1;33m\u001b[0m\u001b[0m\n\u001b[1;32m--> 958\u001b[1;33m             \u001b[1;32mreturn\u001b[0m \u001b[0mself\u001b[0m\u001b[1;33m.\u001b[0m\u001b[0m_get_value\u001b[0m\u001b[1;33m(\u001b[0m\u001b[0mkey\u001b[0m\u001b[1;33m)\u001b[0m\u001b[1;33m\u001b[0m\u001b[1;33m\u001b[0m\u001b[0m\n\u001b[0m\u001b[0;32m    959\u001b[0m \u001b[1;33m\u001b[0m\u001b[0m\n\u001b[0;32m    960\u001b[0m         \u001b[1;32mif\u001b[0m \u001b[0mis_hashable\u001b[0m\u001b[1;33m(\u001b[0m\u001b[0mkey\u001b[0m\u001b[1;33m)\u001b[0m\u001b[1;33m:\u001b[0m\u001b[1;33m\u001b[0m\u001b[1;33m\u001b[0m\u001b[0m\n",
      "\u001b[1;32mc:\\Users\\konst\\anaconda3\\lib\\site-packages\\pandas\\core\\series.py\u001b[0m in \u001b[0;36m_get_value\u001b[1;34m(self, label, takeable)\u001b[0m\n\u001b[0;32m   1067\u001b[0m \u001b[1;33m\u001b[0m\u001b[0m\n\u001b[0;32m   1068\u001b[0m         \u001b[1;31m# Similar to Index.get_value, but we do not fall back to positional\u001b[0m\u001b[1;33m\u001b[0m\u001b[1;33m\u001b[0m\u001b[0m\n\u001b[1;32m-> 1069\u001b[1;33m         \u001b[0mloc\u001b[0m \u001b[1;33m=\u001b[0m \u001b[0mself\u001b[0m\u001b[1;33m.\u001b[0m\u001b[0mindex\u001b[0m\u001b[1;33m.\u001b[0m\u001b[0mget_loc\u001b[0m\u001b[1;33m(\u001b[0m\u001b[0mlabel\u001b[0m\u001b[1;33m)\u001b[0m\u001b[1;33m\u001b[0m\u001b[1;33m\u001b[0m\u001b[0m\n\u001b[0m\u001b[0;32m   1070\u001b[0m         \u001b[1;32mreturn\u001b[0m \u001b[0mself\u001b[0m\u001b[1;33m.\u001b[0m\u001b[0mindex\u001b[0m\u001b[1;33m.\u001b[0m\u001b[0m_get_values_for_loc\u001b[0m\u001b[1;33m(\u001b[0m\u001b[0mself\u001b[0m\u001b[1;33m,\u001b[0m \u001b[0mloc\u001b[0m\u001b[1;33m,\u001b[0m \u001b[0mlabel\u001b[0m\u001b[1;33m)\u001b[0m\u001b[1;33m\u001b[0m\u001b[1;33m\u001b[0m\u001b[0m\n\u001b[0;32m   1071\u001b[0m \u001b[1;33m\u001b[0m\u001b[0m\n",
      "\u001b[1;32mc:\\Users\\konst\\anaconda3\\lib\\site-packages\\pandas\\core\\indexes\\range.py\u001b[0m in \u001b[0;36mget_loc\u001b[1;34m(self, key, method, tolerance)\u001b[0m\n\u001b[0;32m    387\u001b[0m                     \u001b[1;32mraise\u001b[0m \u001b[0mKeyError\u001b[0m\u001b[1;33m(\u001b[0m\u001b[0mkey\u001b[0m\u001b[1;33m)\u001b[0m \u001b[1;32mfrom\u001b[0m \u001b[0merr\u001b[0m\u001b[1;33m\u001b[0m\u001b[1;33m\u001b[0m\u001b[0m\n\u001b[0;32m    388\u001b[0m             \u001b[0mself\u001b[0m\u001b[1;33m.\u001b[0m\u001b[0m_check_indexing_error\u001b[0m\u001b[1;33m(\u001b[0m\u001b[0mkey\u001b[0m\u001b[1;33m)\u001b[0m\u001b[1;33m\u001b[0m\u001b[1;33m\u001b[0m\u001b[0m\n\u001b[1;32m--> 389\u001b[1;33m             \u001b[1;32mraise\u001b[0m \u001b[0mKeyError\u001b[0m\u001b[1;33m(\u001b[0m\u001b[0mkey\u001b[0m\u001b[1;33m)\u001b[0m\u001b[1;33m\u001b[0m\u001b[1;33m\u001b[0m\u001b[0m\n\u001b[0m\u001b[0;32m    390\u001b[0m         \u001b[1;32mreturn\u001b[0m \u001b[0msuper\u001b[0m\u001b[1;33m(\u001b[0m\u001b[1;33m)\u001b[0m\u001b[1;33m.\u001b[0m\u001b[0mget_loc\u001b[0m\u001b[1;33m(\u001b[0m\u001b[0mkey\u001b[0m\u001b[1;33m,\u001b[0m \u001b[0mmethod\u001b[0m\u001b[1;33m=\u001b[0m\u001b[0mmethod\u001b[0m\u001b[1;33m,\u001b[0m \u001b[0mtolerance\u001b[0m\u001b[1;33m=\u001b[0m\u001b[0mtolerance\u001b[0m\u001b[1;33m)\u001b[0m\u001b[1;33m\u001b[0m\u001b[1;33m\u001b[0m\u001b[0m\n\u001b[0;32m    391\u001b[0m \u001b[1;33m\u001b[0m\u001b[0m\n",
      "\u001b[1;31mKeyError\u001b[0m: 'next_event'"
     ]
    }
   ],
   "source": [
    "# define labels for the confusion matrix\n",
    "labels = train['event concept:name'].unique().tolist() + ['FIRST EVENT', 'LAST EVENT']\n",
    "\n",
    "# call the function and pass the labels parameter\n",
    "cm = event_evaluation(y_test['next_event'], y_pred_event, 'Random forest classifier', labels=labels)\n"
   ]
  },
  {
   "cell_type": "code",
   "execution_count": null,
   "id": "893197d9",
   "metadata": {},
   "outputs": [
    {
     "name": "stdout",
     "output_type": "stream",
     "text": [
      "Accuracy scores for each fold: [0.66631219 0.69429501 0.6929124  0.62385053 0.66253102]\n",
      "Mean accuracy score: 0.6679802297591677\n",
      "Standard deviation of accuracy scores: 0.02566704945086732\n"
     ]
    }
   ],
   "source": [
    "from sklearn.model_selection import cross_val_score\n",
    "\n",
    "# create a new random forest model with the same hyperparameters\n",
    "forest_clf = RandomForestClassifier(n_estimators=10, bootstrap = False, criterion = 'gini', random_state=42)\n",
    "\n",
    "# get the input features and labels\n",
    "X = train[['event concept:name','prev_event', '2prev_event', 'prev_timestamp']]\n",
    "y = train[['next_event']]\n",
    "\n",
    "# perform 5-fold cross-validation and get the accuracy score for each fold\n",
    "scores = cross_val_score(forest_clf, X, y.values.ravel(), cv=5, scoring='accuracy')\n",
    "\n",
    "# print the accuracy scores for each fold\n",
    "print('Accuracy scores for each fold:', scores)\n",
    "\n",
    "# print the mean and standard deviation of the accuracy scores\n",
    "print('Mean accuracy score:', scores.mean())\n",
    "print('Standard deviation of accuracy scores:', scores.std())\n"
   ]
  },
  {
   "cell_type": "code",
   "execution_count": null,
   "id": "abeba324",
   "metadata": {},
   "outputs": [
    {
     "data": {
      "text/plain": [
       "array([0.39591211, 0.32614465, 0.27794324])"
      ]
     },
     "execution_count": 10,
     "metadata": {},
     "output_type": "execute_result"
    }
   ],
   "source": [
    "forest_event.feature_importances_\n",
    "# current + prev 2 events are all important"
   ]
  },
  {
   "cell_type": "markdown",
   "id": "21e560f4",
   "metadata": {},
   "source": [
    "# Time prediction"
   ]
  },
  {
   "cell_type": "code",
   "execution_count": 31,
   "id": "2d5e0b14",
   "metadata": {},
   "outputs": [],
   "source": [
    "def RandomForestTime(X_train, X_test, y_train, y_test):\n",
    "    '''no grid search, no cv, or feature selection, do for final model\n",
    "    '''\n",
    "    \n",
    "    X_train_time = X_train[['event concept:name','prev_event', '2prev_event', 'prev_timestamp']]\n",
    "    y_train_time = y_train['next_timestamp']\n",
    "\n",
    "    X_test_time = X_test[['event concept:name','prev_event', '2prev_event', 'prev_timestamp']]\n",
    "    y_test_time = y_test['next_timestamp']\n",
    "    \n",
    "    forest_reg = RandomForestRegressor(n_estimators=10, bootstrap = False, random_state=42)\n",
    "    forest_reg.fit(X_train_time, y_train_time)\n",
    "    \n",
    "    y_pred = forest_reg.predict(X_test_time)\n",
    "\n",
    "    return forest_reg, y_pred"
   ]
  },
  {
   "cell_type": "code",
   "execution_count": 32,
   "id": "eae65f1e",
   "metadata": {},
   "outputs": [],
   "source": [
    "forest_time, y_pred_time = RandomForestTime(X_train, X_test, y_train, y_test)"
   ]
  },
  {
   "cell_type": "code",
   "execution_count": 33,
   "id": "44bc06a6",
   "metadata": {},
   "outputs": [
    {
     "name": "stdout",
     "output_type": "stream",
     "text": [
      "Error metrics (measured in hours) for the Random forest regressor when predicting the next event's Unix timestamp\n",
      "\n",
      "\n",
      "Mean Absolute Error: 287 3\n",
      "Root Mean Squared Error: 59233.629\n",
      "R2 score: 0.874\n"
     ]
    }
   ],
   "source": [
    "time_evaluation(y_test['next_timestamp'], y_pred_time, 'Random forest regressor')"
   ]
  },
  {
   "cell_type": "code",
   "execution_count": 14,
   "id": "83234e16",
   "metadata": {},
   "outputs": [
    {
     "data": {
      "text/plain": [
       "array([0.0081818 , 0.01032128, 0.00902414, 0.97247278])"
      ]
     },
     "execution_count": 14,
     "metadata": {},
     "output_type": "execute_result"
    }
   ],
   "source": [
    "forest_time.feature_importances_\n",
    "# only the time of prev event seems to be important, great r2 score"
   ]
  },
  {
   "cell_type": "code",
   "execution_count": null,
   "id": "42b18b52",
   "metadata": {},
   "outputs": [],
   "source": []
  }
 ],
 "metadata": {
  "kernelspec": {
   "display_name": "Python 3 (ipykernel)",
   "language": "python",
   "name": "python3"
  },
  "language_info": {
   "codemirror_mode": {
    "name": "ipython",
    "version": 3
   },
   "file_extension": ".py",
   "mimetype": "text/x-python",
   "name": "python",
   "nbconvert_exporter": "python",
   "pygments_lexer": "ipython3",
   "version": "3.9.13"
  }
 },
 "nbformat": 4,
 "nbformat_minor": 5
}
