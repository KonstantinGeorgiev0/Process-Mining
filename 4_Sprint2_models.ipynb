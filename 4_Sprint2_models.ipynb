{
 "cells": [
  {
   "cell_type": "code",
   "execution_count": 9,
   "id": "21d75de0",
   "metadata": {},
   "outputs": [],
   "source": [
    "import pandas as pd\n",
    "import numpy as np\n",
    "\n",
    "import seaborn as sns\n",
    "import matplotlib.pyplot as plt\n",
    "\n",
    "from sklearn.preprocessing import LabelEncoder, OrdinalEncoder\n",
    "from sklearn.metrics import mean_absolute_error, mean_squared_error, r2_score\n",
    "from sklearn.metrics import precision_score, recall_score, f1_score, accuracy_score, confusion_matrix\n",
    "from sklearn.ensemble import RandomForestClassifier, RandomForestRegressor\n"
   ]
  },
  {
   "cell_type": "code",
   "execution_count": 10,
   "id": "37c42cc1",
   "metadata": {},
   "outputs": [],
   "source": [
    "train = pd.read_csv('preprocessed_train.csv')\n",
    "test = pd.read_csv('preprocessed_test.csv')"
   ]
  },
  {
   "cell_type": "markdown",
   "id": "264498c5",
   "metadata": {},
   "source": [
    "# remove last event for each case in order to not break the model when accessing the next event time + make predictions on seconds_next + do tuning (grid search, feature selection) and cv\n"
   ]
  },
  {
   "cell_type": "markdown",
   "id": "767dfcb0",
   "metadata": {},
   "source": [
    "# Evaluation\n"
   ]
  },
  {
   "cell_type": "code",
   "execution_count": 11,
   "id": "e3f49aad",
   "metadata": {},
   "outputs": [],
   "source": [
    "def time_evaluation(y_test, y_pred, model: str):\n",
    " \n",
    "    print(f\"Error metrics (measured in hours) for the {model} when predicting the next event's Unix timestamp\")\n",
    "    print('\\n')\n",
    "    print('Mean Absolute Error:', round(mean_absolute_error(y_test, y_pred)/3600,3))\n",
    "    print('Root Mean Squared Error:', round(np.sqrt(mean_squared_error(y_test, y_pred)/3600),3))\n",
    "    print('R2 score:', round(r2_score(y_test, y_pred),3))\n",
    "    \n",
    "    \n",
    "def event_evaluation(y_test, y_pred, model: str, avg=\"weighted\"):\n",
    "\n",
    "    precision = precision_score(y_test, y_pred, average=avg, zero_division=0)\n",
    "    recall = recall_score(y_test, y_pred, average=avg, zero_division=0)\n",
    "    F1_score = f1_score(y_test, y_pred, average=avg, zero_division=0)\n",
    "    accuracy = accuracy_score(y_test, y_pred)\n",
    "    \n",
    "    print(f'Error metrics for the {model} when predicting the next event')\n",
    "    print('\\n')\n",
    "    print(f'Accuracy: {round(accuracy,3)}.')\n",
    "    print(f'Precision: {round(precision,3)}')\n",
    "    print(f'Recall: {round(recall,3)}')\n",
    "    print(f'f1-score: {round(F1_score,3)}')\n",
    "#     print(confusion_matrix(y_test, y_pred))"
   ]
  },
  {
   "cell_type": "markdown",
   "id": "e3905cd0",
   "metadata": {},
   "source": [
    "# Data splitting and encoding"
   ]
  },
  {
   "cell_type": "code",
   "execution_count": 12,
   "id": "d3a1b123",
   "metadata": {},
   "outputs": [],
   "source": [
    "def encoder(df):\n",
    "    \"\"\"\n",
    "    encode the columns that are needed in the models\n",
    "    \"\"\"\n",
    "    event_encoder = LabelEncoder()\n",
    "\n",
    "    events = df[\"event concept:name\"].unique().tolist() + ['FIRST EVENT',\"LAST EVENT\"]\n",
    "    event_encoder.fit(events)\n",
    "    \n",
    "    df[[\"event concept:name\",\"prev_event\", \"2prev_event\", 'next_event']] = df[[\"event concept:name\", \n",
    "            \"prev_event\", \"2prev_event\", 'next_event']].apply(event_encoder.transform)\n",
    "    \n",
    "    return df"
   ]
  },
  {
   "cell_type": "code",
   "execution_count": 13,
   "id": "2c1d4646",
   "metadata": {},
   "outputs": [],
   "source": [
    "train = encoder(train)\n",
    "test = encoder(test)"
   ]
  },
  {
   "cell_type": "code",
   "execution_count": null,
   "id": "faaf2b47",
   "metadata": {},
   "outputs": [],
   "source": [
    "train2 = train\n",
    "test2 = test\n",
    "\n",
    "train2['next position'] = train2.groupby('case concept:name')['position'].shift(-1) #Creates new column with NaN values for the last even in a case\n",
    "test2['next position'] = test2.groupby('case concept:name')['position'].shift(-1)\n",
    "\n",
    "train2 = train2.dropna(subset=['next position']) #Drop all last events per case\n",
    "test2 = test2.dropna(subset=['next position'])"
   ]
  },
  {
   "cell_type": "code",
   "execution_count": 15,
   "id": "12be60d1",
   "metadata": {},
   "outputs": [],
   "source": [
    "X_train = train2[['event concept:name','prev_event', '2prev_event', 'seconds_prev', 'timestamp_finish']]\n",
    "y_train = train2[['next_event', 'seconds_next']]\n",
    "\n",
    "X_test = test2[['event concept:name','prev_event', '2prev_event', 'seconds_prev', 'timestamp_finish']]\n",
    "y_test = test2[['next_event', 'seconds_next']]\n",
    "\n",
    "# select only 'next_timestamp' for predicting time and 'next_event' for events"
   ]
  },
  {
   "cell_type": "markdown",
   "id": "13f4be7c",
   "metadata": {},
   "source": [
    "# Event prediction"
   ]
  },
  {
   "cell_type": "code",
   "execution_count": 8,
   "id": "ab9b0a28",
   "metadata": {},
   "outputs": [],
   "source": [
    "def RandomForestEvents(X_train, X_test, y_train, y_test):\n",
    "    '''no grid search, no cv, or feature selection, do for final model\n",
    "    '''\n",
    "    \n",
    "    X_train_event = X_train[['event concept:name','prev_event', '2prev_event']]\n",
    "    y_train_event = y_train['next_event']\n",
    "\n",
    "    X_test_event = X_test[['event concept:name','prev_event', '2prev_event']]\n",
    "    y_test_event = y_test['next_event']\n",
    "    \n",
    "    forest_clf = RandomForestClassifier(n_estimators=10, bootstrap = False, criterion = 'gini', random_state=42)\n",
    "    forest_clf.fit(X_train_event, y_train_event)\n",
    "    \n",
    "    y_pred = forest_clf.predict(X_test_event)\n",
    "\n",
    "    return forest_clf, y_pred"
   ]
  },
  {
   "cell_type": "code",
   "execution_count": 9,
   "id": "238940c0",
   "metadata": {},
   "outputs": [],
   "source": [
    "forest_event, y_pred_event = RandomForestEvents(X_train, X_test, y_train, y_test)"
   ]
  },
  {
   "cell_type": "code",
   "execution_count": 10,
   "id": "dc211af2",
   "metadata": {
    "scrolled": true
   },
   "outputs": [
    {
     "name": "stdout",
     "output_type": "stream",
     "text": [
      "Error metrics for the Random forest classifier when predicting the next event\n",
      "\n",
      "\n",
      "Accuracy: 0.785.\n",
      "Precision: 0.772\n",
      "Recall: 0.785\n",
      "f1-score: 0.748\n"
     ]
    }
   ],
   "source": [
    "event_evaluation(y_test['next_event'], y_pred_event, 'Random forest classifier')"
   ]
  },
  {
   "cell_type": "code",
   "execution_count": 11,
   "id": "abeba324",
   "metadata": {},
   "outputs": [
    {
     "data": {
      "text/plain": [
       "array([0.39591211, 0.32614465, 0.27794324])"
      ]
     },
     "execution_count": 11,
     "metadata": {},
     "output_type": "execute_result"
    }
   ],
   "source": [
    "forest_event.feature_importances_\n",
    "# current + prev 2 events are all important"
   ]
  },
  {
   "cell_type": "markdown",
   "id": "21e560f4",
   "metadata": {},
   "source": [
    "# Time prediction"
   ]
  },
  {
   "cell_type": "code",
   "execution_count": 16,
   "id": "2d5e0b14",
   "metadata": {},
   "outputs": [],
   "source": [
    "def RandomForestTime(X_train, X_test, y_train, y_test):\n",
    "    '''no grid search, no cv, or feature selection, do for final model\n",
    "    '''\n",
    "    \n",
    "    X_train_time = X_train[['event concept:name','prev_event', '2prev_event', 'seconds_prev', 'timestamp_finish']]\n",
    "    y_train_time = y_train['seconds_next']\n",
    "\n",
    "\n",
    "\n",
    "    X_test_time = X_test[['event concept:name','prev_event', '2prev_event', 'seconds_prev', 'timestamp_finish']]\n",
    "    y_test_time = y_test['seconds_next']\n",
    "    \n",
    "    forest_reg = RandomForestRegressor(n_estimators=10, bootstrap = False, random_state=42)\n",
    "    forest_reg.fit(X_train_time, y_train_time)\n",
    "    \n",
    "    y_pred = forest_reg.predict(X_test_time)\n",
    "\n",
    "    return forest_reg, y_pred"
   ]
  },
  {
   "cell_type": "code",
   "execution_count": 18,
   "id": "eae65f1e",
   "metadata": {},
   "outputs": [],
   "source": [
    "forest_time, y_pred_time = RandomForestTime(X_train, X_test, y_train, y_test)"
   ]
  },
  {
   "cell_type": "code",
   "execution_count": 19,
   "id": "44bc06a6",
   "metadata": {},
   "outputs": [
    {
     "name": "stdout",
     "output_type": "stream",
     "text": [
      "Error metrics (measured in hours) for the Random forest regressor when predicting the next event's Unix timestamp\n",
      "\n",
      "\n",
      "Mean Absolute Error: 14.198\n",
      "Root Mean Squared Error: 2764.311\n",
      "R2 score: 0.015\n"
     ]
    }
   ],
   "source": [
    "time_evaluation(y_test['seconds_next'], y_pred_time, 'Random forest regressor')"
   ]
  },
  {
   "cell_type": "code",
   "execution_count": 15,
   "id": "83234e16",
   "metadata": {},
   "outputs": [
    {
     "data": {
      "text/plain": [
       "array([0.00384918, 0.00481503, 0.0045932 , 0.00854127, 0.97820133])"
      ]
     },
     "execution_count": 15,
     "metadata": {},
     "output_type": "execute_result"
    }
   ],
   "source": [
    "forest_time.feature_importances_\n",
    "# only the time of prev event seems to be important, great r2 score"
   ]
  },
  {
   "cell_type": "markdown",
   "id": "8f00f27b",
   "metadata": {},
   "source": [
    "## Time, Memory and CPU usage"
   ]
  },
  {
   "cell_type": "markdown",
   "id": "dcf19112",
   "metadata": {},
   "source": [
    "### Memory and CPU usage"
   ]
  },
  {
   "cell_type": "code",
   "execution_count": 24,
   "id": "1dd1100b",
   "metadata": {},
   "outputs": [
    {
     "name": "stdout",
     "output_type": "stream",
     "text": [
      "Error metrics for the Random forest classifier when predicting the next event\n",
      "\n",
      "\n",
      "Accuracy: 0.785.\n",
      "Precision: 0.772\n",
      "Recall: 0.785\n",
      "f1-score: 0.748\n",
      "Error metrics (measured in hours) for the Random forest regressor when predicting the next event's Unix timestamp\n",
      "\n",
      "\n",
      "Mean Absolute Error: 162.714\n",
      "Root Mean Squared Error: 44633.469\n",
      "R2 score: 0.929\n",
      "Time taken: 9.46 seconds\n",
      "CPU usage: 0.00%\n",
      "Memory usage: 524.21 MB\n"
     ]
    }
   ],
   "source": [
    "import psutil\n",
    "import time\n",
    "\n",
    "# start measuring CPU and memory usage\n",
    "process = psutil.Process()\n",
    "\n",
    "# start point\n",
    "start_time = time.time()\n",
    "\n",
    "forest_event, y_pred_event = RandomForestEvents(X_train, X_test, y_train, y_test)\n",
    "event_evaluation(y_test['next_event'], y_pred_event, 'Random forest classifier')\n",
    "forest_time, y_pred_time = RandomForestTime(X_train, X_test, y_train, y_test)\n",
    "time_evaluation(y_test['next_timestamp'], y_pred_time, 'Random forest regressor')\n",
    "# end point\n",
    "end_time = time.time()\n",
    "\n",
    "# calculate time taken\n",
    "elapsed_time = end_time - start_time\n",
    "print(f\"Time taken: {elapsed_time:.2f} seconds\")\n",
    "\n",
    "# measure CPU and memory usage\n",
    "cpu_usage = process.cpu_percent()\n",
    "memory_usage = process.memory_info().rss / 1024 / 1024  # in MB\n",
    "print(f\"CPU usage: {cpu_usage:.2f}%\")\n",
    "print(f\"Memory usage: {memory_usage:.2f} MB\")"
   ]
  },
  {
   "cell_type": "markdown",
   "id": "f137ef97",
   "metadata": {},
   "source": [
    "### Time usage"
   ]
  },
  {
   "cell_type": "code",
   "execution_count": 18,
   "id": "1fe49a4d",
   "metadata": {},
   "outputs": [
    {
     "name": "stdout",
     "output_type": "stream",
     "text": [
      "Error metrics for the Random forest classifier when predicting the next event\n",
      "\n",
      "\n",
      "Accuracy: 0.785.\n",
      "Precision: 0.772\n",
      "Recall: 0.785\n",
      "f1-score: 0.748\n",
      "Time taken by RandomForestEvents: 0.6969540119171143 seconds\n",
      "Error metrics (measured in hours) for the Random forest regressor when predicting the next event's Unix timestamp\n",
      "\n",
      "\n",
      "Mean Absolute Error: 162.714\n",
      "Root Mean Squared Error: 44633.469\n",
      "R2 score: 0.929\n",
      "Time taken by RandomForestTime: 8.802412033081055 seconds\n"
     ]
    }
   ],
   "source": [
    "start_time = time.time()\n",
    "\n",
    "# RandomForestEvents function\n",
    "forest_event, y_pred_event = RandomForestEvents(X_train, X_test, y_train, y_test)\n",
    "\n",
    "# event_evaluation function\n",
    "event_evaluation(y_test['next_event'], y_pred_event, 'Random forest classifier')\n",
    "\n",
    "print(f\"Time taken by RandomForestEvents: {time.time() - start_time} seconds\")\n",
    "\n",
    "start_time = time.time()\n",
    "\n",
    "# RandomForestTime function\n",
    "forest_time, y_pred_time = RandomForestTime(X_train, X_test, y_train, y_test)\n",
    "\n",
    "# time_evaluation function\n",
    "time_evaluation(y_test['next_timestamp'], y_pred_time, 'Random forest regressor')\n",
    "\n",
    "print(f\"Time taken by RandomForestTime: {time.time() - start_time} seconds\")"
   ]
  },
  {
   "cell_type": "markdown",
   "id": "df63fa04",
   "metadata": {},
   "source": [
    "# Visualizations"
   ]
  },
  {
   "cell_type": "markdown",
   "id": "7f09b391",
   "metadata": {},
   "source": [
    "### Confusion matrix for Random Forest estimator"
   ]
  },
  {
   "cell_type": "code",
   "execution_count": 15,
   "id": "42b18b52",
   "metadata": {},
   "outputs": [
    {
     "data": {
      "image/png": "[encoded data removed]",
      "text/plain": [
       "<Figure size 720x576 with 2 Axes>"
      ]
     },
     "metadata": {},
     "output_type": "display_data"
    }
   ],
   "source": [
    "cm = confusion_matrix(y_test['next_event'], y_pred_event)\n",
    "\n",
    "# plot confusion matrix as a heatmap\n",
    "sns.set(font_scale=1.2)\n",
    "fig, ax = plt.subplots(figsize=(10,8), facecolor='w')  # add facecolor attribute\n",
    "sns.heatmap(cm, fmt='g', cmap='RdBu_r', ax=ax, annot_kws={\"size\": 14})\n",
    "ax.set_xlabel('Predicted labels', fontsize=14)\n",
    "ax.set_ylabel('True labels', fontsize=14)\n",
    "ax.set_title('Confusion matrix for Random Forest estimator', fontsize=16)\n",
    "plt.show()"
   ]
  },
  {
   "cell_type": "markdown",
   "id": "d2af3518",
   "metadata": {},
   "source": [
    "### Naive and Random Forest estimators accuracy and precision"
   ]
  },
  {
   "cell_type": "code",
   "execution_count": 16,
   "id": "6d3384ff",
   "metadata": {},
   "outputs": [
    {
     "data": {
      "text/html": [
       "<div>\n",
       "<style scoped>\n",
       "    .dataframe tbody tr th:only-of-type {\n",
       "        vertical-align: middle;\n",
       "    }\n",
       "\n",
       "    .dataframe tbody tr th {\n",
       "        vertical-align: top;\n",
       "    }\n",
       "\n",
       "    .dataframe thead th {\n",
       "        text-align: right;\n",
       "    }\n",
       "</style>\n",
       "<table border=\"1\" class=\"dataframe\">\n",
       "  <thead>\n",
       "    <tr style=\"text-align: right;\">\n",
       "      <th></th>\n",
       "      <th></th>\n",
       "      <th>Naive</th>\n",
       "      <th>Random Forest</th>\n",
       "    </tr>\n",
       "  </thead>\n",
       "  <tbody>\n",
       "    <tr>\n",
       "      <th>0</th>\n",
       "      <td>F1 Score</td>\n",
       "      <td>0.266</td>\n",
       "      <td>0.748</td>\n",
       "    </tr>\n",
       "    <tr>\n",
       "      <th>1</th>\n",
       "      <td>Accuracy</td>\n",
       "      <td>0.346</td>\n",
       "      <td>0.785</td>\n",
       "    </tr>\n",
       "    <tr>\n",
       "      <th>2</th>\n",
       "      <td>Precision</td>\n",
       "      <td>0.297</td>\n",
       "      <td>0.772</td>\n",
       "    </tr>\n",
       "    <tr>\n",
       "      <th>3</th>\n",
       "      <td>Recall</td>\n",
       "      <td>0.346</td>\n",
       "      <td>0.785</td>\n",
       "    </tr>\n",
       "  </tbody>\n",
       "</table>\n",
       "</div>"
      ],
      "text/plain": [
       "              Naive Random Forest\n",
       "0   F1 Score  0.266         0.748\n",
       "1   Accuracy  0.346         0.785\n",
       "2  Precision  0.297         0.772\n",
       "3     Recall  0.346         0.785"
      ]
     },
     "execution_count": 16,
     "metadata": {},
     "output_type": "execute_result"
    }
   ],
   "source": [
    "# plot the naive and random forest f1, acc, pre, recall\n",
    "metrics_df = pd.DataFrame({\n",
    "    ' ': ['F1 Score', 'Accuracy', 'Precision', 'Recall'],\n",
    "    'Naive': ['0.266', '0.346', '0.297', '0.346'],\n",
    "    'Random Forest': ['0.748', '0.785', '0.772', '0.785']    \n",
    "})\n",
    "\n",
    "metrics_df.to_string(index=False)\n",
    "metrics_df"
   ]
  },
  {
   "cell_type": "markdown",
   "id": "fe91d61d",
   "metadata": {},
   "source": [
    "### Bar chart for feature importance of Random Forest event estimator"
   ]
  },
  {
   "cell_type": "code",
   "execution_count": 20,
   "id": "7910c7a9",
   "metadata": {},
   "outputs": [
    {
     "ename": "NameError",
     "evalue": "name 'forest_event' is not defined",
     "output_type": "error",
     "traceback": [
      "\u001b[1;31m---------------------------------------------------------------------------\u001b[0m",
      "\u001b[1;31mNameError\u001b[0m                                 Traceback (most recent call last)",
      "\u001b[1;32m<ipython-input-20-feac06c45369>\u001b[0m in \u001b[0;36m<module>\u001b[1;34m\u001b[0m\n\u001b[0;32m      2\u001b[0m \u001b[1;33m\u001b[0m\u001b[0m\n\u001b[0;32m      3\u001b[0m \u001b[1;31m# get feature importances and their names\u001b[0m\u001b[1;33m\u001b[0m\u001b[1;33m\u001b[0m\u001b[1;33m\u001b[0m\u001b[0m\n\u001b[1;32m----> 4\u001b[1;33m \u001b[0mimportances\u001b[0m \u001b[1;33m=\u001b[0m \u001b[0mforest_event\u001b[0m\u001b[1;33m.\u001b[0m\u001b[0mfeature_importances_\u001b[0m\u001b[1;33m\u001b[0m\u001b[1;33m\u001b[0m\u001b[0m\n\u001b[0m\u001b[0;32m      5\u001b[0m \u001b[1;31m# feature_names = X_train.columns.values\u001b[0m\u001b[1;33m\u001b[0m\u001b[1;33m\u001b[0m\u001b[1;33m\u001b[0m\u001b[0m\n\u001b[0;32m      6\u001b[0m \u001b[0mfeature_names\u001b[0m \u001b[1;33m=\u001b[0m \u001b[1;33m[\u001b[0m\u001b[1;34m'Current event'\u001b[0m\u001b[1;33m,\u001b[0m \u001b[1;34m'Previous event'\u001b[0m\u001b[1;33m,\u001b[0m \u001b[1;34m'2nd previous event'\u001b[0m\u001b[1;33m]\u001b[0m\u001b[1;33m\u001b[0m\u001b[1;33m\u001b[0m\u001b[0m\n",
      "\u001b[1;31mNameError\u001b[0m: name 'forest_event' is not defined"
     ]
    }
   ],
   "source": [
    "import matplotlib.pyplot as plt\n",
    "\n",
    "# get feature importances and their names\n",
    "importances = forest_event.feature_importances_\n",
    "# feature_names = X_train.columns.values\n",
    "feature_names = ['Current event', 'Previous event', '2nd previous event']\n",
    "\n",
    "# sort the features by importance in descending order\n",
    "indices = np.argsort(importances)[::-1]\n",
    "sorted_importances = importances[indices]\n",
    "\n",
    "plt.figure(figsize=(10,6))\n",
    "plt.bar(feature_names, sorted_importances, color=['brown', 'green', 'blue'])\n",
    "plt.title('Feature Importances of Random Forest event estimator')\n",
    "plt.xlabel('Features')\n",
    "plt.xticks(rotation=0)\n",
    "plt.ylabel('Importance')\n",
    "plt.show()\n"
   ]
  },
  {
   "cell_type": "markdown",
   "id": "36265d20",
   "metadata": {},
   "source": [
    "### Bar chart feature importance Random Forest time estimator"
   ]
  },
  {
   "cell_type": "code",
   "execution_count": 21,
   "id": "6ea6e2c8",
   "metadata": {},
   "outputs": [
    {
     "data": {
      "image/png": "[encoded data removed]",
      "text/plain": [
       "<Figure size 720x432 with 1 Axes>"
      ]
     },
     "metadata": {
      "needs_background": "light"
     },
     "output_type": "display_data"
    }
   ],
   "source": [
    "# get feature importances and their names\n",
    "importances = forest_time.feature_importances_\n",
    "feature_names = ['Current event time','Prev event time', 'Prev event', '2nd prev event', 'Current event']\n",
    "\n",
    "# sort the features by importance in descending order\n",
    "indices = np.argsort(importances)[::-1]\n",
    "sorted_importances = importances[indices]\n",
    "\n",
    "plt.figure(figsize=(10,6))\n",
    "plt.bar(feature_names, sorted_importances, color=['brown', 'green', 'blue', 'yellow'])\n",
    "plt.title('Feature Importances of Random Forest time estimator')\n",
    "plt.xlabel('Features')\n",
    "plt.xticks(rotation=0)\n",
    "plt.ylabel('Importance')\n",
    "plt.show()"
   ]
  },
  {
   "cell_type": "code",
   "execution_count": 19,
   "id": "bd658085",
   "metadata": {},
   "outputs": [
    {
     "data": {
      "text/plain": [
       "<AxesSubplot:xlabel='real', ylabel='error'>"
      ]
     },
     "execution_count": 19,
     "metadata": {},
     "output_type": "execute_result"
    },
    {
     "data": {
      "image/png": "[encoded data removed]",
      "text/plain": [
       "<Figure size 432x288 with 1 Axes>"
      ]
     },
     "metadata": {},
     "output_type": "display_data"
    }
   ],
   "source": [
    "residual = pd.concat([y_test, pd.Series(y_pred_time)], axis=\"columns\", ignore_index=True)\n",
    "residual.columns = ['none','real','pred']\n",
    "residual['error']= residual['real']-residual['pred']\n",
    "\n",
    "sns.residplot(x='real', y='error', data=residual)\n"
   ]
  }
 ],
 "metadata": {
  "kernelspec": {
   "display_name": "Python 3",
   "language": "python",
   "name": "python3"
  },
  "language_info": {
   "codemirror_mode": {
    "name": "ipython",
    "version": 3
   },
   "file_extension": ".py",
   "mimetype": "text/x-python",
   "name": "python",
   "nbconvert_exporter": "python",
   "pygments_lexer": "ipython3",
   "version": "3.8.8"
  },
  "vscode": {
   "interpreter": {
    "hash": "369f2c481f4da34e4445cda3fffd2e751bd1c4d706f27375911949ba6bb62e1c"
   }
  }
 },
 "nbformat": 4,
 "nbformat_minor": 5
}
