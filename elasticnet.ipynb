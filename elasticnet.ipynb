{
 "cells": [
  {
   "cell_type": "code",
   "execution_count": 5,
   "metadata": {},
   "outputs": [],
   "source": [
    "import pandas as pd\n",
    "import numpy as np\n",
    "\n",
    "import matplotlib.pyplot as plt\n",
    "import seaborn as sns\n",
    "from sklearn.linear_model import ElasticNetCV\n",
    "from sklearn.linear_model import ElasticNet\n",
    "from sklearn.model_selection import GridSearchCV\n",
    "from sklearn.datasets import make_regression\n",
    "from sklearn.metrics import mean_absolute_error, mean_squared_error, r2_score"
   ]
  },
  {
   "cell_type": "code",
   "execution_count": 6,
   "metadata": {},
   "outputs": [],
   "source": [
    "train = pd.read_csv('preprocessed_train.csv')\n",
    "test = pd.read_csv('preprocessed_test.csv')\n",
    "\n",
    "train['next position'] = train.groupby('case concept:name')['position'].shift(-1) #Creates new column with NaN values for the last even in a case\n",
    "test['next position'] = test.groupby('case concept:name')['position'].shift(-1)\n",
    "\n",
    "train = train.dropna(subset=['next position']) #Drop all last events per case\n",
    "test = test.dropna(subset=['next position'])\n",
    "\n",
    "train_LE = train.copy()\n",
    "train_LE = train_LE.replace({'event lifecycle:transition': {'SCHEDULE': 0, 'START': 1, 'COMPLETE': 2}})\n",
    "\n",
    "train_OHE = pd.get_dummies(train_LE, prefix=['type'], columns = ['event concept:name'])\n",
    "test_OHE = pd.get_dummies(train_LE, prefix=['type'], columns = ['event concept:name'])\n",
    "\n",
    "def make_val_set(dataframe):\n",
    "    \"\"\"make a validation set from the dataframe\"\"\"\n",
    "    \n",
    "    #set seed for reproducibility\n",
    "    np.random.seed(69)\n",
    "    \n",
    "    #extract all unique case IDs\n",
    "    unique_ids = dataframe['case concept:name'].unique()\n",
    "    \n",
    "    #select 10% of the unique IDs and use them to create a validation set\n",
    "    samples = np.random.choice(unique_ids, size=int(len(unique_ids)*0.1), replace=False)\n",
    "    val_set = dataframe[dataframe['case concept:name'].isin(samples)]\n",
    "    \n",
    "    train = dataframe[~dataframe['case concept:name'].isin(samples)]\n",
    "    \n",
    "    return val_set, train\n",
    "\n",
    "val_OHE, train_OHE = make_val_set(train_OHE)"
   ]
  },
  {
   "cell_type": "code",
   "execution_count": 7,
   "metadata": {},
   "outputs": [
    {
     "data": {
      "text/plain": [
       "0             0.334\n",
       "1            53.026\n",
       "2             0.969\n",
       "3         39427.562\n",
       "4           356.871\n",
       "            ...    \n",
       "172684      874.248\n",
       "172685     1320.139\n",
       "172686        4.322\n",
       "172688        0.158\n",
       "172689       39.197\n",
       "Name: seconds_next, Length: 163254, dtype: float64"
      ]
     },
     "execution_count": 7,
     "metadata": {},
     "output_type": "execute_result"
    }
   ],
   "source": [
    "x_train_time = train_OHE[['case AMOUNT_REQ','timestamp_finish', 'day_week', 'time_of_day','seconds_prev', 'type_A_ACCEPTED', 'type_A_ACTIVATED', 'type_A_APPROVED','type_A_CANCELLED', 'type_A_DECLINED', 'type_A_FINALIZED','type_A_PARTLYSUBMITTED', 'type_A_PREACCEPTED', 'type_A_REGISTERED','type_A_SUBMITTED', 'type_O_ACCEPTED', 'type_O_CANCELLED','type_O_CREATED', 'type_O_DECLINED', 'type_O_SELECTED', 'type_O_SENT','type_O_SENT_BACK', 'type_W_Afhandelen leads','type_W_Beoordelen fraude', 'type_W_Completeren aanvraag','type_W_Nabellen incomplete dossiers', 'type_W_Nabellen offertes','type_W_Valideren aanvraag', 'type_W_Wijzigen contractgegevens']]\n",
    "\n",
    "y_train_time = train_OHE['seconds_next']\n",
    "\n",
    "x_val_time = val_OHE[['case AMOUNT_REQ','timestamp_finish', 'day_week',\n",
    " 'time_of_day','seconds_prev', 'type_A_ACCEPTED', 'type_A_ACTIVATED', 'type_A_APPROVED',\n",
    " 'type_A_CANCELLED', 'type_A_DECLINED', 'type_A_FINALIZED','type_A_PARTLYSUBMITTED', 'type_A_PREACCEPTED', \n",
    " 'type_A_REGISTERED','type_A_SUBMITTED', 'type_O_ACCEPTED', 'type_O_CANCELLED','type_O_CREATED', 'type_O_DECLINED', \n",
    " 'type_O_SELECTED', 'type_O_SENT','type_O_SENT_BACK', 'type_W_Afhandelen leads','type_W_Beoordelen fraude', \n",
    " 'type_W_Completeren aanvraag','type_W_Nabellen incomplete dossiers', 'type_W_Nabellen offertes','type_W_Valideren aanvraag',\n",
    " 'type_W_Wijzigen contractgegevens']]\n",
    "\n",
    "y_val_time = val_OHE['seconds_next']\n",
    "\n",
    "x_test_time = test_OHE[['case AMOUNT_REQ','timestamp_finish', 'day_week',\n",
    " 'time_of_day','seconds_prev', 'type_A_ACCEPTED', 'type_A_ACTIVATED', 'type_A_APPROVED',\n",
    " 'type_A_CANCELLED', 'type_A_DECLINED', 'type_A_FINALIZED','type_A_PARTLYSUBMITTED', 'type_A_PREACCEPTED', \n",
    " 'type_A_REGISTERED','type_A_SUBMITTED', 'type_O_ACCEPTED', 'type_O_CANCELLED','type_O_CREATED', 'type_O_DECLINED', \n",
    " 'type_O_SELECTED', 'type_O_SENT','type_O_SENT_BACK', 'type_W_Afhandelen leads','type_W_Beoordelen fraude', \n",
    " 'type_W_Completeren aanvraag','type_W_Nabellen incomplete dossiers', 'type_W_Nabellen offertes','type_W_Valideren aanvraag',\n",
    " 'type_W_Wijzigen contractgegevens']]\n",
    " \n",
    "y_test_time = test_OHE['seconds_next']\n",
    "\n",
    "y_test_time\n",
    "\n"
   ]
  },
  {
   "attachments": {},
   "cell_type": "markdown",
   "metadata": {},
   "source": [
    "Alpha in sklearn is lambda\n"
   ]
  },
  {
   "cell_type": "code",
   "execution_count": 11,
   "metadata": {},
   "outputs": [],
   "source": [
    "parameters = {\"l1_ratio\": [.1, .3 ,.5,.85,.95, .99, 1],\n",
    "              'alpha':[0.1,0.3,0.5,0.7,0.9,1],\n",
    "              'max_iter': [4000,5000]}\n"
   ]
  },
  {
   "cell_type": "code",
   "execution_count": 9,
   "metadata": {},
   "outputs": [
    {
     "ename": "NameError",
     "evalue": "name 'l1' is not defined",
     "output_type": "error",
     "traceback": [
      "\u001b[1;31m---------------------------------------------------------------------------\u001b[0m",
      "\u001b[1;31mNameError\u001b[0m                                 Traceback (most recent call last)",
      "\u001b[1;32m<ipython-input-9-7a1339cb5536>\u001b[0m in \u001b[0;36m<module>\u001b[1;34m\u001b[0m\n\u001b[1;32m----> 1\u001b[1;33m \u001b[0mregr\u001b[0m \u001b[1;33m=\u001b[0m \u001b[0mElasticNetCV\u001b[0m\u001b[1;33m(\u001b[0m\u001b[0mcv\u001b[0m\u001b[1;33m=\u001b[0m\u001b[1;36m5\u001b[0m\u001b[1;33m,\u001b[0m\u001b[0mrandom_state\u001b[0m\u001b[1;33m=\u001b[0m\u001b[1;36m2\u001b[0m\u001b[1;33m,\u001b[0m\u001b[0ml1_ratio\u001b[0m \u001b[1;33m=\u001b[0m \u001b[0ml1\u001b[0m\u001b[1;33m,\u001b[0m\u001b[0malphas\u001b[0m \u001b[1;33m=\u001b[0m \u001b[0malphas\u001b[0m\u001b[1;33m,\u001b[0m\u001b[0mmax_iter\u001b[0m\u001b[1;33m=\u001b[0m\u001b[1;36m5000\u001b[0m \u001b[1;33m)\u001b[0m\u001b[1;33m\u001b[0m\u001b[1;33m\u001b[0m\u001b[0m\n\u001b[0m\u001b[0;32m      2\u001b[0m \u001b[0mregr\u001b[0m\u001b[1;33m.\u001b[0m\u001b[0mfit\u001b[0m\u001b[1;33m(\u001b[0m\u001b[0mx_train_time\u001b[0m\u001b[1;33m,\u001b[0m \u001b[0my_train_time\u001b[0m\u001b[1;33m)\u001b[0m\u001b[1;33m\u001b[0m\u001b[1;33m\u001b[0m\u001b[0m\n",
      "\u001b[1;31mNameError\u001b[0m: name 'l1' is not defined"
     ]
    }
   ],
   "source": [
    "regr = ElasticNetCV(cv=5,random_state=2,l1_ratio = l1,alphas = alphas,max_iter=5000 ) \n",
    "regr.fit(x_train_time, y_train_time)"
   ]
  },
  {
   "cell_type": "code",
   "execution_count": null,
   "metadata": {},
   "outputs": [],
   "source": [
    "y_pred_time = regr.predict(x_test_time)"
   ]
  },
  {
   "cell_type": "code",
   "execution_count": 14,
   "metadata": {},
   "outputs": [],
   "source": [
    "def time_evaluation(y_test, y_pred, model: str):\n",
    " \n",
    "    print(f\"Error metrics (measured in hours) for the {model} when predicting the time until next event\")\n",
    "    print('\\n')\n",
    "    print('Mean Absolute Error:', round(mean_absolute_error(y_test, y_pred)/3600,3))\n",
    "    print('Root Mean Squared Error:', round(np.sqrt(mean_squared_error(y_test, y_pred)/3600),3))\n",
    "    print('R2 score:', round(r2_score(y_test, y_pred),3))"
   ]
  },
  {
   "cell_type": "code",
   "execution_count": null,
   "metadata": {},
   "outputs": [
    {
     "name": "stdout",
     "output_type": "stream",
     "text": [
      "Error metrics (measured in hours) for the Elastic net when predicting the time until next event\n",
      "\n",
      "\n",
      "Mean Absolute Error: 15.315\n",
      "Root Mean Squared Error: 2294.288\n",
      "R2 score: 0.103\n"
     ]
    }
   ],
   "source": [
    "time_evaluation(y_test_time, y_pred_time, 'Elastic net')"
   ]
  },
  {
   "cell_type": "code",
   "execution_count": 12,
   "metadata": {},
   "outputs": [
    {
     "name": "stdout",
     "output_type": "stream",
     "text": [
      "Fitting 5 folds for each of 84 candidates, totalling 420 fits\n"
     ]
    },
    {
     "name": "stderr",
     "output_type": "stream",
     "text": [
      "c:\\Users\\20191955\\Anaconda3\\lib\\site-packages\\sklearn\\linear_model\\_coordinate_descent.py:530: ConvergenceWarning: Objective did not converge. You might want to increase the number of iterations. Duality gap: 649989367592347.8, tolerance: 246740022768.94382\n",
      "  model = cd_fast.enet_coordinate_descent(\n",
      "c:\\Users\\20191955\\Anaconda3\\lib\\site-packages\\sklearn\\linear_model\\_coordinate_descent.py:530: ConvergenceWarning: Objective did not converge. You might want to increase the number of iterations. Duality gap: 614959161585347.0, tolerance: 244622366801.963\n",
      "  model = cd_fast.enet_coordinate_descent(\n",
      "c:\\Users\\20191955\\Anaconda3\\lib\\site-packages\\sklearn\\linear_model\\_coordinate_descent.py:530: ConvergenceWarning: Objective did not converge. You might want to increase the number of iterations. Duality gap: 608556265778548.4, tolerance: 241893200357.11957\n",
      "  model = cd_fast.enet_coordinate_descent(\n",
      "c:\\Users\\20191955\\Anaconda3\\lib\\site-packages\\sklearn\\linear_model\\_coordinate_descent.py:530: ConvergenceWarning: Objective did not converge. You might want to increase the number of iterations. Duality gap: 588915810627144.0, tolerance: 235959495205.58292\n",
      "  model = cd_fast.enet_coordinate_descent(\n",
      "c:\\Users\\20191955\\Anaconda3\\lib\\site-packages\\sklearn\\linear_model\\_coordinate_descent.py:530: ConvergenceWarning: Objective did not converge. You might want to increase the number of iterations. Duality gap: 688102155592881.9, tolerance: 262499875218.20206\n",
      "  model = cd_fast.enet_coordinate_descent(\n",
      "c:\\Users\\20191955\\Anaconda3\\lib\\site-packages\\sklearn\\linear_model\\_coordinate_descent.py:530: ConvergenceWarning: Objective did not converge. You might want to increase the number of iterations. Duality gap: 617423696978739.8, tolerance: 246740022768.94382\n",
      "  model = cd_fast.enet_coordinate_descent(\n",
      "c:\\Users\\20191955\\Anaconda3\\lib\\site-packages\\sklearn\\linear_model\\_coordinate_descent.py:530: ConvergenceWarning: Objective did not converge. You might want to increase the number of iterations. Duality gap: 614958310480962.5, tolerance: 244622366801.963\n",
      "  model = cd_fast.enet_coordinate_descent(\n",
      "c:\\Users\\20191955\\Anaconda3\\lib\\site-packages\\sklearn\\linear_model\\_coordinate_descent.py:530: ConvergenceWarning: Objective did not converge. You might want to increase the number of iterations. Duality gap: 608555414813657.9, tolerance: 241893200357.11957\n",
      "  model = cd_fast.enet_coordinate_descent(\n",
      "c:\\Users\\20191955\\Anaconda3\\lib\\site-packages\\sklearn\\linear_model\\_coordinate_descent.py:530: ConvergenceWarning: Objective did not converge. You might want to increase the number of iterations. Duality gap: 588914960133783.8, tolerance: 235959495205.58292\n",
      "  model = cd_fast.enet_coordinate_descent(\n",
      "c:\\Users\\20191955\\Anaconda3\\lib\\site-packages\\sklearn\\linear_model\\_coordinate_descent.py:530: ConvergenceWarning: Objective did not converge. You might want to increase the number of iterations. Duality gap: 688101298083985.1, tolerance: 262499875218.20206\n",
      "  model = cd_fast.enet_coordinate_descent(\n",
      "c:\\Users\\20191955\\Anaconda3\\lib\\site-packages\\sklearn\\linear_model\\_coordinate_descent.py:530: ConvergenceWarning: Objective did not converge. You might want to increase the number of iterations. Duality gap: 536780222474928.5, tolerance: 246740022768.94382\n",
      "  model = cd_fast.enet_coordinate_descent(\n",
      "c:\\Users\\20191955\\Anaconda3\\lib\\site-packages\\sklearn\\linear_model\\_coordinate_descent.py:530: ConvergenceWarning: Objective did not converge. You might want to increase the number of iterations. Duality gap: 485026821544909.75, tolerance: 244622366801.963\n",
      "  model = cd_fast.enet_coordinate_descent(\n",
      "c:\\Users\\20191955\\Anaconda3\\lib\\site-packages\\sklearn\\linear_model\\_coordinate_descent.py:530: ConvergenceWarning: Objective did not converge. You might want to increase the number of iterations. Duality gap: 480735550956382.0, tolerance: 241893200357.11957\n",
      "  model = cd_fast.enet_coordinate_descent(\n",
      "c:\\Users\\20191955\\Anaconda3\\lib\\site-packages\\sklearn\\linear_model\\_coordinate_descent.py:530: ConvergenceWarning: Objective did not converge. You might want to increase the number of iterations. Duality gap: 464337149398547.1, tolerance: 235959495205.58292\n",
      "  model = cd_fast.enet_coordinate_descent(\n",
      "c:\\Users\\20191955\\Anaconda3\\lib\\site-packages\\sklearn\\linear_model\\_coordinate_descent.py:530: ConvergenceWarning: Objective did not converge. You might want to increase the number of iterations. Duality gap: 603799557243695.0, tolerance: 262499875218.20206\n",
      "  model = cd_fast.enet_coordinate_descent(\n",
      "c:\\Users\\20191955\\Anaconda3\\lib\\site-packages\\sklearn\\linear_model\\_coordinate_descent.py:530: ConvergenceWarning: Objective did not converge. You might want to increase the number of iterations. Duality gap: 426645322392833.25, tolerance: 246740022768.94382\n",
      "  model = cd_fast.enet_coordinate_descent(\n",
      "c:\\Users\\20191955\\Anaconda3\\lib\\site-packages\\sklearn\\linear_model\\_coordinate_descent.py:530: ConvergenceWarning: Objective did not converge. You might want to increase the number of iterations. Duality gap: 425908844551950.4, tolerance: 244622366801.963\n",
      "  model = cd_fast.enet_coordinate_descent(\n",
      "c:\\Users\\20191955\\Anaconda3\\lib\\site-packages\\sklearn\\linear_model\\_coordinate_descent.py:530: ConvergenceWarning: Objective did not converge. You might want to increase the number of iterations. Duality gap: 422474203128241.4, tolerance: 241893200357.11957\n",
      "  model = cd_fast.enet_coordinate_descent(\n",
      "c:\\Users\\20191955\\Anaconda3\\lib\\site-packages\\sklearn\\linear_model\\_coordinate_descent.py:530: ConvergenceWarning: Objective did not converge. You might want to increase the number of iterations. Duality gap: 407675320589230.1, tolerance: 235959495205.58292\n",
      "  model = cd_fast.enet_coordinate_descent(\n",
      "c:\\Users\\20191955\\Anaconda3\\lib\\site-packages\\sklearn\\linear_model\\_coordinate_descent.py:530: ConvergenceWarning: Objective did not converge. You might want to increase the number of iterations. Duality gap: 486655525339088.6, tolerance: 262499875218.20206\n",
      "  model = cd_fast.enet_coordinate_descent(\n",
      "c:\\Users\\20191955\\Anaconda3\\lib\\site-packages\\sklearn\\linear_model\\_coordinate_descent.py:530: ConvergenceWarning: Objective did not converge. You might want to increase the number of iterations. Duality gap: 1168868278759842.0, tolerance: 262499875218.20206\n",
      "  model = cd_fast.enet_coordinate_descent(\n"
     ]
    }
   ],
   "source": [
    "eNet = ElasticNet()\n",
    "grid = GridSearchCV(eNet, param_grid = parameters,scoring='r2',cv=5,verbose=1)\n",
    "grid.fit(x_train_time,y_train_time)\n",
    "y_pred_grid = grid.predict(x_test_time)"
   ]
  },
  {
   "cell_type": "code",
   "execution_count": 16,
   "metadata": {},
   "outputs": [
    {
     "name": "stdout",
     "output_type": "stream",
     "text": [
      "Error metrics (measured in hours) for the Elastic net grid search when predicting the time until next event\n",
      "\n",
      "\n",
      "Mean Absolute Error: 15.328\n",
      "Root Mean Squared Error: 2294.278\n",
      "R2 score: 0.103\n"
     ]
    }
   ],
   "source": [
    "time_evaluation(y_test_time,y_pred_grid,'Elastic net grid search')"
   ]
  },
  {
   "cell_type": "code",
   "execution_count": null,
   "metadata": {},
   "outputs": [],
   "source": []
  }
 ],
 "metadata": {
  "kernelspec": {
   "display_name": "base",
   "language": "python",
   "name": "python3"
  },
  "language_info": {
   "codemirror_mode": {
    "name": "ipython",
    "version": 3
   },
   "file_extension": ".py",
   "mimetype": "text/x-python",
   "name": "python",
   "nbconvert_exporter": "python",
   "pygments_lexer": "ipython3",
   "version": "3.8.8"
  },
  "orig_nbformat": 4
 },
 "nbformat": 4,
 "nbformat_minor": 2
}
