{
 "cells": [
  {
   "cell_type": "code",
   "execution_count": 1,
   "metadata": {},
   "outputs": [],
   "source": [
    "import pandas as pd\n",
    "import numpy as np\n",
    "\n",
    "import matplotlib.pyplot as plt\n",
    "import seaborn as sns\n",
    "from sklearn.linear_model import ElasticNet\n",
    "from sklearn.datasets import make_regression"
   ]
  },
  {
   "cell_type": "code",
   "execution_count": 14,
   "metadata": {},
   "outputs": [],
   "source": [
    "train = pd.read_csv('preprocessed_train.csv')\n",
    "test = pd.read_csv('preprocessed_test.csv')\n",
    "\n",
    "df_train_LE = df_train.copy()\n",
    "df_train_LE = df_train_LE.replace({'event lifecycle:transition': {'SCHEDULE': 0, 'START': 1, 'COMPLETE': 2}})\n",
    "\n",
    "train_OHE = pd.get_dummies(df_train_LE, prefix=['type'], columns = ['event concept:name'])\n",
    "test_OHE = pd.get_dummies(df_train_LE, prefix=['type'], columns = ['event concept:name'])\n",
    "\n",
    "def make_val_set(dataframe):\n",
    "    \"\"\"make a validation set from the dataframe\"\"\"\n",
    "    \n",
    "    #set seed for reproducibility\n",
    "    np.random.seed(69)\n",
    "    \n",
    "    #extract all unique case IDs\n",
    "    unique_ids = dataframe['case concept:name'].unique()\n",
    "    \n",
    "    #select 10% of the unique IDs and use them to create a validation set\n",
    "    samples = np.random.choice(unique_ids, size=int(len(unique_ids)*0.1), replace=False)\n",
    "    val_set = dataframe[dataframe['case concept:name'].isin(samples)]\n",
    "    \n",
    "    train = dataframe[~dataframe['case concept:name'].isin(samples)]\n",
    "    \n",
    "    return val_set, train\n",
    "\n",
    "val_OHE, train_OHE = make_val_set(train_OHE)"
   ]
  },
  {
   "cell_type": "code",
   "execution_count": 15,
   "metadata": {},
   "outputs": [],
   "source": [
    "x_train_time = train_OHE[['case AMOUNT_REQ','timestamp_finish', 'day_week', 'time_of_day','seconds_prev', 'type_A_ACCEPTED', 'type_A_ACTIVATED', 'type_A_APPROVED','type_A_CANCELLED', 'type_A_DECLINED', 'type_A_FINALIZED','type_A_PARTLYSUBMITTED', 'type_A_PREACCEPTED', 'type_A_REGISTERED','type_A_SUBMITTED', 'type_O_ACCEPTED', 'type_O_CANCELLED','type_O_CREATED', 'type_O_DECLINED', 'type_O_SELECTED', 'type_O_SENT','type_O_SENT_BACK', 'type_W_Afhandelen leads','type_W_Beoordelen fraude', 'type_W_Completeren aanvraag','type_W_Nabellen incomplete dossiers', 'type_W_Nabellen offertes','type_W_Valideren aanvraag', 'type_W_Wijzigen contractgegevens']]\n",
    "\n",
    "y_train_time = train_OHE['seconds_next']\n",
    "\n",
    "x_val_time = val_OHE[['case AMOUNT_REQ','timestamp_finish', 'day_week',\n",
    " 'time_of_day','seconds_prev', 'type_A_ACCEPTED', 'type_A_ACTIVATED', 'type_A_APPROVED',\n",
    " 'type_A_CANCELLED', 'type_A_DECLINED', 'type_A_FINALIZED','type_A_PARTLYSUBMITTED', 'type_A_PREACCEPTED', \n",
    " 'type_A_REGISTERED','type_A_SUBMITTED', 'type_O_ACCEPTED', 'type_O_CANCELLED','type_O_CREATED', 'type_O_DECLINED', \n",
    " 'type_O_SELECTED', 'type_O_SENT','type_O_SENT_BACK', 'type_W_Afhandelen leads','type_W_Beoordelen fraude', \n",
    " 'type_W_Completeren aanvraag','type_W_Nabellen incomplete dossiers', 'type_W_Nabellen offertes','type_W_Valideren aanvraag',\n",
    " 'type_W_Wijzigen contractgegevens']]\n",
    "\n",
    "y_val_time = val_OHE['seconds_next']\n",
    "\n",
    "x_test_time = test_OHE[['case AMOUNT_REQ','timestamp_finish', 'day_week',\n",
    " 'time_of_day','seconds_prev', 'type_A_ACCEPTED', 'type_A_ACTIVATED', 'type_A_APPROVED',\n",
    " 'type_A_CANCELLED', 'type_A_DECLINED', 'type_A_FINALIZED','type_A_PARTLYSUBMITTED', 'type_A_PREACCEPTED', \n",
    " 'type_A_REGISTERED','type_A_SUBMITTED', 'type_O_ACCEPTED', 'type_O_CANCELLED','type_O_CREATED', 'type_O_DECLINED', \n",
    " 'type_O_SELECTED', 'type_O_SENT','type_O_SENT_BACK', 'type_W_Afhandelen leads','type_W_Beoordelen fraude', \n",
    " 'type_W_Completeren aanvraag','type_W_Nabellen incomplete dossiers', 'type_W_Nabellen offertes','type_W_Valideren aanvraag',\n",
    " 'type_W_Wijzigen contractgegevens']]\n",
    " \n",
    "y_test_time = test_OHE['seconds_next']\n",
    "\n"
   ]
  },
  {
   "cell_type": "code",
   "execution_count": 16,
   "metadata": {},
   "outputs": [],
   "source": [
    "regr = ElasticNet(random_state=0)"
   ]
  }
 ],
 "metadata": {
  "kernelspec": {
   "display_name": "base",
   "language": "python",
   "name": "python3"
  },
  "language_info": {
   "codemirror_mode": {
    "name": "ipython",
    "version": 3
   },
   "file_extension": ".py",
   "mimetype": "text/x-python",
   "name": "python",
   "nbconvert_exporter": "python",
   "pygments_lexer": "ipython3",
   "version": "3.8.8"
  },
  "orig_nbformat": 4
 },
 "nbformat": 4,
 "nbformat_minor": 2
}
