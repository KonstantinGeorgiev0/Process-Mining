{
 "cells": [
  {
   "cell_type": "markdown",
   "metadata": {},
   "source": [
    "# **1. EDA**\n",
    "Performing initial investigations on the transformed data so as to discover patterns, to spot anomalies, to test hypothesis and to check assumptions with the help of summary statistics and graphical representations."
   ]
  },
  {
   "cell_type": "markdown",
   "metadata": {},
   "source": [
    "# **2. Initialization**\n",
    "Here is where you load all the dependencies required for the good execution of (most of) the notebook. Here is where you load your libraries and instantiate your functions/classes. Here is where you load the data/models/pipelines that are going to be used in the notebook."
   ]
  },
  {
   "cell_type": "markdown",
   "metadata": {},
   "source": [
    "## **2.1 Loading libraries**"
   ]
  },
  {
   "cell_type": "code",
   "execution_count": 2,
   "metadata": {},
   "outputs": [],
   "source": [
    "import numpy as np\n",
    "import pandas as pd\n",
    "\n",
    "from tkinter import Tk\n",
    "from tkinter.filedialog import askopenfilename #file-opening GUI\n",
    "\n",
    "import time, datetime\n",
    "\n",
    "pd.set_option('display.float_format', lambda x: '%.3f' % x)"
   ]
  },
  {
   "cell_type": "markdown",
   "metadata": {},
   "source": [
    "## **2.3 Loading data**"
   ]
  },
  {
   "cell_type": "code",
   "execution_count": 4,
   "metadata": {},
   "outputs": [],
   "source": [
    "df = pd.read_csv('BPI_Challenge_2012-training.csv')\n",
    "test = pd.read_csv('BPI_Challenge_2012-test.csv')\n",
    "\n",
    "df.drop(columns = ['eventID '], inplace=True) # Drop eventID"
   ]
  },
  {
   "cell_type": "markdown",
   "metadata": {},
   "source": [
    "## **2.2 Functions**"
   ]
  },
  {
   "cell_type": "markdown",
   "metadata": {},
   "source": [
    "#### **2.2.1 Function 'read_data'**"
   ]
  },
  {
   "cell_type": "code",
   "execution_count": 13,
   "metadata": {},
   "outputs": [],
   "source": [
    "def read_data(path: str):\n",
    "    \"\"\"Reads in a .csv file as a Pandas DataFrame with the opening of the file via a .\n",
    "\n",
    "    Args:\n",
    "        path (str): pathname to the .csv file \n",
    "\n",
    "    Returns:\n",
    "        pd.DataFrame: Readed in .csv file as a pd.DataFrame\n",
    "    \"\"\"\n",
    "    dataframe = pd.read_csv(path)\n",
    "    return dataframe\n",
    "\n",
    "\n",
    "def read_data_GUI():\n",
    "    \"\"\"Reads in a .csv file as a Pandas DataFrame with the opening of the file via a GUI.\n",
    "\n",
    "    Returns:\n",
    "        pd.DataFrame: Readed in .csv file as a pd.DataFrame\n",
    "    \"\"\"\n",
    "    Tk().withdraw() # we don't want a full GUI, so keep the root window from appearing\n",
    "    path = askopenfilename() # show an \"Open\" dialog box and return the path to the selected file\n",
    "    dataframe = pd.read_csv(path)\n",
    "    return dataframe\n",
    "  \n",
    "\n",
    "    \n",
    "def month(x):\n",
    "    return x.month\n",
    "\n",
    "def day(x):\n",
    "    return x.day\n",
    "\n",
    "def week(x):\n",
    "    return x.week\n",
    "\n",
    "def day_week(x):\n",
    "    \n",
    "    return x.weekday()"
   ]
  },
  {
   "cell_type": "markdown",
   "metadata": {},
   "source": [
    "# **3. EDA**\n",
    "The main part of the topics depend a lot on what are the objectives of the notebook, and should be customized for each analysis. It is a good practice to write the analysis of the results obtained in each individual experiment (if any)."
   ]
  },
  {
   "cell_type": "markdown",
   "metadata": {},
   "source": [
    "## **3.1 Distributions**"
   ]
  },
  {
   "cell_type": "code",
   "execution_count": 7,
   "metadata": {},
   "outputs": [
    {
     "data": {
      "text/html": [
       "<div>\n",
       "<style scoped>\n",
       "    .dataframe tbody tr th:only-of-type {\n",
       "        vertical-align: middle;\n",
       "    }\n",
       "\n",
       "    .dataframe tbody tr th {\n",
       "        vertical-align: top;\n",
       "    }\n",
       "\n",
       "    .dataframe thead th {\n",
       "        text-align: right;\n",
       "    }\n",
       "</style>\n",
       "<table border=\"1\" class=\"dataframe\">\n",
       "  <thead>\n",
       "    <tr style=\"text-align: right;\">\n",
       "      <th></th>\n",
       "      <th>case concept:name</th>\n",
       "      <th>case REG_DATE</th>\n",
       "      <th>case AMOUNT_REQ</th>\n",
       "      <th>event org:resource</th>\n",
       "      <th>event concept:name</th>\n",
       "      <th>event lifecycle:transition</th>\n",
       "      <th>event time:timestamp</th>\n",
       "    </tr>\n",
       "  </thead>\n",
       "  <tbody>\n",
       "    <tr>\n",
       "      <th>0</th>\n",
       "      <td>173688</td>\n",
       "      <td>01-10-2011 00:38:44.546</td>\n",
       "      <td>20000</td>\n",
       "      <td>112.000</td>\n",
       "      <td>A_SUBMITTED</td>\n",
       "      <td>COMPLETE</td>\n",
       "      <td>01-10-2011 00:38:44.546</td>\n",
       "    </tr>\n",
       "    <tr>\n",
       "      <th>1</th>\n",
       "      <td>173688</td>\n",
       "      <td>01-10-2011 00:38:44.546</td>\n",
       "      <td>20000</td>\n",
       "      <td>112.000</td>\n",
       "      <td>A_PARTLYSUBMITTED</td>\n",
       "      <td>COMPLETE</td>\n",
       "      <td>01-10-2011 00:38:44.880</td>\n",
       "    </tr>\n",
       "    <tr>\n",
       "      <th>2</th>\n",
       "      <td>173688</td>\n",
       "      <td>01-10-2011 00:38:44.546</td>\n",
       "      <td>20000</td>\n",
       "      <td>112.000</td>\n",
       "      <td>A_PREACCEPTED</td>\n",
       "      <td>COMPLETE</td>\n",
       "      <td>01-10-2011 00:39:37.906</td>\n",
       "    </tr>\n",
       "    <tr>\n",
       "      <th>3</th>\n",
       "      <td>173688</td>\n",
       "      <td>01-10-2011 00:38:44.546</td>\n",
       "      <td>20000</td>\n",
       "      <td>112.000</td>\n",
       "      <td>W_Completeren aanvraag</td>\n",
       "      <td>SCHEDULE</td>\n",
       "      <td>01-10-2011 00:39:38.875</td>\n",
       "    </tr>\n",
       "    <tr>\n",
       "      <th>4</th>\n",
       "      <td>173691</td>\n",
       "      <td>01-10-2011 08:08:58.256</td>\n",
       "      <td>5000</td>\n",
       "      <td>112.000</td>\n",
       "      <td>A_SUBMITTED</td>\n",
       "      <td>COMPLETE</td>\n",
       "      <td>01-10-2011 08:08:58.256</td>\n",
       "    </tr>\n",
       "  </tbody>\n",
       "</table>\n",
       "</div>"
      ],
      "text/plain": [
       "   case concept:name            case REG_DATE  case AMOUNT_REQ  \\\n",
       "0             173688  01-10-2011 00:38:44.546            20000   \n",
       "1             173688  01-10-2011 00:38:44.546            20000   \n",
       "2             173688  01-10-2011 00:38:44.546            20000   \n",
       "3             173688  01-10-2011 00:38:44.546            20000   \n",
       "4             173691  01-10-2011 08:08:58.256             5000   \n",
       "\n",
       "   event org:resource      event concept:name event lifecycle:transition  \\\n",
       "0             112.000             A_SUBMITTED                   COMPLETE   \n",
       "1             112.000       A_PARTLYSUBMITTED                   COMPLETE   \n",
       "2             112.000           A_PREACCEPTED                   COMPLETE   \n",
       "3             112.000  W_Completeren aanvraag                   SCHEDULE   \n",
       "4             112.000             A_SUBMITTED                   COMPLETE   \n",
       "\n",
       "      event time:timestamp  \n",
       "0  01-10-2011 00:38:44.546  \n",
       "1  01-10-2011 00:38:44.880  \n",
       "2  01-10-2011 00:39:37.906  \n",
       "3  01-10-2011 00:39:38.875  \n",
       "4  01-10-2011 08:08:58.256  "
      ]
     },
     "execution_count": 7,
     "metadata": {},
     "output_type": "execute_result"
    }
   ],
   "source": [
    "df_case_name = df.sort_values(by=['case concept:name'],) #dataframe reformat to sorted cases\n",
    "# df_case_name.head(30)\n",
    "\n",
    "df.head(5) #Show top 5 rows of df"
   ]
  },
  {
   "cell_type": "code",
   "execution_count": 8,
   "metadata": {},
   "outputs": [
    {
     "data": {
      "text/plain": [
       "case concept:name               int64\n",
       "case REG_DATE                  object\n",
       "case AMOUNT_REQ                 int64\n",
       "event org:resource            float64\n",
       "event concept:name             object\n",
       "event lifecycle:transition     object\n",
       "event time:timestamp           object\n",
       "dtype: object"
      ]
     },
     "execution_count": 8,
     "metadata": {},
     "output_type": "execute_result"
    }
   ],
   "source": [
    "df.dtypes #Datatypes per column"
   ]
  },
  {
   "cell_type": "code",
   "execution_count": 9,
   "metadata": {},
   "outputs": [
    {
     "data": {
      "text/plain": [
       "case concept:name                 0\n",
       "case REG_DATE                     0\n",
       "case AMOUNT_REQ                   0\n",
       "event org:resource            17838\n",
       "event concept:name                0\n",
       "event lifecycle:transition        0\n",
       "event time:timestamp              0\n",
       "dtype: int64"
      ]
     },
     "execution_count": 9,
     "metadata": {},
     "output_type": "execute_result"
    }
   ],
   "source": [
    "#See how many NaN values per feature\n",
    "df.isna().sum()"
   ]
  },
  {
   "cell_type": "code",
   "execution_count": 10,
   "metadata": {},
   "outputs": [
    {
     "data": {
      "text/plain": [
       "event concept:name\n",
       "W_Completeren aanvraag            49310\n",
       "W_Nabellen offertes               46628\n",
       "W_Nabellen incomplete dossiers    22447\n",
       "W_Valideren aanvraag              19145\n",
       "W_Afhandelen leads                15953\n",
       "A_PARTLYSUBMITTED                 12478\n",
       "A_SUBMITTED                       12478\n",
       "A_DECLINED                         7590\n",
       "A_PREACCEPTED                      6758\n",
       "O_CREATED                          6270\n",
       "O_SELECTED                         6270\n",
       "O_SENT                             6270\n",
       "A_ACCEPTED                         4583\n",
       "A_FINALIZED                        4487\n",
       "O_CANCELLED                        3346\n",
       "O_SENT_BACK                        3167\n",
       "A_CANCELLED                        2691\n",
       "A_ACTIVATED                        2126\n",
       "A_REGISTERED                       2126\n",
       "A_APPROVED                         2126\n",
       "O_ACCEPTED                         2123\n",
       "O_DECLINED                          760\n",
       "W_Beoordelen fraude                 642\n",
       "W_Wijzigen contractgegevens          12\n",
       "Name: event concept:name, dtype: int64"
      ]
     },
     "execution_count": 10,
     "metadata": {},
     "output_type": "execute_result"
    }
   ],
   "source": [
    "#Distribution per type of event\n",
    "df.groupby(['event concept:name'])['event concept:name'].count().sort_values(ascending=False) "
   ]
  },
  {
   "cell_type": "code",
   "execution_count": 11,
   "metadata": {},
   "outputs": [
    {
     "name": "stdout",
     "output_type": "stream",
     "text": [
      "event lifecycle:transition\n",
      "COMPLETE    151130\n",
      "START        64510\n",
      "SCHEDULE     24146\n",
      "Name: event lifecycle:transition, dtype: int64\n"
     ]
    },
    {
     "data": {
      "text/plain": [
       "event lifecycle:transition\n",
       "COMPLETE    AxesSubplot(0.125,0.11;0.775x0.77)\n",
       "SCHEDULE    AxesSubplot(0.125,0.11;0.775x0.77)\n",
       "START       AxesSubplot(0.125,0.11;0.775x0.77)\n",
       "Name: event lifecycle:transition, dtype: object"
      ]
     },
     "execution_count": 11,
     "metadata": {},
     "output_type": "execute_result"
    },
    {
     "data": {
      "image/png": "[encoded data removed]",
      "text/plain": [
       "<Figure size 640x480 with 1 Axes>"
      ]
     },
     "metadata": {},
     "output_type": "display_data"
    }
   ],
   "source": [
    "#Distribution per status of event\n",
    "print(df.groupby(['event lifecycle:transition'])['event lifecycle:transition'].count().sort_values(ascending=False) )\n",
    "df.groupby(['event lifecycle:transition'])['event lifecycle:transition'].hist()"
   ]
  },
  {
   "cell_type": "markdown",
   "metadata": {},
   "source": [
    "### **3.1.1 Results**\n",
    "- Event_ID is unnecessary, given it is unique per event and not important for sequence creation.\n",
    "- case REG_DATE is a string --> Conversion to datetime could be nice\n",
    "- event time:timestamp is a string --> Conversion to datetime could be nice\n",
    "- event org:resource has NaN values (17838 tuples)"
   ]
  },
  {
   "cell_type": "markdown",
   "metadata": {},
   "source": [
    "## **3.2 Some preprocessing**"
   ]
  },
  {
   "cell_type": "code",
   "execution_count": 12,
   "metadata": {},
   "outputs": [
    {
     "data": {
      "text/html": [
       "<div>\n",
       "<style scoped>\n",
       "    .dataframe tbody tr th:only-of-type {\n",
       "        vertical-align: middle;\n",
       "    }\n",
       "\n",
       "    .dataframe tbody tr th {\n",
       "        vertical-align: top;\n",
       "    }\n",
       "\n",
       "    .dataframe thead th {\n",
       "        text-align: right;\n",
       "    }\n",
       "</style>\n",
       "<table border=\"1\" class=\"dataframe\">\n",
       "  <thead>\n",
       "    <tr style=\"text-align: right;\">\n",
       "      <th></th>\n",
       "      <th>case concept:name</th>\n",
       "      <th>case REG_DATE</th>\n",
       "      <th>case AMOUNT_REQ</th>\n",
       "      <th>event org:resource</th>\n",
       "      <th>event concept:name</th>\n",
       "      <th>event lifecycle:transition</th>\n",
       "      <th>event time:timestamp</th>\n",
       "      <th>timestamp_start</th>\n",
       "      <th>timestamp_finish</th>\n",
       "      <th>time_to_complete</th>\n",
       "      <th>day_week</th>\n",
       "      <th>day_month</th>\n",
       "    </tr>\n",
       "  </thead>\n",
       "  <tbody>\n",
       "    <tr>\n",
       "      <th>0</th>\n",
       "      <td>173688</td>\n",
       "      <td>2011-01-10 00:38:44.546</td>\n",
       "      <td>20000</td>\n",
       "      <td>112.000</td>\n",
       "      <td>A_SUBMITTED</td>\n",
       "      <td>COMPLETE</td>\n",
       "      <td>2011-01-10 00:38:44.546</td>\n",
       "      <td>1294619924</td>\n",
       "      <td>1294619924</td>\n",
       "      <td>0</td>\n",
       "      <td>0</td>\n",
       "      <td>10</td>\n",
       "    </tr>\n",
       "    <tr>\n",
       "      <th>1</th>\n",
       "      <td>173688</td>\n",
       "      <td>2011-01-10 00:38:44.546</td>\n",
       "      <td>20000</td>\n",
       "      <td>112.000</td>\n",
       "      <td>A_PARTLYSUBMITTED</td>\n",
       "      <td>COMPLETE</td>\n",
       "      <td>2011-01-10 00:38:44.880</td>\n",
       "      <td>1294619924</td>\n",
       "      <td>1294619924</td>\n",
       "      <td>0</td>\n",
       "      <td>0</td>\n",
       "      <td>10</td>\n",
       "    </tr>\n",
       "    <tr>\n",
       "      <th>2</th>\n",
       "      <td>173688</td>\n",
       "      <td>2011-01-10 00:38:44.546</td>\n",
       "      <td>20000</td>\n",
       "      <td>112.000</td>\n",
       "      <td>A_PREACCEPTED</td>\n",
       "      <td>COMPLETE</td>\n",
       "      <td>2011-01-10 00:39:37.906</td>\n",
       "      <td>1294619924</td>\n",
       "      <td>1294619977</td>\n",
       "      <td>53</td>\n",
       "      <td>0</td>\n",
       "      <td>10</td>\n",
       "    </tr>\n",
       "    <tr>\n",
       "      <th>3</th>\n",
       "      <td>173688</td>\n",
       "      <td>2011-01-10 00:38:44.546</td>\n",
       "      <td>20000</td>\n",
       "      <td>112.000</td>\n",
       "      <td>W_Completeren aanvraag</td>\n",
       "      <td>SCHEDULE</td>\n",
       "      <td>2011-01-10 00:39:38.875</td>\n",
       "      <td>1294619924</td>\n",
       "      <td>1294619978</td>\n",
       "      <td>54</td>\n",
       "      <td>0</td>\n",
       "      <td>10</td>\n",
       "    </tr>\n",
       "    <tr>\n",
       "      <th>4</th>\n",
       "      <td>173691</td>\n",
       "      <td>2011-01-10 08:08:58.256</td>\n",
       "      <td>5000</td>\n",
       "      <td>112.000</td>\n",
       "      <td>A_SUBMITTED</td>\n",
       "      <td>COMPLETE</td>\n",
       "      <td>2011-01-10 08:08:58.256</td>\n",
       "      <td>1294646938</td>\n",
       "      <td>1294646938</td>\n",
       "      <td>0</td>\n",
       "      <td>0</td>\n",
       "      <td>10</td>\n",
       "    </tr>\n",
       "  </tbody>\n",
       "</table>\n",
       "</div>"
      ],
      "text/plain": [
       "   case concept:name           case REG_DATE  case AMOUNT_REQ  \\\n",
       "0             173688 2011-01-10 00:38:44.546            20000   \n",
       "1             173688 2011-01-10 00:38:44.546            20000   \n",
       "2             173688 2011-01-10 00:38:44.546            20000   \n",
       "3             173688 2011-01-10 00:38:44.546            20000   \n",
       "4             173691 2011-01-10 08:08:58.256             5000   \n",
       "\n",
       "   event org:resource      event concept:name event lifecycle:transition  \\\n",
       "0             112.000             A_SUBMITTED                   COMPLETE   \n",
       "1             112.000       A_PARTLYSUBMITTED                   COMPLETE   \n",
       "2             112.000           A_PREACCEPTED                   COMPLETE   \n",
       "3             112.000  W_Completeren aanvraag                   SCHEDULE   \n",
       "4             112.000             A_SUBMITTED                   COMPLETE   \n",
       "\n",
       "     event time:timestamp  timestamp_start  timestamp_finish  \\\n",
       "0 2011-01-10 00:38:44.546       1294619924        1294619924   \n",
       "1 2011-01-10 00:38:44.880       1294619924        1294619924   \n",
       "2 2011-01-10 00:39:37.906       1294619924        1294619977   \n",
       "3 2011-01-10 00:39:38.875       1294619924        1294619978   \n",
       "4 2011-01-10 08:08:58.256       1294646938        1294646938   \n",
       "\n",
       "   time_to_complete  day_week  day_month  \n",
       "0                 0         0         10  \n",
       "1                 0         0         10  \n",
       "2                53         0         10  \n",
       "3                54         0         10  \n",
       "4                 0         0         10  "
      ]
     },
     "execution_count": 12,
     "metadata": {},
     "output_type": "execute_result"
    }
   ],
   "source": [
    "# Transform 'event time:timestamp' and 'case REG_DATE' from str to DateTime\n",
    "df['case REG_DATE'] =  pd.to_datetime(df['case REG_DATE'])\n",
    "df['event time:timestamp'] =  pd.to_datetime(df['event time:timestamp'])\n",
    "df['timestamp_start'] = df['case REG_DATE'].values.astype(np.int64) // 10 ** 9\n",
    "df['timestamp_finish'] = df['event time:timestamp'].values.astype(np.int64) // 10 ** 9\n",
    "df['time_to_complete'] = df['timestamp_finish'] - df['timestamp_start']\n",
    "\n",
    "#df[\"event_cycle_encode\"]=df[\"event lifecycle:transition\"].apply(encode)\n",
    "df[\"day_week\"]=df[\"event time:timestamp\"].apply(day_week)\n",
    "# df[\"week\"]=df[\"event time:timestamp\"].apply(week)\n",
    "df[\"day_month\"]=df[\"event time:timestamp\"].apply(day)\n",
    "# df[\"month\"]=df[\"event time:timestamp\"].apply(month)\n",
    "\n",
    "# commented out month and week, should talk about it\n",
    "\n",
    "# for encoding the categories, not sure if needed\n",
    "lifecycle_enc={\"COMPLETE\":0,\"SCHEDULE\":1,\"START\":2}\n",
    "events = list(df['event concept:name'].unique())\n",
    "event_codes = range(len(events))\n",
    "event_enc = dict(zip(events, event_codes))\n",
    "\n",
    "\n",
    "df.head()\n"
   ]
  },
  {
   "cell_type": "markdown",
   "metadata": {},
   "source": [
    "# **4 Naive estimators**\n"
   ]
  },
  {
   "cell_type": "code",
   "execution_count": null,
   "metadata": {},
   "outputs": [],
   "source": []
  },
  {
   "cell_type": "code",
   "execution_count": null,
   "metadata": {},
   "outputs": [],
   "source": []
  },
  {
   "cell_type": "markdown",
   "metadata": {},
   "source": [
    "# **5 Results (if any)**\n",
    "Here is where you summarize all the results of the analysis as a whole."
   ]
  },
  {
   "cell_type": "code",
   "execution_count": null,
   "metadata": {},
   "outputs": [],
   "source": []
  }
 ],
 "metadata": {
  "kernelspec": {
   "display_name": "Python 3 (ipykernel)",
   "language": "python",
   "name": "python3"
  },
  "language_info": {
   "codemirror_mode": {
    "name": "ipython",
    "version": 3
   },
   "file_extension": ".py",
   "mimetype": "text/x-python",
   "name": "python",
   "nbconvert_exporter": "python",
   "pygments_lexer": "ipython3",
   "version": "3.9.13"
  },
  "vscode": {
   "interpreter": {
    "hash": "e8ecf3d1b7816c8a562bac795b7c2fee9a5e529b79bc3cd729516b279b05f6b8"
   }
  }
 },
 "nbformat": 4,
 "nbformat_minor": 2
}
