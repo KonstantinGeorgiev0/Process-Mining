{
 "cells": [
  {
   "cell_type": "code",
   "execution_count": null,
   "id": "305b0118",
   "metadata": {},
   "outputs": [],
   "source": [
    "# pip install hypopt "
   ]
  },
  {
   "cell_type": "code",
   "execution_count": null,
   "id": "21d75de0",
   "metadata": {},
   "outputs": [],
   "source": [
    "import pandas as pd\n",
    "import numpy as np\n",
    "\n",
    "import seaborn as sns\n",
    "import matplotlib.pyplot as plt\n",
    "\n",
    "from sklearn.preprocessing import LabelEncoder, OrdinalEncoder\n",
    "from sklearn.metrics import mean_absolute_error, mean_squared_error, r2_score\n",
    "from sklearn.metrics import precision_score, recall_score, f1_score, accuracy_score, confusion_matrix\n",
    "from sklearn.ensemble import RandomForestClassifier, RandomForestRegressor\n",
    "from sklearn.tree import DecisionTreeClassifier, DecisionTreeRegressor\n",
    "from sklearn.linear_model import ElasticNet\n",
    "from sklearn.preprocessing import OneHotEncoder\n",
    "from sklearn.model_selection import GridSearchCV\n",
    "from hypopt import GridSearch\n",
    "from sklearn.linear_model import ElasticNet\n",
    "import copy"
   ]
  },
  {
   "cell_type": "code",
   "execution_count": null,
   "id": "37c42cc1",
   "metadata": {},
   "outputs": [],
   "source": [
    "train = pd.read_csv('preprocessed_train.csv')\n",
    "test = pd.read_csv('preprocessed_test.csv')"
   ]
  },
  {
   "cell_type": "markdown",
   "id": "09cd6269",
   "metadata": {},
   "source": [
    "# Removing the last event from each case to reduce noise in the models"
   ]
  },
  {
   "cell_type": "code",
   "execution_count": null,
   "id": "c5c776fa",
   "metadata": {},
   "outputs": [],
   "source": [
    "train.drop(train.groupby('case concept:name').tail(1).index, axis=0, inplace=True)\n",
    "test.drop(test.groupby('case concept:name').tail(1).index, axis=0, inplace=True)"
   ]
  },
  {
   "cell_type": "markdown",
   "id": "767dfcb0",
   "metadata": {},
   "source": [
    "# Evaluation\n"
   ]
  },
  {
   "cell_type": "code",
   "execution_count": null,
   "id": "e3f49aad",
   "metadata": {},
   "outputs": [],
   "source": [
    "def time_evaluation(y_test, y_pred, model: str):\n",
    "    print('\\n')\n",
    "    print(f\"Error metrics (measured in hours) for the {model} when predicting the next event's Unix timestamp\")\n",
    "    \n",
    "    print('Mean Absolute Error:', round(mean_absolute_error(y_test, y_pred)/3600,2))\n",
    "    print('Root Mean Squared Error:', round(np.sqrt(mean_squared_error(y_test, y_pred)/3600),2))\n",
    "#     print('R2 score:', round(r2_score(y_test, y_pred),2))\n",
    "    \n",
    "    \n",
    "def event_evaluation(y_test, y_pred, model: str, avg=\"weighted\"):\n",
    "\n",
    "    precision = precision_score(y_test, y_pred, average=avg, zero_division=0)\n",
    "    recall = recall_score(y_test, y_pred, average=avg, zero_division=0)\n",
    "    F1_score = f1_score(y_test, y_pred, average=avg, zero_division=0)\n",
    "    accuracy = accuracy_score(y_test, y_pred)\n",
    "    print('\\n')\n",
    "    print(f'Error metrics for the {model} when predicting the next event')\n",
    "    \n",
    "    print(f'Accuracy: {round(accuracy,2)}')\n",
    "    print(f'Precision: {round(precision,2)}')\n",
    "    print(f'Recall: {round(recall,2)}')\n",
    "    print(f'f1-score: {round(F1_score,2)}')\n",
    "#     print(confusion_matrix(y_test, y_pred))"
   ]
  },
  {
   "cell_type": "markdown",
   "id": "e3905cd0",
   "metadata": {},
   "source": [
    "# Data splitting and encoding"
   ]
  },
  {
   "cell_type": "code",
   "execution_count": null,
   "id": "e1b9b8a9",
   "metadata": {},
   "outputs": [],
   "source": [
    "train_objs_num = train.shape[0]\n",
    "\n",
    "dataset = pd.concat(objs=[train, test], axis=0)\n",
    "\n",
    "dataset = dataset.replace({'event lifecycle:transition': {'SCHEDULE': 0, 'START': 1, 'COMPLETE': 2}})\n",
    "dataset = pd.get_dummies(dataset, prefix = ['current', 'prev', '2prev'], \n",
    "                           columns = ['event concept:name', 'prev_event', '2prev_event'])\n",
    "\n",
    "train_OHE = copy.copy(dataset[:train_objs_num])\n",
    "test_OHE = copy.copy(dataset[train_objs_num:])\n",
    "\n",
    "\n",
    "\n",
    "val_OHE = train_OHE.loc[147054:]\n",
    "train_OHE = train_OHE.loc[:147054]\n",
    "\n",
    "first_val_event_timestamp = val_OHE['event time:timestamp'].min()\n",
    "train_OHE = train_OHE.groupby('case concept:name').filter(lambda g: g['event time:timestamp'].min() < first_val_event_timestamp and g['event time:timestamp'].max() < first_val_event_timestamp)\n",
    "\n",
    "first_test_event_timestamp = test_OHE['event time:timestamp'].min()\n",
    "val_OHE = val_OHE.groupby('case concept:name').filter(lambda g: g['event time:timestamp'].min() < first_test_event_timestamp and g['event time:timestamp'].max() < first_test_event_timestamp)\n"
   ]
  },
  {
   "cell_type": "code",
   "execution_count": null,
   "id": "91f5220d",
   "metadata": {},
   "outputs": [],
   "source": [
    "train_OHE.shape, val_OHE.shape, test_OHE.shape"
   ]
  },
  {
   "cell_type": "code",
   "execution_count": null,
   "id": "100ccd76",
   "metadata": {},
   "outputs": [],
   "source": [
    "lst = []\n",
    "for element in list(train_OHE.columns):\n",
    "    if element not in list(test_OHE.columns):\n",
    "        lst.append(element)\n",
    "print('event type that happen in the train but not the test set: ' + str(lst))"
   ]
  },
  {
   "cell_type": "code",
   "execution_count": null,
   "id": "e9c442d8",
   "metadata": {},
   "outputs": [],
   "source": [
    "features_time = ['timestamp_finish', 'seconds_prev', 'active cases', 'day_week', 'time_of_day', \n",
    "                 'case AMOUNT_REQ', 'event lifecycle:transition', \n",
    "                 'current_A_ACCEPTED', 'current_A_ACTIVATED', 'current_A_APPROVED', 'current_A_CANCELLED', 'current_A_DECLINED', 'current_A_FINALIZED', 'current_A_PARTLYSUBMITTED', 'current_A_PREACCEPTED', 'current_A_REGISTERED', 'current_A_SUBMITTED', 'current_O_ACCEPTED','current_O_CANCELLED', 'current_O_CREATED', 'current_O_DECLINED','current_O_SELECTED', 'current_O_SENT', 'current_O_SENT_BACK','current_W_Afhandelen leads', 'current_W_Beoordelen fraude','current_W_Completeren aanvraag','current_W_Nabellen incomplete dossiers', 'current_W_Nabellen offertes','current_W_Valideren aanvraag', 'current_W_Wijzigen contractgegevens']\n",
    "\n",
    "# features_time_test = ['timestamp_finish', 'seconds_prev', 'active cases', 'day_week', 'time_of_day', \n",
    "#                  'case AMOUNT_REQ', 'event lifecycle:transition', \n",
    "#            'current_A_ACCEPTED', 'current_A_ACTIVATED', 'current_A_APPROVED','current_A_CANCELLED', 'current_A_DECLINED', 'current_A_FINALIZED','current_A_PARTLYSUBMITTED', 'current_A_PREACCEPTED','current_A_REGISTERED', 'current_A_SUBMITTED', 'current_O_ACCEPTED', 'current_O_CANCELLED', 'current_O_CREATED', 'current_O_DECLINED','current_O_SELECTED', 'current_O_SENT', 'current_O_SENT_BACK','current_W_Afhandelen leads', 'current_W_Beoordelen fraude','current_W_Completeren aanvraag','current_W_Nabellen incomplete dossiers', 'current_W_Nabellen offertes', 'current_W_Valideren aanvraag']\n",
    "features_time_test = features_time.copy()\n",
    "\n",
    "target_time = 'seconds_next'\n",
    "\n",
    "features_event = ['active cases', 'day_week', 'time_of_day',  \n",
    "                  'event lifecycle:transition', 'case AMOUNT_REQ', \n",
    "       'current_A_ACCEPTED', 'current_A_ACTIVATED', 'current_A_APPROVED','current_A_CANCELLED', 'current_A_DECLINED', 'current_A_FINALIZED','current_A_PARTLYSUBMITTED', 'current_A_PREACCEPTED','current_A_REGISTERED', 'current_A_SUBMITTED', 'current_O_ACCEPTED','current_O_CANCELLED', 'current_O_CREATED', 'current_O_DECLINED','current_O_SELECTED', 'current_O_SENT', 'current_O_SENT_BACK','current_W_Afhandelen leads', 'current_W_Beoordelen fraude','current_W_Completeren aanvraag','current_W_Nabellen incomplete dossiers', 'current_W_Nabellen offertes','current_W_Valideren aanvraag', 'current_W_Wijzigen contractgegevens','prev_A_ACCEPTED', 'prev_A_ACTIVATED', 'prev_A_APPROVED','prev_A_CANCELLED', 'prev_A_DECLINED', 'prev_A_FINALIZED','prev_A_PARTLYSUBMITTED', 'prev_A_PREACCEPTED', 'prev_A_REGISTERED','prev_A_SUBMITTED', 'prev_FIRST EVENT', 'prev_O_ACCEPTED', 'prev_O_CANCELLED', 'prev_O_CREATED', 'prev_O_DECLINED','prev_O_SELECTED', 'prev_O_SENT', 'prev_O_SENT_BACK','prev_W_Afhandelen leads', 'prev_W_Beoordelen fraude','prev_W_Completeren aanvraag', 'prev_W_Nabellen incomplete dossiers','prev_W_Nabellen offertes', 'prev_W_Valideren aanvraag','prev_W_Wijzigen contractgegevens', '2prev_A_ACCEPTED','2prev_A_ACTIVATED', '2prev_A_APPROVED', '2prev_A_CANCELLED','2prev_A_FINALIZED', '2prev_A_PARTLYSUBMITTED', '2prev_A_PREACCEPTED','2prev_A_REGISTERED', '2prev_A_SUBMITTED', '2prev_FIRST EVENT','2prev_O_ACCEPTED', '2prev_O_CANCELLED', '2prev_O_CREATED','2prev_O_SELECTED', '2prev_O_SENT', '2prev_O_SENT_BACK','2prev_W_Afhandelen leads', '2prev_W_Beoordelen fraude','2prev_W_Completeren aanvraag', '2prev_W_Nabellen incomplete dossiers','2prev_W_Nabellen offertes', '2prev_W_Valideren aanvraag','2prev_W_Wijzigen contractgegevens']\n",
    "\n",
    "# features_event_test = ['active cases', 'day_week', 'time_of_day',  \n",
    "#                   'event lifecycle:transition', 'case AMOUNT_REQ', \n",
    "#                        'current_A_ACCEPTED', 'current_A_ACTIVATED', 'current_A_APPROVED','current_A_CANCELLED', 'current_A_DECLINED', 'current_A_FINALIZED','current_A_PARTLYSUBMITTED', 'current_A_PREACCEPTED','current_A_REGISTERED', 'current_A_SUBMITTED', 'current_O_ACCEPTED','current_O_CANCELLED', 'current_O_CREATED', 'current_O_DECLINED','current_O_SELECTED', 'current_O_SENT', 'current_O_SENT_BACK','current_W_Afhandelen leads', 'current_W_Beoordelen fraude','current_W_Completeren aanvraag','current_W_Nabellen incomplete dossiers', 'current_W_Nabellen offertes','current_W_Valideren aanvraag','prev_A_ACCEPTED', 'prev_A_ACTIVATED', 'prev_A_APPROVED','prev_A_CANCELLED', 'prev_A_DECLINED', 'prev_A_FINALIZED','prev_A_PARTLYSUBMITTED', 'prev_A_PREACCEPTED', 'prev_A_REGISTERED','prev_A_SUBMITTED', 'prev_FIRST EVENT', 'prev_O_ACCEPTED','prev_O_CANCELLED', 'prev_O_CREATED', 'prev_O_DECLINED','prev_O_SELECTED', 'prev_O_SENT', 'prev_O_SENT_BACK','prev_W_Afhandelen leads', 'prev_W_Beoordelen fraude','prev_W_Completeren aanvraag', 'prev_W_Nabellen incomplete dossiers','prev_W_Nabellen offertes', 'prev_W_Valideren aanvraag','2prev_A_ACCEPTED', '2prev_A_ACTIVATED', '2prev_A_APPROVED','2prev_A_FINALIZED', '2prev_A_PARTLYSUBMITTED', '2prev_A_PREACCEPTED','2prev_A_REGISTERED', '2prev_A_SUBMITTED', '2prev_FIRST EVENT','2prev_O_ACCEPTED', '2prev_O_CANCELLED', '2prev_O_CREATED','2prev_O_SELECTED', '2prev_O_SENT', '2prev_O_SENT_BACK','2prev_W_Afhandelen leads', '2prev_W_Beoordelen fraude','2prev_W_Completeren aanvraag', '2prev_W_Nabellen incomplete dossiers','2prev_W_Nabellen offertes', '2prev_W_Valideren aanvraag']\n",
    "features_event_test = features_event.copy()\n",
    "\n",
    "target_event = 'next_event'\n",
    "\n",
    "\n",
    "# TIME\n",
    "X_train_time = train_OHE[features_time]\n",
    "y_train_time = train_OHE[target_time]\n",
    "\n",
    "X_val_time = val_OHE[features_time]\n",
    "y_val_time = val_OHE[target_time]\n",
    "\n",
    "X_test_time = test_OHE[features_time_test].copy()\n",
    "y_test_time = test_OHE[target_time]\n",
    "\n",
    "\n",
    "# EVENT\n",
    "X_train_event = train_OHE[features_event]\n",
    "y_train_event = train_OHE[target_event]\n",
    "\n",
    "X_val_event = val_OHE[features_event]\n",
    "y_val_event = val_OHE[target_event]\n",
    "\n",
    "X_test_event = test_OHE[features_event_test].copy()\n",
    "y_test_event = test_OHE[target_event]\n",
    "\n",
    "\n",
    "\n",
    "# X_test_time['current_W_Wijzigen contractgegevens']=-1\n",
    "# X_test_event[['current_W_Wijzigen contractgegevens', 'prev_W_Wijzigen contractgegevens', '2prev_A_CANCELLED', '2prev_W_Wijzigen contractgegevens']]=-1"
   ]
  },
  {
   "cell_type": "code",
   "execution_count": null,
   "id": "ace69a30",
   "metadata": {},
   "outputs": [],
   "source": [
    "X_train_event.shape, X_train_time.shape, X_test_event.shape, X_test_time.shape"
   ]
  },
  {
   "cell_type": "code",
   "execution_count": null,
   "id": "d00bb239",
   "metadata": {},
   "outputs": [],
   "source": [
    "# ohe = OneHotEncoder().fit(train['event concept:name'].to_numpy().reshape(-1, 1))\n",
    "\n",
    "# transformed = ohe.transform(train['event concept:name'].to_numpy().reshape(-1, 1))\n",
    "# train_OHE = pd.DataFrame(transformed, columns=jobs_encoder.get_feature_names())"
   ]
  },
  {
   "cell_type": "markdown",
   "id": "13f4be7c",
   "metadata": {},
   "source": [
    "# Event prediction"
   ]
  },
  {
   "cell_type": "code",
   "execution_count": null,
   "id": "ab9b0a28",
   "metadata": {},
   "outputs": [],
   "source": [
    "def RandomForestEvents(X_train, y_train, X_val, y_val):\n",
    "    \n",
    "    \n",
    "    params={'max_depth': [None],\n",
    "     'n_estimators': [500, 800, 1200, 1800]}\n",
    "\n",
    "    \n",
    "    forest_clf = RandomForestClassifier(bootstrap=True, criterion='gini', max_features='sqrt', random_state=42)    \n",
    "    \n",
    "    grid = GridSearch(model=forest_clf, param_grid=params, parallelize=False)\n",
    "\n",
    "    grid.fit(X_train, y_train, X_val, y_val)\n",
    "    \n",
    "    return grid.best_estimator_\n"
   ]
  },
  {
   "cell_type": "code",
   "execution_count": null,
   "id": "b321e645",
   "metadata": {},
   "outputs": [],
   "source": [
    "rf_event = RandomForestEvents(X_train_event, y_train_event, X_val_event, y_val_event)"
   ]
  },
  {
   "cell_type": "code",
   "execution_count": null,
   "id": "3902e1b4",
   "metadata": {},
   "outputs": [],
   "source": [
    "rf_event_train = rf_event.predict(X_train_event)\n",
    "rf_event_val = rf_event.predict(X_val_event)\n",
    "rf_event_test = rf_event.predict(X_test_event)"
   ]
  },
  {
   "cell_type": "code",
   "execution_count": null,
   "id": "5c2bee11",
   "metadata": {},
   "outputs": [],
   "source": [
    "print(rf_event.get_params())\n",
    "\n",
    "event_evaluation(y_train_event, rf_event_train, 'RF EVENT TRAIN')\n",
    "event_evaluation(y_val_event, rf_event_val, 'RF EVENT VAL')\n",
    "event_evaluation(y_test_event, rf_event_test, 'RF EVENT TEST')"
   ]
  },
  {
   "cell_type": "code",
   "execution_count": null,
   "id": "7b7802cd",
   "metadata": {
    "scrolled": true
   },
   "outputs": [],
   "source": [
    "rf_event_features = dict(zip(features_event, rf_event.feature_importances_))\n",
    "\n",
    "rf_event_features\n",
    "\n",
    "# some categories of current, prev, 2prev event are very useful for next event -> current, prev, 2prev are good features"
   ]
  },
  {
   "cell_type": "markdown",
   "id": "21e560f4",
   "metadata": {},
   "source": [
    "# Time prediction"
   ]
  },
  {
   "cell_type": "code",
   "execution_count": null,
   "id": "2d5e0b14",
   "metadata": {},
   "outputs": [],
   "source": [
    "def RandomForestTime(X_train, y_train, X_val, y_val):\n",
    "    \n",
    "    \n",
    "    params={'max_depth': [None],\n",
    "     'n_estimators': [500, 800, 1200, 1800]}\n",
    "\n",
    "    forest_reg = RandomForestRegressor(bootstrap = True, max_features='sqrt', random_state=42)\n",
    "    \n",
    "    grid = GridSearch(model=forest_reg, param_grid=params, parallelize=False)\n",
    "\n",
    "    grid.fit(X_train, y_train, X_val, y_val)\n",
    "    \n",
    "    return grid.best_estimator_\n"
   ]
  },
  {
   "cell_type": "code",
   "execution_count": null,
   "id": "e8fb122f",
   "metadata": {},
   "outputs": [],
   "source": [
    "rf_time = RandomForestTime(X_train_time, y_train_time, X_val_time, y_val_time)"
   ]
  },
  {
   "cell_type": "code",
   "execution_count": null,
   "id": "44bc06a6",
   "metadata": {},
   "outputs": [],
   "source": [
    "rf_time_train = rf_time.predict(X_train_time)\n",
    "rf_time_val = rf_time.predict(X_val_time)\n",
    "rf_time_test = rf_time.predict(X_test_time)"
   ]
  },
  {
   "cell_type": "code",
   "execution_count": null,
   "id": "52b0026b",
   "metadata": {},
   "outputs": [],
   "source": [
    "print(rf_time.get_params())\n",
    "\n",
    "time_evaluation(y_train_time, rf_time_train, 'RF TIME TRAIN')\n",
    "time_evaluation(y_val_time, rf_time_val, 'RF TIME VAL')\n",
    "time_evaluation(y_test_time, rf_time_test, 'RF TIME TEST')"
   ]
  },
  {
   "cell_type": "code",
   "execution_count": null,
   "id": "86909733",
   "metadata": {},
   "outputs": [],
   "source": [
    "rf_time_features = dict(zip(features_time, rf_time.feature_importances_))\n",
    "\n",
    "rf_time_features\n",
    "\n",
    "# current event, current and prev time, note that active cases is relatively unimportant here too, mention cyclical time too"
   ]
  },
  {
   "cell_type": "markdown",
   "id": "46aa7675",
   "metadata": {},
   "source": [
    "# Elastic net"
   ]
  },
  {
   "cell_type": "code",
   "execution_count": null,
   "id": "e83c7846",
   "metadata": {},
   "outputs": [],
   "source": [
    "def ElasticNetTime(X_train, y_train, X_val, y_val):\n",
    "    \n",
    "    \n",
    "    params = {\"l1_ratio\": [.1, .3 ,.5,.85,.95, .99, 1],\n",
    "              'alpha':[0.1,0.3,0.5,0.7,0.9,1],\n",
    "             'max_iter':[5000]}\n",
    "\n",
    "#     params = {\"l1_ratio\": [.5],\n",
    "#               'alpha':[.5]}\n",
    "\n",
    "\n",
    "    en_reg = ElasticNet(random_state=42)\n",
    "    \n",
    "    grid = GridSearch(model=en_reg, param_grid=params, parallelize=False)\n",
    "\n",
    "    grid.fit(X_train, y_train, X_val, y_val)\n",
    "    \n",
    "    return grid.best_estimator_\n"
   ]
  },
  {
   "cell_type": "code",
   "execution_count": null,
   "id": "fbe4c73d",
   "metadata": {},
   "outputs": [],
   "source": [
    "en_time = ElasticNetTime(X_train_time, y_train_time, X_val_time, y_val_time)"
   ]
  },
  {
   "cell_type": "code",
   "execution_count": null,
   "id": "458817f2",
   "metadata": {},
   "outputs": [],
   "source": [
    "en_time_train = en_time.predict(X_train_time)\n",
    "en_time_val = en_time.predict(X_val_time)\n",
    "en_time_test = en_time.predict(X_test_time)"
   ]
  },
  {
   "cell_type": "code",
   "execution_count": null,
   "id": "1a718c8e",
   "metadata": {},
   "outputs": [],
   "source": [
    "print(en_time.get_params())\n",
    "\n",
    "time_evaluation(y_train_time, en_time_train, 'EN TIME TRAIN')\n",
    "time_evaluation(y_val_time, en_time_val, 'EN TIME VAL')\n",
    "time_evaluation(y_test_time, en_time_test, 'EN TIME TEST')"
   ]
  },
  {
   "cell_type": "code",
   "execution_count": null,
   "id": "84f1cc59",
   "metadata": {},
   "outputs": [],
   "source": [
    "en_time_features = dict(zip(features_time, en_time.coef_))\n",
    "\n",
    "en_time_features"
   ]
  },
  {
   "cell_type": "code",
   "execution_count": null,
   "id": "2896d56f",
   "metadata": {},
   "outputs": [],
   "source": []
  },
  {
   "cell_type": "code",
   "execution_count": null,
   "id": "c67e5fb5",
   "metadata": {},
   "outputs": [],
   "source": []
  },
  {
   "cell_type": "markdown",
   "id": "920f0130",
   "metadata": {},
   "source": [
    "# Decision Tree event"
   ]
  },
  {
   "cell_type": "code",
   "execution_count": null,
   "id": "42c53b89",
   "metadata": {},
   "outputs": [],
   "source": [
    "def DecisionTreeEvent(X_train, y_train, X_val, y_val):\n",
    "\n",
    "\n",
    "    params={'max_depth': [8, 16, 32, 64, 128, None]}\n",
    "\n",
    "    tree_clf = DecisionTreeClassifier(random_state=42)\n",
    "    \n",
    "    grid = GridSearch(model=tree_clf, param_grid=params, parallelize=False)\n",
    "\n",
    "    grid.fit(X_train, y_train, X_val, y_val)\n",
    "    \n",
    "    return grid.best_estimator_\n",
    "\n"
   ]
  },
  {
   "cell_type": "code",
   "execution_count": null,
   "id": "216496ae",
   "metadata": {},
   "outputs": [],
   "source": [
    "dt_event = DecisionTreeEvent(X_train_event, y_train_event, X_val_event, y_val_event)"
   ]
  },
  {
   "cell_type": "code",
   "execution_count": null,
   "id": "f5e9e10b",
   "metadata": {},
   "outputs": [],
   "source": [
    "dt_event_train = dt_event.predict(X_train_event)\n",
    "dt_event_val = dt_event.predict(X_val_event)\n",
    "dt_event_test = dt_event.predict(X_test_event)"
   ]
  },
  {
   "cell_type": "code",
   "execution_count": null,
   "id": "0490346d",
   "metadata": {},
   "outputs": [],
   "source": [
    "print(dt_event.get_params())\n",
    "\n",
    "event_evaluation(y_train_event, dt_event_train, 'DT EVENT TRAIN')\n",
    "event_evaluation(y_val_event, dt_event_val, 'DT EVENT VAL')\n",
    "event_evaluation(y_test_event, dt_event_test, 'DT EVENT TEST')"
   ]
  },
  {
   "cell_type": "code",
   "execution_count": null,
   "id": "0a03cda4",
   "metadata": {},
   "outputs": [],
   "source": [
    "dt_event_features = dict(zip(features_event, dt_event.feature_importances_))\n",
    "\n",
    "dt_event_features"
   ]
  },
  {
   "cell_type": "code",
   "execution_count": null,
   "id": "60137484",
   "metadata": {},
   "outputs": [],
   "source": [
    "dt_event.get_depth()"
   ]
  },
  {
   "cell_type": "markdown",
   "id": "44cafbe4",
   "metadata": {},
   "source": [
    "# Decision tree time"
   ]
  },
  {
   "cell_type": "code",
   "execution_count": null,
   "id": "f4475895",
   "metadata": {},
   "outputs": [],
   "source": [
    "def DecisionTreeTime(X_train, y_train, X_val, y_val):\n",
    "\n",
    "    params={'max_depth': [8, 16, 32, 64, 128, None]}\n",
    "\n",
    "    tree_reg = DecisionTreeRegressor(random_state=42)\n",
    "    \n",
    "    grid = GridSearch(model=tree_reg, param_grid=params, parallelize=False)\n",
    "\n",
    "    grid.fit(X_train, y_train, X_val, y_val)\n",
    "    \n",
    "    return grid.best_estimator_\n",
    "\n"
   ]
  },
  {
   "cell_type": "code",
   "execution_count": null,
   "id": "a850da9e",
   "metadata": {},
   "outputs": [],
   "source": [
    "dt_time = DecisionTreeTime(X_train_time, y_train_time, X_val_time, y_val_time)"
   ]
  },
  {
   "cell_type": "code",
   "execution_count": null,
   "id": "733fd0c3",
   "metadata": {},
   "outputs": [],
   "source": [
    "dt_time_train = dt_time.predict(X_train_time)\n",
    "dt_time_val = dt_time.predict(X_val_time)\n",
    "dt_time_test = dt_time.predict(X_test_time)"
   ]
  },
  {
   "cell_type": "code",
   "execution_count": null,
   "id": "6772c9b4",
   "metadata": {},
   "outputs": [],
   "source": [
    "print(dt_time.get_params())\n",
    "\n",
    "time_evaluation(y_train_time, dt_time_train, 'DT TIME TRAIN')\n",
    "time_evaluation(y_val_time, dt_time_val, 'DT TIME VAL')\n",
    "time_evaluation(y_test_time, dt_time_test, 'DT TIME TEST')"
   ]
  },
  {
   "cell_type": "code",
   "execution_count": null,
   "id": "18fcf65b",
   "metadata": {},
   "outputs": [],
   "source": [
    "dt_time_features = dict(zip(features_time, dt_time.feature_importances_))\n",
    "\n",
    "dt_time_features\n",
    "\n",
    "# active cases is stronger here"
   ]
  },
  {
   "cell_type": "code",
   "execution_count": null,
   "id": "2a4ae8c9",
   "metadata": {},
   "outputs": [],
   "source": [
    "dt_time.get_depth()"
   ]
  },
  {
   "cell_type": "code",
   "execution_count": null,
   "id": "f7575aac",
   "metadata": {},
   "outputs": [],
   "source": []
  },
  {
   "cell_type": "markdown",
   "id": "8f00f27b",
   "metadata": {},
   "source": [
    "## Time, Memory and CPU usage"
   ]
  },
  {
   "cell_type": "markdown",
   "id": "dcf19112",
   "metadata": {},
   "source": [
    "### Memory and CPU usage"
   ]
  },
  {
   "cell_type": "code",
   "execution_count": null,
   "id": "1dd1100b",
   "metadata": {},
   "outputs": [],
   "source": [
    "import psutil\n",
    "import time\n",
    "\n",
    "# start measuring CPU and memory usage\n",
    "process = psutil.Process()\n",
    "\n",
    "# start point\n",
    "start_time = time.time()\n",
    "\n",
    "forest_event, y_pred_event = RandomForestEvents(X_train, X_test, y_train, y_test)\n",
    "event_evaluation(y_test['next_event'], y_pred_event, 'Random forest classifier')\n",
    "# forest_time, y_pred_time = RandomForestTime(X_train, X_test, y_train, y_test)\n",
    "# time_evaluation(y_test['next_timestamp'], y_pred_time, 'Random forest regressor')\n",
    "# end point\n",
    "end_time = time.time()\n",
    "\n",
    "# calculate time taken\n",
    "elapsed_time = end_time - start_time\n",
    "print(f\"Time taken: {elapsed_time:.2f} seconds\")\n",
    "\n",
    "# measure CPU and memory usage\n",
    "cpu_usage = process.cpu_percent()\n",
    "memory_usage = process.memory_info().rss / 1024 / 1024  # in MB\n",
    "print(f\"CPU usage: {cpu_usage:.2f}%\")\n",
    "print(f\"Memory usage: {memory_usage:.2f} MB\")"
   ]
  },
  {
   "cell_type": "markdown",
   "id": "f137ef97",
   "metadata": {},
   "source": [
    "### Time usage"
   ]
  },
  {
   "cell_type": "code",
   "execution_count": null,
   "id": "1fe49a4d",
   "metadata": {},
   "outputs": [],
   "source": [
    "start_time = time.time()\n",
    "\n",
    "# RandomForestEvents function\n",
    "forest_event, y_pred_event = RandomForestEvents(X_train, X_test, y_train, y_test)\n",
    "\n",
    "# event_evaluation function\n",
    "event_evaluation(y_test['next_event'], y_pred_event, 'Random forest classifier')\n",
    "\n",
    "print(f\"Time taken by RandomForestEvents: {time.time() - start_time} seconds\")\n",
    "\n",
    "start_time = time.time()\n",
    "\n",
    "# RandomForestTime function\n",
    "forest_time, y_pred_time = RandomForestTime(X_train, X_test, y_train, y_test)\n",
    "\n",
    "# # time_evaluation function\n",
    "# time_evaluation(y_test['next_timestamp'], y_pred_time, 'Random forest regressor')\n",
    "\n",
    "print(f\"Time taken by RandomForestTime: {time.time() - start_time} seconds\")"
   ]
  },
  {
   "cell_type": "markdown",
   "id": "df63fa04",
   "metadata": {},
   "source": [
    "# Visualizations"
   ]
  },
  {
   "cell_type": "markdown",
   "id": "7f09b391",
   "metadata": {},
   "source": [
    "### Confusion matrix for Random Forest estimator"
   ]
  },
  {
   "cell_type": "code",
   "execution_count": null,
   "id": "42b18b52",
   "metadata": {},
   "outputs": [],
   "source": [
    "cm = confusion_matrix(y_test['next_event'], y_pred_event, normalize='true')\n",
    "\n",
    "# plot confusion matrix as a heatmap\n",
    "sns.set(font_scale=1.2)\n",
    "fig, ax = plt.subplots(figsize=(10,8), facecolor='w')  # add facecolor attribute\n",
    "sns.heatmap(cm, fmt='g', cmap='RdBu_r', ax=ax, annot_kws={\"size\": 14})\n",
    "ax.set_xlabel('Predicted labels', fontsize=14)\n",
    "ax.set_ylabel('True labels', fontsize=14)\n",
    "ax.set_title('Confusion matrix for Random Forest estimator', fontsize=16)\n",
    "plt.show()"
   ]
  },
  {
   "cell_type": "markdown",
   "id": "d2af3518",
   "metadata": {},
   "source": [
    "### Naive and Random Forest estimators accuracy and precision"
   ]
  },
  {
   "cell_type": "code",
   "execution_count": null,
   "id": "6d3384ff",
   "metadata": {},
   "outputs": [],
   "source": [
    "# plot the naive and random forest f1, acc, pre, recall\n",
    "metrics_df = pd.DataFrame({\n",
    "    ' ': ['F1 Score', 'Accuracy', 'Precision', 'Recall'],\n",
    "    'Naive': ['0.266', '0.346', '0.297', '0.346'],\n",
    "    'Random Forest': ['0.748', '0.785', '0.772', '0.785']    \n",
    "})\n",
    "\n",
    "metrics_df.to_string(index=False)\n",
    "metrics_df"
   ]
  },
  {
   "cell_type": "markdown",
   "id": "fe91d61d",
   "metadata": {},
   "source": [
    "### Bar chart for feature importance of Random Forest event estimator"
   ]
  },
  {
   "cell_type": "code",
   "execution_count": null,
   "id": "7910c7a9",
   "metadata": {},
   "outputs": [],
   "source": [
    "import matplotlib.pyplot as plt\n",
    "\n",
    "# get feature importances and their names\n",
    "importances = forest_event.feature_importances_\n",
    "# feature_names = X_train.columns.values\n",
    "feature_names = ['Current event', 'Previous event', '2nd previous event']\n",
    "\n",
    "# sort the features by importance in descending order\n",
    "indices = np.argsort(importances)[::-1]\n",
    "sorted_importances = importances[indices]\n",
    "\n",
    "plt.figure(figsize=(10,6))\n",
    "plt.bar(feature_names, sorted_importances, color=['brown', 'green', 'blue'])\n",
    "plt.title('Feature Importances of Random Forest event estimator')\n",
    "plt.xlabel('Features')\n",
    "plt.xticks(rotation=0)\n",
    "plt.ylabel('Importance')\n",
    "plt.show()\n"
   ]
  },
  {
   "cell_type": "markdown",
   "id": "36265d20",
   "metadata": {},
   "source": [
    "### Bar chart feature importance Random Forest time estimator"
   ]
  },
  {
   "cell_type": "code",
   "execution_count": null,
   "id": "6ea6e2c8",
   "metadata": {},
   "outputs": [],
   "source": [
    "# get feature importances and their names\n",
    "importances = forest_time.feature_importances_\n",
    "feature_names = ['Current event time','Prev event time', 'Prev event', '2nd prev event', 'Current event']\n",
    "\n",
    "# sort the features by importance in descending order\n",
    "indices = np.argsort(importances)[::-1]\n",
    "sorted_importances = importances[indices]\n",
    "\n",
    "plt.figure(figsize=(10,6))\n",
    "plt.bar(feature_names, sorted_importances, color=['brown', 'green', 'blue', 'yellow'])\n",
    "plt.title('Feature Importances of Random Forest time estimator')\n",
    "plt.xlabel('Features')\n",
    "plt.xticks(rotation=0)\n",
    "plt.ylabel('Importance')\n",
    "plt.show()"
   ]
  },
  {
   "cell_type": "code",
   "execution_count": null,
   "id": "bd658085",
   "metadata": {},
   "outputs": [],
   "source": [
    "residual = pd.concat([y_test, pd.Series(y_pred_time)], axis=\"columns\", ignore_index=True)\n",
    "residual.columns = ['none','real','pred']\n",
    "residual['error']= residual['real']-residual['pred']\n",
    "\n",
    "sns.residplot(x='real', y='error', data=residual)\n"
   ]
  }
 ],
 "metadata": {
  "kernelspec": {
   "display_name": "Python 3 (ipykernel)",
   "language": "python",
   "name": "python3"
  },
  "language_info": {
   "codemirror_mode": {
    "name": "ipython",
    "version": 3
   },
   "file_extension": ".py",
   "mimetype": "text/x-python",
   "name": "python",
   "nbconvert_exporter": "python",
   "pygments_lexer": "ipython3",
   "version": "3.7.6"
  },
  "vscode": {
   "interpreter": {
    "hash": "369f2c481f4da34e4445cda3fffd2e751bd1c4d706f27375911949ba6bb62e1c"
   }
  }
 },
 "nbformat": 4,
 "nbformat_minor": 5
}
