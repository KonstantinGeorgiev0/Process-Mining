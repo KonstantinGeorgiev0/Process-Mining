{
 "cells": [
  {
   "cell_type": "code",
   "execution_count": 1,
   "id": "21d75de0",
   "metadata": {},
   "outputs": [],
   "source": [
    "import pandas as pd\n",
    "import numpy as np\n",
    "\n",
    "import seaborn as sns\n",
    "import matplotlib.pyplot as plt\n",
    "\n",
    "from sklearn.preprocessing import LabelEncoder, OrdinalEncoder\n",
    "from sklearn.metrics import mean_absolute_error, mean_squared_error, r2_score\n",
    "from sklearn.metrics import precision_score, recall_score, f1_score, accuracy_score, confusion_matrix\n",
    "from sklearn.ensemble import RandomForestClassifier, RandomForestRegressor\n",
    "from sklearn.tree import DecisionTreeClassifier, DecisionTreeRegressor\n",
    "from sklearn.linear_model import ElasticNet\n",
    "from sklearn.datasets import make_regression"
   ]
  },
  {
   "cell_type": "code",
   "execution_count": 2,
   "id": "37c42cc1",
   "metadata": {},
   "outputs": [],
   "source": [
    "train = pd.read_csv('preprocessed_train.csv')\n",
    "test = pd.read_csv('preprocessed_test.csv')"
   ]
  },
  {
   "cell_type": "markdown",
   "id": "264498c5",
   "metadata": {},
   "source": [
    "# remove last event for each case in order to not break the model when accessing the next event time + make predictions on seconds_next + do tuning (grid search, feature selection) and cv\n"
   ]
  },
  {
   "cell_type": "markdown",
   "id": "09cd6269",
   "metadata": {},
   "source": [
    "# Removing the last event from each case to reduce noise in the models"
   ]
  },
  {
   "cell_type": "code",
   "execution_count": 3,
   "id": "c5c776fa",
   "metadata": {},
   "outputs": [],
   "source": [
    "train.drop(train.groupby('case concept:name').tail(1).index, axis=0, inplace=True)\n",
    "test.drop(test.groupby('case concept:name').tail(1).index, axis=0, inplace=True)"
   ]
  },
  {
   "cell_type": "markdown",
   "id": "767dfcb0",
   "metadata": {},
   "source": [
    "# Evaluation\n"
   ]
  },
  {
   "cell_type": "code",
   "execution_count": 4,
   "id": "e3f49aad",
   "metadata": {},
   "outputs": [],
   "source": [
    "def time_evaluation(y_test, y_pred, model: str):\n",
    " \n",
    "    print(f\"Error metrics (measured in hours) for the {model} when predicting the next event's Unix timestamp\")\n",
    "    print('\\n')\n",
    "    print('Mean Absolute Error:', round(mean_absolute_error(y_test, y_pred)/3600,3))\n",
    "    print('Root Mean Squared Error:', round(np.sqrt(mean_squared_error(y_test, y_pred)/3600),3))\n",
    "    print('R2 score:', round(r2_score(y_test, y_pred),3))\n",
    "    \n",
    "    \n",
    "def event_evaluation(y_test, y_pred, model: str, avg=\"weighted\"):\n",
    "\n",
    "    precision = precision_score(y_test, y_pred, average=avg, zero_division=0)\n",
    "    recall = recall_score(y_test, y_pred, average=avg, zero_division=0)\n",
    "    F1_score = f1_score(y_test, y_pred, average=avg, zero_division=0)\n",
    "    accuracy = accuracy_score(y_test, y_pred)\n",
    "    \n",
    "    print(f'Error metrics for the {model} when predicting the next event')\n",
    "    print('\\n')\n",
    "    print(f'Accuracy: {round(accuracy,3)}.')\n",
    "    print(f'Precision: {round(precision,3)}')\n",
    "    print(f'Recall: {round(recall,3)}')\n",
    "    print(f'f1-score: {round(F1_score,3)}')\n",
    "#     print(confusion_matrix(y_test, y_pred))"
   ]
  },
  {
   "cell_type": "markdown",
   "id": "e3905cd0",
   "metadata": {},
   "source": [
    "# Data splitting and encoding"
   ]
  },
  {
   "cell_type": "code",
   "execution_count": 5,
   "id": "72f66db0",
   "metadata": {},
   "outputs": [],
   "source": [
    "def make_val_set(dataframe):\n",
    "    \"\"\"make a validation set from the dataframe\"\"\"\n",
    "    \n",
    "    #set seed for reproducibility\n",
    "    np.random.seed(69)\n",
    "    \n",
    "    #extract all unique case IDs\n",
    "    unique_ids = dataframe['case concept:name'].unique()\n",
    "    \n",
    "    #select 10% of the unique IDs and use them to create a validation set\n",
    "    samples = np.random.choice(unique_ids, size=int(len(unique_ids)*0.1), replace=False)\n",
    "    val_set = dataframe[dataframe['case concept:name'].isin(samples)]\n",
    "    \n",
    "    train = dataframe[~dataframe['case concept:name'].isin(samples)]\n",
    "    \n",
    "    return val_set, train"
   ]
  },
  {
   "cell_type": "code",
   "execution_count": 6,
   "id": "e1b9b8a9",
   "metadata": {},
   "outputs": [],
   "source": [
    "train_LE = train.copy()\n",
    "train_LE = train_LE.replace({'event lifecycle:transition': {'SCHEDULE': 0, 'START': 1, 'COMPLETE': 2}})\n",
    "\n",
    "test_LE = test.copy()\n",
    "test_LE = test_LE.replace({'event lifecycle:transition': {'SCHEDULE': 0, 'START': 1, 'COMPLETE': 2}})\n",
    "\n",
    "\n",
    "train_OHE = pd.get_dummies(train_LE, prefix = ['current', 'prev', '2prev'], \n",
    "                           columns = ['event concept:name', 'prev_event', '2prev_event'])\n",
    "test_OHE = pd.get_dummies(test_LE, prefix = ['current', 'prev', '2prev'], \n",
    "                          columns = ['event concept:name', 'prev_event', '2prev_event'])\n",
    "\n",
    "# train_OHE = pd.get_dummies(train_OHE, prefix=['type'], columns = ['prev_event'])\n",
    "# test_OHE = pd.get_dummies(test_OHE, prefix=['type'], columns = ['prev_event'])\n",
    "\n",
    "val_OHE, train_OHE = make_val_set(train_OHE)"
   ]
  },
  {
   "cell_type": "code",
   "execution_count": 7,
   "id": "d0027956",
   "metadata": {},
   "outputs": [
    {
     "data": {
      "text/plain": [
       "((146106, 95), (17148, 95), (49291, 91), (163254, 26), (49291, 26))"
      ]
     },
     "execution_count": 7,
     "metadata": {},
     "output_type": "execute_result"
    }
   ],
   "source": [
    "train_OHE.shape, val_OHE.shape, test_OHE.shape, train_LE.shape, test_LE.shape"
   ]
  },
  {
   "cell_type": "code",
   "execution_count": 8,
   "id": "61002119",
   "metadata": {},
   "outputs": [
    {
     "name": "stdout",
     "output_type": "stream",
     "text": [
      "events that happen in the train but not the test set: ['current_W_Wijzigen contractgegevens', 'prev_W_Wijzigen contractgegevens', '2prev_A_CANCELLED', '2prev_W_Wijzigen contractgegevens']\n"
     ]
    }
   ],
   "source": [
    "temp3 = []\n",
    "for element in list(train_OHE.columns):\n",
    "    if element not in list(test_OHE.columns):\n",
    "        temp3.append(element)\n",
    "print('events that happen in the train but not the test set: ' + str(temp3))\n",
    "\n"
   ]
  },
  {
   "cell_type": "code",
   "execution_count": 11,
   "id": "e9c442d8",
   "metadata": {},
   "outputs": [],
   "source": [
    "features_time = ['timestamp_finish', 'seconds_prev', 'active cases', 'day_week', 'time_of_day', \n",
    "                 'case AMOUNT_REQ', 'event lifecycle:transition', \n",
    "       'current_A_ACCEPTED', 'current_A_ACTIVATED', 'current_A_APPROVED',\n",
    "       'current_A_CANCELLED', 'current_A_DECLINED', 'current_A_FINALIZED',\n",
    "       'current_A_PARTLYSUBMITTED', 'current_A_PREACCEPTED',\n",
    "       'current_A_REGISTERED', 'current_A_SUBMITTED', 'current_O_ACCEPTED',\n",
    "       'current_O_CANCELLED', 'current_O_CREATED', 'current_O_DECLINED',\n",
    "       'current_O_SELECTED', 'current_O_SENT', 'current_O_SENT_BACK',\n",
    "       'current_W_Afhandelen leads', 'current_W_Beoordelen fraude',\n",
    "       'current_W_Completeren aanvraag',\n",
    "       'current_W_Nabellen incomplete dossiers', 'current_W_Nabellen offertes',\n",
    "       'current_W_Valideren aanvraag', 'current_W_Wijzigen contractgegevens']\n",
    "\n",
    "features_time_test = ['timestamp_finish', 'seconds_prev', 'active cases', 'day_week', 'time_of_day', \n",
    "                 'case AMOUNT_REQ', 'event lifecycle:transition', \n",
    "       'current_A_ACCEPTED', 'current_A_ACTIVATED', 'current_A_APPROVED',\n",
    "       'current_A_CANCELLED', 'current_A_DECLINED', 'current_A_FINALIZED',\n",
    "       'current_A_PARTLYSUBMITTED', 'current_A_PREACCEPTED',\n",
    "       'current_A_REGISTERED', 'current_A_SUBMITTED', 'current_O_ACCEPTED',\n",
    "       'current_O_CANCELLED', 'current_O_CREATED', 'current_O_DECLINED',\n",
    "       'current_O_SELECTED', 'current_O_SENT', 'current_O_SENT_BACK',\n",
    "       'current_W_Afhandelen leads', 'current_W_Beoordelen fraude',\n",
    "       'current_W_Completeren aanvraag',\n",
    "       'current_W_Nabellen incomplete dossiers', 'current_W_Nabellen offertes',\n",
    "       'current_W_Valideren aanvraag']\n",
    "\n",
    "target_time = 'seconds_next'\n",
    "\n",
    "features_event = ['active cases', 'day_week', 'time_of_day',  \n",
    "                  'event lifecycle:transition', 'case AMOUNT_REQ', \n",
    "       'current_A_ACCEPTED', 'current_A_ACTIVATED', 'current_A_APPROVED',\n",
    "       'current_A_CANCELLED', 'current_A_DECLINED', 'current_A_FINALIZED',\n",
    "       'current_A_PARTLYSUBMITTED', 'current_A_PREACCEPTED',\n",
    "       'current_A_REGISTERED', 'current_A_SUBMITTED', 'current_O_ACCEPTED',\n",
    "       'current_O_CANCELLED', 'current_O_CREATED', 'current_O_DECLINED',\n",
    "       'current_O_SELECTED', 'current_O_SENT', 'current_O_SENT_BACK',\n",
    "       'current_W_Afhandelen leads', 'current_W_Beoordelen fraude',\n",
    "       'current_W_Completeren aanvraag',\n",
    "       'current_W_Nabellen incomplete dossiers', 'current_W_Nabellen offertes',\n",
    "       'current_W_Valideren aanvraag', 'current_W_Wijzigen contractgegevens',\n",
    "       'prev_A_ACCEPTED', 'prev_A_ACTIVATED', 'prev_A_APPROVED',\n",
    "       'prev_A_CANCELLED', 'prev_A_DECLINED', 'prev_A_FINALIZED',\n",
    "       'prev_A_PARTLYSUBMITTED', 'prev_A_PREACCEPTED', 'prev_A_REGISTERED',\n",
    "       'prev_A_SUBMITTED', 'prev_FIRST EVENT', 'prev_O_ACCEPTED',\n",
    "       'prev_O_CANCELLED', 'prev_O_CREATED', 'prev_O_DECLINED',\n",
    "       'prev_O_SELECTED', 'prev_O_SENT', 'prev_O_SENT_BACK',\n",
    "       'prev_W_Afhandelen leads', 'prev_W_Beoordelen fraude',\n",
    "       'prev_W_Completeren aanvraag', 'prev_W_Nabellen incomplete dossiers',\n",
    "       'prev_W_Nabellen offertes', 'prev_W_Valideren aanvraag',\n",
    "       'prev_W_Wijzigen contractgegevens', '2prev_A_ACCEPTED',\n",
    "       '2prev_A_ACTIVATED', '2prev_A_APPROVED', '2prev_A_CANCELLED',\n",
    "       '2prev_A_FINALIZED', '2prev_A_PARTLYSUBMITTED', '2prev_A_PREACCEPTED',\n",
    "       '2prev_A_REGISTERED', '2prev_A_SUBMITTED', '2prev_FIRST EVENT',\n",
    "       '2prev_O_ACCEPTED', '2prev_O_CANCELLED', '2prev_O_CREATED',\n",
    "       '2prev_O_SELECTED', '2prev_O_SENT', '2prev_O_SENT_BACK',\n",
    "       '2prev_W_Afhandelen leads', '2prev_W_Beoordelen fraude',\n",
    "       '2prev_W_Completeren aanvraag', '2prev_W_Nabellen incomplete dossiers',\n",
    "       '2prev_W_Nabellen offertes', '2prev_W_Valideren aanvraag',\n",
    "       '2prev_W_Wijzigen contractgegevens']\n",
    "\n",
    "features_event_test = ['active cases', 'day_week', 'time_of_day',  \n",
    "                  'event lifecycle:transition', 'case AMOUNT_REQ', \n",
    "       'current_A_ACCEPTED', 'current_A_ACTIVATED', 'current_A_APPROVED',\n",
    "       'current_A_CANCELLED', 'current_A_DECLINED', 'current_A_FINALIZED',\n",
    "       'current_A_PARTLYSUBMITTED', 'current_A_PREACCEPTED',\n",
    "       'current_A_REGISTERED', 'current_A_SUBMITTED', 'current_O_ACCEPTED',\n",
    "       'current_O_CANCELLED', 'current_O_CREATED', 'current_O_DECLINED',\n",
    "       'current_O_SELECTED', 'current_O_SENT', 'current_O_SENT_BACK',\n",
    "       'current_W_Afhandelen leads', 'current_W_Beoordelen fraude',\n",
    "       'current_W_Completeren aanvraag',\n",
    "       'current_W_Nabellen incomplete dossiers', 'current_W_Nabellen offertes',\n",
    "       'current_W_Valideren aanvraag',\n",
    "       'prev_A_ACCEPTED', 'prev_A_ACTIVATED', 'prev_A_APPROVED',\n",
    "       'prev_A_CANCELLED', 'prev_A_DECLINED', 'prev_A_FINALIZED',\n",
    "       'prev_A_PARTLYSUBMITTED', 'prev_A_PREACCEPTED', 'prev_A_REGISTERED',\n",
    "       'prev_A_SUBMITTED', 'prev_FIRST EVENT', 'prev_O_ACCEPTED',\n",
    "       'prev_O_CANCELLED', 'prev_O_CREATED', 'prev_O_DECLINED',\n",
    "       'prev_O_SELECTED', 'prev_O_SENT', 'prev_O_SENT_BACK',\n",
    "       'prev_W_Afhandelen leads', 'prev_W_Beoordelen fraude',\n",
    "       'prev_W_Completeren aanvraag', 'prev_W_Nabellen incomplete dossiers',\n",
    "       'prev_W_Nabellen offertes', 'prev_W_Valideren aanvraag',\n",
    "       '2prev_A_ACCEPTED', '2prev_A_ACTIVATED', '2prev_A_APPROVED',\n",
    "       '2prev_A_FINALIZED', '2prev_A_PARTLYSUBMITTED', '2prev_A_PREACCEPTED',\n",
    "       '2prev_A_REGISTERED', '2prev_A_SUBMITTED', '2prev_FIRST EVENT',\n",
    "       '2prev_O_ACCEPTED', '2prev_O_CANCELLED', '2prev_O_CREATED',\n",
    "       '2prev_O_SELECTED', '2prev_O_SENT', '2prev_O_SENT_BACK',\n",
    "       '2prev_W_Afhandelen leads', '2prev_W_Beoordelen fraude',\n",
    "       '2prev_W_Completeren aanvraag', '2prev_W_Nabellen incomplete dossiers',\n",
    "       '2prev_W_Nabellen offertes', '2prev_W_Valideren aanvraag']\n",
    "\n",
    "target_event = 'next_event'\n",
    "\n",
    "\n",
    "# TIME\n",
    "X_train_time = train_OHE[features_time]\n",
    "y_train_time = train_OHE[target_time]\n",
    "\n",
    "X_val_time = val_OHE[features_time]\n",
    "y_val_time = val_OHE[target_time]\n",
    "\n",
    "X_test_time = test_OHE[features_time_test].copy()\n",
    "y_test_time = test_OHE[target_time]\n",
    "\n",
    "\n",
    "# EVENT\n",
    "X_train_event = train_OHE[features_event]\n",
    "y_train_event = train_OHE[target_event]\n",
    "\n",
    "X_val_event = val_OHE[features_event]\n",
    "y_val_event = val_OHE[target_event]\n",
    "\n",
    "X_test_event = test_OHE[features_event_test].copy()\n",
    "y_test_event = test_OHE[target_event]\n",
    "\n",
    "\n",
    "\n",
    "X_test_time['current_W_Wijzigen contractgegevens']=0\n",
    "X_test_event[['current_W_Wijzigen contractgegevens', 'prev_W_Wijzigen contractgegevens', '2prev_A_CANCELLED', '2prev_W_Wijzigen contractgegevens']]=0"
   ]
  },
  {
   "cell_type": "code",
   "execution_count": 12,
   "id": "a8a8a6df",
   "metadata": {},
   "outputs": [
    {
     "data": {
      "text/plain": [
       "((146106, 77), (146106, 31), (49291, 77), (49291, 31))"
      ]
     },
     "execution_count": 12,
     "metadata": {},
     "output_type": "execute_result"
    }
   ],
   "source": [
    "X_train_event.shape, X_train_time.shape, X_test_event.shape, X_test_time.shape"
   ]
  },
  {
   "cell_type": "markdown",
   "id": "13f4be7c",
   "metadata": {},
   "source": [
    "# Event prediction"
   ]
  },
  {
   "cell_type": "code",
   "execution_count": 27,
   "id": "ab9b0a28",
   "metadata": {},
   "outputs": [],
   "source": [
    "def RandomForestEvents(X_train, X_test, y_train, y_test):\n",
    "    '''no grid search, no cv, or feature selection, do for final model\n",
    "    '''\n",
    "    \n",
    "    forest_clf = RandomForestClassifier(n_estimators=60, bootstrap = False, criterion = 'gini', random_state=42)\n",
    "    forest_clf.fit(X_train_event, y_train_event)\n",
    "    \n",
    "    y_pred = forest_clf.predict(X_test_event)\n",
    "\n",
    "    return forest_clf, y_pred"
   ]
  },
  {
   "cell_type": "code",
   "execution_count": 25,
   "id": "238940c0",
   "metadata": {},
   "outputs": [],
   "source": [
    "forest_event, y_pred_event = RandomForestEvents(X_train_event, X_test_event, y_train_event, y_test_event)"
   ]
  },
  {
   "cell_type": "code",
   "execution_count": 26,
   "id": "dc211af2",
   "metadata": {
    "scrolled": true
   },
   "outputs": [
    {
     "name": "stdout",
     "output_type": "stream",
     "text": [
      "Error metrics for the Random forest classifier when predicting the next event\n",
      "\n",
      "\n",
      "Accuracy: 0.473.\n",
      "Precision: 0.495\n",
      "Recall: 0.473\n",
      "f1-score: 0.452\n"
     ]
    }
   ],
   "source": [
    "event_evaluation(y_test_event, y_pred_event, 'Random forest classifier')"
   ]
  },
  {
   "cell_type": "code",
   "execution_count": null,
   "id": "abeba324",
   "metadata": {},
   "outputs": [],
   "source": [
    "forest_event.feature_importances_\n",
    "# current + prev 2 events are all important"
   ]
  },
  {
   "cell_type": "markdown",
   "id": "21e560f4",
   "metadata": {},
   "source": [
    "# Time prediction"
   ]
  },
  {
   "cell_type": "code",
   "execution_count": null,
   "id": "2d5e0b14",
   "metadata": {},
   "outputs": [],
   "source": [
    "def RandomForestTime(X_train, X_test, y_train, y_test):\n",
    "    '''no grid search, no cv, or feature selection, do for final model\n",
    "    '''\n",
    "    \n",
    "    X_train_time = X_train[['event concept:name','prev_event', '2prev_event', 'seconds_prev', 'timestamp_finish']]\n",
    "    y_train_time = y_train['seconds_next']\n",
    "\n",
    "\n",
    "\n",
    "    X_test_time = X_test[['event concept:name','prev_event', '2prev_event', 'seconds_prev', 'timestamp_finish']]\n",
    "    y_test_time = y_test['seconds_next']\n",
    "    \n",
    "    forest_reg = RandomForestRegressor(n_estimators=10, bootstrap = False, random_state=42)\n",
    "    forest_reg.fit(X_train_time, y_train_time)\n",
    "    \n",
    "    y_pred = forest_reg.predict(X_test_time)\n",
    "\n",
    "    return forest_reg, y_pred"
   ]
  },
  {
   "cell_type": "code",
   "execution_count": null,
   "id": "eae65f1e",
   "metadata": {},
   "outputs": [],
   "source": [
    "forest_time, y_pred_time = RandomForestTime(X_train, X_test, y_train, y_test)"
   ]
  },
  {
   "cell_type": "code",
   "execution_count": null,
   "id": "44bc06a6",
   "metadata": {},
   "outputs": [],
   "source": [
    "time_evaluation(y_test=st['seconds_next'], y_pred_time, 'Random forest regressor')"
   ]
  },
  {
   "cell_type": "code",
   "execution_count": null,
   "id": "83234e16",
   "metadata": {},
   "outputs": [],
   "source": [
    "forest_time.feature_importances_\n",
    "# only the time of prev event seems to be important, great r2 score"
   ]
  },
  {
   "cell_type": "markdown",
   "id": "2b8336c2",
   "metadata": {},
   "source": [
    "# Decision tree event prediction"
   ]
  },
  {
   "cell_type": "code",
   "execution_count": null,
   "id": "7bab90a7",
   "metadata": {},
   "outputs": [],
   "source": [
    "def DecisionTreeEvents(X_train, X_test, y_train, y_test):\n",
    "    '''no grid search, no cv, or feature selection, do for final model\n",
    "    '''\n",
    "    \n",
    "    X_train_event = X_train[['event concept:name','prev_event', '2prev_event']]\n",
    "    y_train_event = y_train['next_event']\n",
    "\n",
    "    X_test_event = X_test[['event concept:name','prev_event', '2prev_event']]\n",
    "    y_test_event = y_test['next_event']\n",
    "    \n",
    "    dt_clf = DecisionTreeClassifier(random_state=42)\n",
    "    dt_clf.fit(X_train_event, y_train_event)\n",
    "    \n",
    "    y_pred = dt_clf.predict(X_test_event)\n",
    "\n",
    "    return dt_clf, y_pred\n",
    "\n",
    "dt_event, y_pred_dt_event = DecisionTreeEvents(X_train, X_test, y_train, y_test)\n",
    "event_evaluation(y_test['next_event'], y_pred_dt_event, 'Decision tree classifier')\n",
    "\n",
    "# calculate feature importances\n",
    "feature_importances_dt_event = dt_event.feature_importances_\n",
    "\n",
    "feature_names_dt_event = ['event concept:name', 'prev_event', '2prev_event']\n",
    "for feature_name_dt_event, importance_dt_event in zip(feature_names_dt_event, feature_importances_dt_event):\n",
    "    print(f\"{feature_name_dt_event}: {importance_dt_event:.4f}\")"
   ]
  },
  {
   "cell_type": "code",
   "execution_count": null,
   "id": "5b871553",
   "metadata": {},
   "outputs": [],
   "source": [
    "def feature_dt_event(importances_dt_event, feature_names_dt_event, title='Feature Importances DT event prediction'):\n",
    "    \"\"\"\n",
    "    Plot a bar chart of feature importances for the decision tree model for event prediction.\n",
    "    \"\"\"\n",
    "\n",
    "    plt.figure(figsize=(8, 6))\n",
    "    plt.bar(feature_names_dt_event, importances_dt_event, color=['brown', 'green', 'blue', 'yellow'])\n",
    "    plt.xlabel('Features')\n",
    "    plt.ylabel('Importance')\n",
    "    plt.title(title)\n",
    "    plt.show()\n",
    "\n",
    "# Plot the feature importances for the Decision Tree model\n",
    "feature_dt_event(feature_importances_dt_event, feature_names_dt_event, title='Decision Tree Feature Importances')\n"
   ]
  },
  {
   "cell_type": "code",
   "execution_count": null,
   "id": "1f7816f7",
   "metadata": {},
   "outputs": [],
   "source": [
    "cm_dt = confusion_matrix(y_test['next_event'], y_pred_dt_event, normalize='true')\n",
    "\n",
    "# plot confusion matrix as a heatmap\n",
    "sns.set(font_scale=1.2)\n",
    "fig, ax = plt.subplots(figsize=(10, 8), facecolor='w')\n",
    "sns.heatmap(cm_dt, fmt='.2f', cmap='RdBu_r', ax=ax, annot_kws={\"size\": 14}, annot=False)\n",
    "ax.set_xlabel('Predicted labels', fontsize=14)\n",
    "ax.set_ylabel('True labels', fontsize=14)\n",
    "ax.set_title('Confusion matrix for Decision Tree estimator', fontsize=16)\n",
    "plt.show()\n"
   ]
  },
  {
   "cell_type": "markdown",
   "id": "920f0130",
   "metadata": {},
   "source": [
    "# Decision Tree time prediction"
   ]
  },
  {
   "cell_type": "code",
   "execution_count": null,
   "id": "42c53b89",
   "metadata": {},
   "outputs": [],
   "source": [
    "from sklearn.tree import DecisionTreeRegressor\n",
    "\n",
    "def DecisionTreeTime(X_train, X_test, y_train, y_test):\n",
    "    '''no grid search, no cv, or feature selection, do for final model\n",
    "    '''\n",
    "    \n",
    "    X_train_time = X_train[['event concept:name','prev_event', '2prev_event', 'seconds_prev', 'timestamp_finish']]\n",
    "    y_train_time = y_train['seconds_next']\n",
    "\n",
    "    X_test_time = X_test[['event concept:name','prev_event', '2prev_event', 'seconds_prev', 'timestamp_finish']]\n",
    "    y_test_time = y_test['seconds_next']\n",
    "    \n",
    "    dt_reg = DecisionTreeRegressor(random_state=42)\n",
    "    dt_reg.fit(X_train_time, y_train_time)\n",
    "    \n",
    "    y_pred = dt_reg.predict(X_test_time)\n",
    "\n",
    "    return dt_reg, y_pred\n",
    "\n",
    "dt_time, y_pred_dt_time = DecisionTreeTime(X_train, X_test, y_train, y_test)\n",
    "time_evaluation(y_test['seconds_next'], y_pred_dt_time, 'Decision tree regressor')\n"
   ]
  },
  {
   "cell_type": "code",
   "execution_count": null,
   "id": "3af51612",
   "metadata": {},
   "outputs": [],
   "source": [
    "# get feature importances and their names\n",
    "feature_importances_dt_time = dt_time.feature_importances_\n",
    "feature_names_dt_time = ['seconds_prev', 'timestamp_finish', 'prev_event', 'event concept:name', '2prev_event']\n",
    "\n",
    "# sort the features by importance in descending order\n",
    "inx = np.argsort(feature_importances_dt_time)[::-1]\n",
    "sorted_imp_dt_time = feature_importances_dt_time[inx]\n",
    "\n",
    "plt.figure(figsize=(10, 8))\n",
    "plt.bar(feature_names_dt_time, sorted_imp_dt_time, color=['brown', 'green', 'blue', 'yellow'])\n",
    "plt.xticks(rotation=10)\n",
    "plt.title('Feature Importances of Decision tree time estimator')\n",
    "plt.xlabel('Features')\n",
    "plt.ylabel('Importance')\n",
    "plt.show()"
   ]
  },
  {
   "cell_type": "markdown",
   "id": "8f00f27b",
   "metadata": {},
   "source": [
    "## Time, Memory and CPU usage"
   ]
  },
  {
   "cell_type": "markdown",
   "id": "dcf19112",
   "metadata": {},
   "source": [
    "### Memory and CPU usage"
   ]
  },
  {
   "cell_type": "code",
   "execution_count": null,
   "id": "1dd1100b",
   "metadata": {},
   "outputs": [],
   "source": [
    "import psutil\n",
    "import time\n",
    "\n",
    "# start measuring CPU and memory usage\n",
    "process = psutil.Process()\n",
    "\n",
    "# start point\n",
    "start_time = time.time()\n",
    "\n",
    "forest_event, y_pred_event = RandomForestEvents(X_train, X_test, y_train, y_test)\n",
    "event_evaluation(y_test['next_event'], y_pred_event, 'Random forest classifier')\n",
    "# forest_time, y_pred_time = RandomForestTime(X_train, X_test, y_train, y_test)\n",
    "# time_evaluation(y_test['next_timestamp'], y_pred_time, 'Random forest regressor')\n",
    "# end point\n",
    "end_time = time.time()\n",
    "\n",
    "# calculate time taken\n",
    "elapsed_time = end_time - start_time\n",
    "print(f\"Time taken: {elapsed_time:.2f} seconds\")\n",
    "\n",
    "# measure CPU and memory usage\n",
    "cpu_usage = process.cpu_percent()\n",
    "memory_usage = process.memory_info().rss / 1024 / 1024  # in MB\n",
    "print(f\"CPU usage: {cpu_usage:.2f}%\")\n",
    "print(f\"Memory usage: {memory_usage:.2f} MB\")"
   ]
  },
  {
   "cell_type": "markdown",
   "id": "f137ef97",
   "metadata": {},
   "source": [
    "### Time usage"
   ]
  },
  {
   "cell_type": "code",
   "execution_count": null,
   "id": "1fe49a4d",
   "metadata": {},
   "outputs": [],
   "source": [
    "start_time = time.time()\n",
    "\n",
    "# RandomForestEvents function\n",
    "forest_event, y_pred_event = RandomForestEvents(X_train, X_test, y_train, y_test)\n",
    "\n",
    "# event_evaluation function\n",
    "event_evaluation(y_test['next_event'], y_pred_event, 'Random forest classifier')\n",
    "\n",
    "print(f\"Time taken by RandomForestEvents: {time.time() - start_time} seconds\")\n",
    "\n",
    "start_time = time.time()\n",
    "\n",
    "# RandomForestTime function\n",
    "forest_time, y_pred_time = RandomForestTime(X_train, X_test, y_train, y_test)\n",
    "\n",
    "# # time_evaluation function\n",
    "# time_evaluation(y_test['next_timestamp'], y_pred_time, 'Random forest regressor')\n",
    "\n",
    "print(f\"Time taken by RandomForestTime: {time.time() - start_time} seconds\")"
   ]
  },
  {
   "cell_type": "markdown",
   "id": "df63fa04",
   "metadata": {},
   "source": [
    "# Visualizations"
   ]
  },
  {
   "cell_type": "markdown",
   "id": "7f09b391",
   "metadata": {},
   "source": [
    "### Confusion matrix for Random Forest estimator"
   ]
  },
  {
   "cell_type": "code",
   "execution_count": null,
   "id": "42b18b52",
   "metadata": {},
   "outputs": [],
   "source": [
    "cm = confusion_matrix(y_test['next_event'], y_pred_event, normalize='true')\n",
    "\n",
    "# plot confusion matrix as a heatmap\n",
    "sns.set(font_scale=1.2)\n",
    "fig, ax = plt.subplots(figsize=(10,8), facecolor='w')  # add facecolor attribute\n",
    "sns.heatmap(cm, fmt='g', cmap='RdBu_r', ax=ax, annot_kws={\"size\": 14})\n",
    "ax.set_xlabel('Predicted labels', fontsize=14)\n",
    "ax.set_ylabel('True labels', fontsize=14)\n",
    "ax.set_title('Confusion matrix for Random Forest estimator', fontsize=16)\n",
    "plt.show()"
   ]
  },
  {
   "cell_type": "markdown",
   "id": "d2af3518",
   "metadata": {},
   "source": [
    "### Naive and Random Forest estimators accuracy and precision"
   ]
  },
  {
   "cell_type": "code",
   "execution_count": null,
   "id": "6d3384ff",
   "metadata": {},
   "outputs": [],
   "source": [
    "# plot the naive and random forest f1, acc, pre, recall\n",
    "metrics_df = pd.DataFrame({\n",
    "    ' ': ['F1 Score', 'Accuracy', 'Precision', 'Recall'],\n",
    "    'Naive': ['0.266', '0.346', '0.297', '0.346'],\n",
    "    'Random Forest': ['0.748', '0.785', '0.772', '0.785']    \n",
    "})\n",
    "\n",
    "metrics_df.to_string(index=False)\n",
    "metrics_df"
   ]
  },
  {
   "cell_type": "markdown",
   "id": "fe91d61d",
   "metadata": {},
   "source": [
    "### Bar chart for feature importance of Random Forest event estimator"
   ]
  },
  {
   "cell_type": "code",
   "execution_count": null,
   "id": "7910c7a9",
   "metadata": {},
   "outputs": [],
   "source": [
    "import matplotlib.pyplot as plt\n",
    "\n",
    "# get feature importances and their names\n",
    "importances = forest_event.feature_importances_\n",
    "# feature_names = X_train.columns.values\n",
    "feature_names = ['Current event', 'Previous event', '2nd previous event']\n",
    "\n",
    "# sort the features by importance in descending order\n",
    "indices = np.argsort(importances)[::-1]\n",
    "sorted_importances = importances[indices]\n",
    "\n",
    "plt.figure(figsize=(10,6))\n",
    "plt.bar(feature_names, sorted_importances, color=['brown', 'green', 'blue'])\n",
    "plt.title('Feature Importances of Random Forest event estimator')\n",
    "plt.xlabel('Features')\n",
    "plt.xticks(rotation=0)\n",
    "plt.ylabel('Importance')\n",
    "plt.show()\n"
   ]
  },
  {
   "cell_type": "markdown",
   "id": "36265d20",
   "metadata": {},
   "source": [
    "### Bar chart feature importance Random Forest time estimator"
   ]
  },
  {
   "cell_type": "code",
   "execution_count": null,
   "id": "6ea6e2c8",
   "metadata": {},
   "outputs": [],
   "source": [
    "# get feature importances and their names\n",
    "importances = forest_time.feature_importances_\n",
    "feature_names = ['Current event time','Prev event time', 'Prev event', '2nd prev event', 'Current event']\n",
    "\n",
    "# sort the features by importance in descending order\n",
    "indices = np.argsort(importances)[::-1]\n",
    "sorted_importances = importances[indices]\n",
    "\n",
    "plt.figure(figsize=(10,6))\n",
    "plt.bar(feature_names, sorted_importances, color=['brown', 'green', 'blue', 'yellow'])\n",
    "plt.title('Feature Importances of Random Forest time estimator')\n",
    "plt.xlabel('Features')\n",
    "plt.xticks(rotation=0)\n",
    "plt.ylabel('Importance')\n",
    "plt.show()"
   ]
  },
  {
   "cell_type": "code",
   "execution_count": null,
   "id": "bd658085",
   "metadata": {},
   "outputs": [],
   "source": [
    "residual = pd.concat([y_test, pd.Series(y_pred_time)], axis=\"columns\", ignore_index=True)\n",
    "residual.columns = ['none','real','pred']\n",
    "residual['error']= residual['real']-residual['pred']\n",
    "\n",
    "sns.residplot(x='real', y='error', data=residual)\n"
   ]
  }
 ],
 "metadata": {
  "kernelspec": {
   "display_name": "Python 3 (ipykernel)",
   "language": "python",
   "name": "python3"
  },
  "language_info": {
   "codemirror_mode": {
    "name": "ipython",
    "version": 3
   },
   "file_extension": ".py",
   "mimetype": "text/x-python",
   "name": "python",
   "nbconvert_exporter": "python",
   "pygments_lexer": "ipython3",
   "version": "3.7.6"
  },
  "vscode": {
   "interpreter": {
    "hash": "369f2c481f4da34e4445cda3fffd2e751bd1c4d706f27375911949ba6bb62e1c"
   }
  }
 },
 "nbformat": 4,
 "nbformat_minor": 5
}
