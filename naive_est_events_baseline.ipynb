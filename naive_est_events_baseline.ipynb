{
 "cells": [
  {
   "cell_type": "markdown",
   "metadata": {},
   "source": [
    "# **1. EDA**\n",
    "Performing initial investigations on the transformed data so as to discover patterns, to spot anomalies, to test hypothesis and to check assumptions with the help of summary statistics and graphical representations."
   ]
  },
  {
   "cell_type": "markdown",
   "metadata": {},
   "source": [
    "# **2. Initialization**\n",
    "Here is where you load all the dependencies required for the good execution of (most of) the notebook. Here is where you load your libraries and instantiate your functions/classes. Here is where you load the data/models/pipelines that are going to be used in the notebook."
   ]
  },
  {
   "cell_type": "markdown",
   "metadata": {},
   "source": [
    "## **2.1 Loading libraries**"
   ]
  },
  {
   "cell_type": "code",
   "execution_count": 1,
   "metadata": {},
   "outputs": [],
   "source": [
    "import numpy as np\n",
    "import pandas as pd\n",
    "\n",
    "import time, datetime"
   ]
  },
  {
   "cell_type": "markdown",
   "metadata": {},
   "source": [
    "## **2.3 Loading data**"
   ]
  },
  {
   "cell_type": "code",
   "execution_count": 2,
   "metadata": {},
   "outputs": [],
   "source": [
    "df = pd.read_csv('preprocessed_train.csv')\n",
    "test = pd.read_csv('preprocessed_test.csv')\n",
    "df['event time:timestamp'] =  pd.to_datetime(df['event time:timestamp'])\n",
    "\n",
    "#df.drop(columns = ['eventID '], inplace=True) # Drop eventID"
   ]
  },
  {
   "cell_type": "markdown",
   "metadata": {},
   "source": [
    "## **2.2 Functions**"
   ]
  },
  {
   "cell_type": "markdown",
   "metadata": {},
   "source": [
    "# **4 Naive estimators **\n",
    "\n"
   ]
  },
  {
   "cell_type": "code",
   "execution_count": 3,
   "metadata": {},
   "outputs": [],
   "source": [
    "case_ids=df[\"case concept:name\"].unique()\n",
    "event_types=df[\"event concept:name\"].unique()"
   ]
  },
  {
   "cell_type": "code",
   "execution_count": 4,
   "metadata": {},
   "outputs": [],
   "source": [
    "def make_dict(event_types):\n",
    "    fn={}\n",
    "    cnt={}\n",
    "    bk={}\n",
    "    for j in event_types:\n",
    "        cnt[j]=0\n",
    "    for j in event_types:\n",
    "        fn[j]=cnt\n",
    "    return fn\n",
    "info=make_dict(event_types)       \n",
    "    "
   ]
  },
  {
   "cell_type": "code",
   "execution_count": 5,
   "metadata": {},
   "outputs": [
    {
     "name": "stdout",
     "output_type": "stream",
     "text": [
      "Check next_event column in df\n"
     ]
    },
    {
     "data": {
      "text/html": [
       "<div>\n",
       "<style scoped>\n",
       "    .dataframe tbody tr th:only-of-type {\n",
       "        vertical-align: middle;\n",
       "    }\n",
       "\n",
       "    .dataframe tbody tr th {\n",
       "        vertical-align: top;\n",
       "    }\n",
       "\n",
       "    .dataframe thead th {\n",
       "        text-align: right;\n",
       "    }\n",
       "</style>\n",
       "<table border=\"1\" class=\"dataframe\">\n",
       "  <thead>\n",
       "    <tr style=\"text-align: right;\">\n",
       "      <th></th>\n",
       "      <th>event concept:name</th>\n",
       "      <th>next_event</th>\n",
       "    </tr>\n",
       "  </thead>\n",
       "  <tbody>\n",
       "    <tr>\n",
       "      <th>0</th>\n",
       "      <td>A_SUBMITTED</td>\n",
       "      <td>A_PARTLYSUBMITTED</td>\n",
       "    </tr>\n",
       "    <tr>\n",
       "      <th>1</th>\n",
       "      <td>A_PARTLYSUBMITTED</td>\n",
       "      <td>W_Afhandelen leads</td>\n",
       "    </tr>\n",
       "    <tr>\n",
       "      <th>2</th>\n",
       "      <td>A_PREACCEPTED</td>\n",
       "      <td>W_Afhandelen leads</td>\n",
       "    </tr>\n",
       "    <tr>\n",
       "      <th>3</th>\n",
       "      <td>W_Completeren aanvraag</td>\n",
       "      <td>W_Completeren aanvraag</td>\n",
       "    </tr>\n",
       "    <tr>\n",
       "      <th>4</th>\n",
       "      <td>W_Completeren aanvraag</td>\n",
       "      <td>W_Completeren aanvraag</td>\n",
       "    </tr>\n",
       "  </tbody>\n",
       "</table>\n",
       "</div>"
      ],
      "text/plain": [
       "       event concept:name              next_event\n",
       "0             A_SUBMITTED       A_PARTLYSUBMITTED\n",
       "1       A_PARTLYSUBMITTED      W_Afhandelen leads\n",
       "2           A_PREACCEPTED      W_Afhandelen leads\n",
       "3  W_Completeren aanvraag  W_Completeren aanvraag\n",
       "4  W_Completeren aanvraag  W_Completeren aanvraag"
      ]
     },
     "execution_count": 5,
     "metadata": {},
     "output_type": "execute_result"
    }
   ],
   "source": [
    "case_ids=df[\"case concept:name\"].unique()\n",
    "def can():  #helper fucntion of naive_est\n",
    "    fn={} #key position , value most popular event for this position\n",
    "    dx=df[[\"index\",'position',\"event concept:name\"]].groupby([\"position\",\"event concept:name\"]).count().reset_index()\n",
    "    m=df[\"position\"].unique()\n",
    "    for pos in m:\n",
    "        val=dx[dx[\"position\"]==pos][\"index\"].idxmax()\n",
    "        pop=dx[dx[\"position\"]==pos][\"event concept:name\"][val]\n",
    "        fn[pos]=pop\n",
    "    return fn\n",
    "\n",
    "\n",
    "def  naive_est(case_ids):\n",
    "    db=can()\n",
    "    def predict(x):\n",
    "        try:\n",
    "            return db[x+1]\n",
    "        except KeyError:\n",
    "                return db[x]\n",
    "    \n",
    "    df[\"next_event\"]= df[\"position\"].apply(predict)\n",
    "    \n",
    "    print(\"Check next_event column in df\")\n",
    "    example_df= df[df[\"case concept:name\"]==case_ids[0]]\n",
    "    return  example_df[[\"event concept:name\",'next_event']].head(5)\n",
    "naive_est(case_ids)    "
   ]
  },
  {
   "cell_type": "code",
   "execution_count": 6,
   "metadata": {},
   "outputs": [],
   "source": [
    "#After this VIS PART"
   ]
  },
  {
   "cell_type": "code",
   "execution_count": 7,
   "metadata": {},
   "outputs": [
    {
     "data": {
      "text/plain": [
       "0     1\n",
       "1     2\n",
       "2    21\n",
       "3    21\n",
       "4     4\n",
       "Name: label_ypred, dtype: int64"
      ]
     },
     "execution_count": 7,
     "metadata": {},
     "output_type": "execute_result"
    }
   ],
   "source": [
    "mp={ j:index+1 for index, j in enumerate(event_types)}\n",
    "\n",
    "def label_event(x):\n",
    "    try:\n",
    "        return mp[x]\n",
    "    except KeyError:\n",
    "        return 1\n",
    "df[\"label_y\"]= df[\"event concept:name\"].apply(label_event)\n",
    "df[\"label_ypred\"]= df[\"next_event\"].shift(1).apply(label_event)\n",
    "df[\"label_ypred\"].head()"
   ]
  },
  {
   "cell_type": "code",
   "execution_count": 8,
   "metadata": {},
   "outputs": [
    {
     "data": {
      "text/html": [
       "<div>\n",
       "<style scoped>\n",
       "    .dataframe tbody tr th:only-of-type {\n",
       "        vertical-align: middle;\n",
       "    }\n",
       "\n",
       "    .dataframe tbody tr th {\n",
       "        vertical-align: top;\n",
       "    }\n",
       "\n",
       "    .dataframe thead th {\n",
       "        text-align: right;\n",
       "    }\n",
       "</style>\n",
       "<table border=\"1\" class=\"dataframe\">\n",
       "  <thead>\n",
       "    <tr style=\"text-align: right;\">\n",
       "      <th></th>\n",
       "      <th>resu</th>\n",
       "      <th>pred</th>\n",
       "    </tr>\n",
       "  </thead>\n",
       "  <tbody>\n",
       "    <tr>\n",
       "      <th>0</th>\n",
       "      <td>1</td>\n",
       "      <td>1</td>\n",
       "    </tr>\n",
       "    <tr>\n",
       "      <th>1</th>\n",
       "      <td>1</td>\n",
       "      <td>1</td>\n",
       "    </tr>\n",
       "    <tr>\n",
       "      <th>2</th>\n",
       "      <td>0</td>\n",
       "      <td>0</td>\n",
       "    </tr>\n",
       "    <tr>\n",
       "      <th>3</th>\n",
       "      <td>0</td>\n",
       "      <td>0</td>\n",
       "    </tr>\n",
       "    <tr>\n",
       "      <th>4</th>\n",
       "      <td>1</td>\n",
       "      <td>1</td>\n",
       "    </tr>\n",
       "  </tbody>\n",
       "</table>\n",
       "</div>"
      ],
      "text/plain": [
       "   resu  pred\n",
       "0     1     1\n",
       "1     1     1\n",
       "2     0     0\n",
       "3     0     0\n",
       "4     1     1"
      ]
     },
     "execution_count": 8,
     "metadata": {},
     "output_type": "execute_result"
    }
   ],
   "source": [
    "y_actu = df[\"label_y\"] \n",
    "y_pred = df[\"label_ypred\"]\n",
    "\n",
    "new_df=pd.DataFrame()\n",
    "new_df[\"resu\"]=y_actu.eq(y_pred)\n",
    "new_df[\"pred\"]=y_pred\n",
    "\n",
    "def rev(x):\n",
    "    if x==False:\n",
    "        return 0\n",
    "    if x==True:\n",
    "        return 1\n",
    "new_df[\"pred\"]= new_df[\"resu\"].apply(rev)\n",
    "new_df[\"resu\"]=new_df[\"resu\"].apply(rev)\n",
    "new_df.head()"
   ]
  },
  {
   "cell_type": "code",
   "execution_count": 9,
   "metadata": {},
   "outputs": [
    {
     "name": "stdout",
     "output_type": "stream",
     "text": [
      "156860 0 0 82926\n"
     ]
    },
    {
     "data": {
      "text/html": [
       "<div>\n",
       "<style scoped>\n",
       "    .dataframe tbody tr th:only-of-type {\n",
       "        vertical-align: middle;\n",
       "    }\n",
       "\n",
       "    .dataframe tbody tr th {\n",
       "        vertical-align: top;\n",
       "    }\n",
       "\n",
       "    .dataframe thead th {\n",
       "        text-align: right;\n",
       "    }\n",
       "</style>\n",
       "<table border=\"1\" class=\"dataframe\">\n",
       "  <thead>\n",
       "    <tr style=\"text-align: right;\">\n",
       "      <th></th>\n",
       "      <th>TP</th>\n",
       "      <th>TN</th>\n",
       "    </tr>\n",
       "  </thead>\n",
       "  <tbody>\n",
       "    <tr>\n",
       "      <th>TP</th>\n",
       "      <td>82926</td>\n",
       "      <td>0</td>\n",
       "    </tr>\n",
       "    <tr>\n",
       "      <th>TN</th>\n",
       "      <td>0</td>\n",
       "      <td>156860</td>\n",
       "    </tr>\n",
       "  </tbody>\n",
       "</table>\n",
       "</div>"
      ],
      "text/plain": [
       "       TP      TN\n",
       "TP  82926       0\n",
       "TN      0  156860"
      ]
     },
     "execution_count": 9,
     "metadata": {},
     "output_type": "execute_result"
    }
   ],
   "source": [
    "#confusion matrix\n",
    "from sklearn.metrics import confusion_matrix\n",
    "tn, fp, fn, tp = confusion_matrix(new_df[\"resu\"],new_df[\"pred\"], labels=[0, 1]).ravel()\n",
    "print(tn, fp, fn, tp) \n",
    "\n",
    "sm= { \"TP\":[tp,0], \"TN\":[0,tn]}\n",
    "dm= pd.DataFrame(sm,index=[\"TP\",\"TN\"])\n",
    "dm"
   ]
  },
  {
   "cell_type": "code",
   "execution_count": 10,
   "metadata": {},
   "outputs": [
    {
     "data": {
      "text/plain": [
       "Text(0.5, 0, 'Accuracy')"
      ]
     },
     "execution_count": 10,
     "metadata": {},
     "output_type": "execute_result"
    },
    {
     "data": {
      "image/png": "[encoded data removed]",
      "text/plain": [
       "<Figure size 576x576 with 1 Axes>"
      ]
     },
     "metadata": {
      "needs_background": "light"
     },
     "output_type": "display_data"
    }
   ],
   "source": [
    "#plot acc per label\n",
    "acc_label={}\n",
    "for label in range(1,25):\n",
    "    curr= df[df[\"label_y\"]==label]\n",
    "    y= curr[\"label_y\"]\n",
    "    yhat= curr[\"label_ypred\"]\n",
    "    p= y.eq(yhat).sum()\n",
    "    psize= curr[\"label_y\"].size\n",
    "    acc_label[label]=  p/psize\n",
    "    \n",
    "    \n",
    "\n",
    "pm= {mp[key]:key for key in mp}\n",
    "fn_vis= {pm[key]: acc_label[key] for key in acc_label }\n",
    "\n",
    "ax =pd.DataFrame(fn_vis,index=[\"acc\"]).stack().plot(kind=\"barh\",figsize=(8,8))\n",
    "ax.set_xlabel(\"Accuracy\")  "
   ]
  },
  {
   "cell_type": "code",
   "execution_count": 11,
   "metadata": {},
   "outputs": [
    {
     "name": "stderr",
     "output_type": "stream",
     "text": [
      "C:\\Users\\build\\anaconda3\\envs\\labroom\\lib\\site-packages\\sklearn\\metrics\\_classification.py:1334: UndefinedMetricWarning: Precision is ill-defined and being set to 0.0 in labels with no predicted samples. Use `zero_division` parameter to control this behavior.\n",
      "  _warn_prf(average, modifier, msg_start, len(result))\n"
     ]
    },
    {
     "data": {
      "text/html": [
       "<div>\n",
       "<style scoped>\n",
       "    .dataframe tbody tr th:only-of-type {\n",
       "        vertical-align: middle;\n",
       "    }\n",
       "\n",
       "    .dataframe tbody tr th {\n",
       "        vertical-align: top;\n",
       "    }\n",
       "\n",
       "    .dataframe thead th {\n",
       "        text-align: right;\n",
       "    }\n",
       "</style>\n",
       "<table border=\"1\" class=\"dataframe\">\n",
       "  <thead>\n",
       "    <tr style=\"text-align: right;\">\n",
       "      <th></th>\n",
       "      <th>MSE</th>\n",
       "      <th>f1_score</th>\n",
       "      <th>Accurary</th>\n",
       "      <th>Precision</th>\n",
       "      <th>Recall</th>\n",
       "    </tr>\n",
       "  </thead>\n",
       "  <tbody>\n",
       "    <tr>\n",
       "      <th>baseline</th>\n",
       "      <td>65.718436</td>\n",
       "      <td>0.266303</td>\n",
       "      <td>0.345833</td>\n",
       "      <td>0.296982</td>\n",
       "      <td>0.345833</td>\n",
       "    </tr>\n",
       "  </tbody>\n",
       "</table>\n",
       "</div>"
      ],
      "text/plain": [
       "                MSE  f1_score  Accurary  Precision    Recall\n",
       "baseline  65.718436  0.266303  0.345833   0.296982  0.345833"
      ]
     },
     "execution_count": 11,
     "metadata": {},
     "output_type": "execute_result"
    }
   ],
   "source": [
    "#other stats baseline model\n",
    "from sklearn.metrics import mean_squared_error\n",
    "from sklearn.metrics import f1_score\n",
    "from sklearn.metrics import precision_score\n",
    "from sklearn.metrics import recall_score\n",
    "    \n",
    "\n",
    "mse=mean_squared_error(df[\"label_y\"], df[\"label_ypred\"])\n",
    "f1=f1_score(df[\"label_y\"], df[\"label_ypred\"], average='weighted')\n",
    "glob_acc= (df[\"label_y\"].eq(df[\"label_ypred\"])).sum() /df[\"label_y\"].size\n",
    "pre =  precision_score(df[\"label_y\"], df[\"label_ypred\"], average='weighted')\n",
    "recall=recall_score(df[\"label_y\"], df[\"label_ypred\"], average='weighted')\n",
    "df_stats= pd.DataFrame( {\"MSE\":mse, \"f1_score\":f1, \"Accurary\":glob_acc,\"Precision\":pre,\"Recall\":recall},index=[\"baseline\"])\n",
    "\n",
    "df_stats"
   ]
  },
  {
   "cell_type": "code",
   "execution_count": null,
   "metadata": {},
   "outputs": [],
   "source": []
  }
 ],
 "metadata": {
  "kernelspec": {
   "display_name": "Python 3 (ipykernel)",
   "language": "python",
   "name": "python3"
  },
  "language_info": {
   "codemirror_mode": {
    "name": "ipython",
    "version": 3
   },
   "file_extension": ".py",
   "mimetype": "text/x-python",
   "name": "python",
   "nbconvert_exporter": "python",
   "pygments_lexer": "ipython3",
   "version": "3.9.12"
  },
  "vscode": {
   "interpreter": {
    "hash": "e8ecf3d1b7816c8a562bac795b7c2fee9a5e529b79bc3cd729516b279b05f6b8"
   }
  }
 },
 "nbformat": 4,
 "nbformat_minor": 2
}
